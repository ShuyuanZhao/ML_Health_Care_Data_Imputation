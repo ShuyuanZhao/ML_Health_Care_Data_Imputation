{
 "cells": [
  {
   "cell_type": "code",
   "execution_count": 2,
   "metadata": {
    "collapsed": true
   },
   "outputs": [],
   "source": [
    "import numpy as np\n",
    "import pandas as pd\n",
    "import matplotlib.pyplot as plt\n",
    "import seaborn as sns\n",
    "import re\n",
    "import collections\n",
    "import plotly \n",
    "import plotly.plotly as py\n",
    "import plotly.graph_objs as go\n",
    "%matplotlib inline"
   ]
  },
  {
   "cell_type": "code",
   "execution_count": 3,
   "metadata": {
    "collapsed": true
   },
   "outputs": [],
   "source": [
    "from _helper import checking_missing, correlation_analysis, series_to_freq"
   ]
  },
  {
   "cell_type": "code",
   "execution_count": 3,
   "metadata": {
    "collapsed": true
   },
   "outputs": [],
   "source": [
    "# plotly.tools.set_credentials_file(username='ShuyuanZhao', api_key='QlHttzgXOdXCz2U1EbOD')"
   ]
  },
  {
   "cell_type": "markdown",
   "metadata": {},
   "source": [
    "# Load dataset"
   ]
  },
  {
   "cell_type": "code",
   "execution_count": 4,
   "metadata": {},
   "outputs": [
    {
     "name": "stdout",
     "output_type": "stream",
     "text": [
      "Loading data...\n",
      "Data is loaded\n"
     ]
    }
   ],
   "source": [
    "print('Loading data...')\n",
    "df = pd.read_csv(\"../../MLProject/data_train.csv\")\n",
    "print('Data is loaded')\n",
    "# print('The shape of data_train is:',df.shape)\n",
    "# print(\"Summary of the basic information about this DataFrame and its data:\")\n",
    "# print(df.info())"
   ]
  },
  {
   "cell_type": "code",
   "execution_count": 6,
   "metadata": {
    "collapsed": true
   },
   "outputs": [],
   "source": [
    "# df.head(3)"
   ]
  },
  {
   "cell_type": "markdown",
   "metadata": {},
   "source": [
    "# Exploring training data"
   ]
  },
  {
   "cell_type": "code",
   "execution_count": 5,
   "metadata": {
    "collapsed": true
   },
   "outputs": [],
   "source": [
    "target_columns = ['ASOURCE','ATYPE','RACE','ZIPINC_QRTL','TOTCHG']\n",
    "CM_columns = []\n",
    "DXCCS_columns = []\n",
    "PRCCS_columns = []\n",
    "PRDAY_columns = []\n",
    "HOSP_columns = []\n",
    "other_columns = []\n",
    "for col in df.columns:\n",
    "    if re.match('^CM',col):\n",
    "        CM_columns.append(col)\n",
    "    elif re.match('^DXCCS',col):\n",
    "        DXCCS_columns.append(col)\n",
    "    elif re.match('^PRCCS',col):\n",
    "        PRCCS_columns.append(col)\n",
    "    elif re.match('^PRDAY',col):\n",
    "        PRDAY_columns.append(col)\n",
    "    elif re.match('^HOSP',col):\n",
    "        HOSP_columns.append(col)\n",
    "    elif col not in target_columns:\n",
    "        other_columns.append(col)"
   ]
  },
  {
   "cell_type": "code",
   "execution_count": 77,
   "metadata": {
    "collapsed": true
   },
   "outputs": [],
   "source": [
    "# for i in other_columns:\n",
    "#     print(i)"
   ]
  },
  {
   "cell_type": "markdown",
   "metadata": {},
   "source": [
    "## Target variables"
   ]
  },
  {
   "cell_type": "code",
   "execution_count": 53,
   "metadata": {
    "collapsed": true
   },
   "outputs": [],
   "source": [
    "ASOURCE_freq_table = series_to_freq(df['ASOURCE'])\n",
    "ATYPE_freq_table = series_to_freq(df['ATYPE'])\n",
    "RACE_freq_table = series_to_freq(df['RACE'])\n",
    "ZIPINC_QRTL_freq_table = series_to_freq(df['ZIPINC_QRTL'])"
   ]
  },
  {
   "cell_type": "code",
   "execution_count": 65,
   "metadata": {},
   "outputs": [
    {
     "name": "stdout",
     "output_type": "stream",
     "text": [
      "Frequency table of ASOURCE:\n"
     ]
    },
    {
     "data": {
      "text/html": [
       "<div>\n",
       "<style>\n",
       "    .dataframe thead tr:only-child th {\n",
       "        text-align: right;\n",
       "    }\n",
       "\n",
       "    .dataframe thead th {\n",
       "        text-align: left;\n",
       "    }\n",
       "\n",
       "    .dataframe tbody tr th {\n",
       "        vertical-align: top;\n",
       "    }\n",
       "</style>\n",
       "<table border=\"1\" class=\"dataframe\">\n",
       "  <thead>\n",
       "    <tr style=\"text-align: right;\">\n",
       "      <th></th>\n",
       "      <th>category</th>\n",
       "      <th>frequence</th>\n",
       "    </tr>\n",
       "  </thead>\n",
       "  <tbody>\n",
       "    <tr>\n",
       "      <th>3</th>\n",
       "      <td>1</td>\n",
       "      <td>125221</td>\n",
       "    </tr>\n",
       "    <tr>\n",
       "      <th>0</th>\n",
       "      <td>2</td>\n",
       "      <td>17353</td>\n",
       "    </tr>\n",
       "    <tr>\n",
       "      <th>2</th>\n",
       "      <td>3</td>\n",
       "      <td>14479</td>\n",
       "    </tr>\n",
       "    <tr>\n",
       "      <th>4</th>\n",
       "      <td>4</td>\n",
       "      <td>124</td>\n",
       "    </tr>\n",
       "    <tr>\n",
       "      <th>1</th>\n",
       "      <td>5</td>\n",
       "      <td>337755</td>\n",
       "    </tr>\n",
       "  </tbody>\n",
       "</table>\n",
       "</div>"
      ],
      "text/plain": [
       "   category  frequence\n",
       "3         1     125221\n",
       "0         2      17353\n",
       "2         3      14479\n",
       "4         4        124\n",
       "1         5     337755"
      ]
     },
     "execution_count": 65,
     "metadata": {},
     "output_type": "execute_result"
    }
   ],
   "source": [
    "print('Frequency table of ASOURCE:')\n",
    "ASOURCE_freq_table.sort_values('category')"
   ]
  },
  {
   "cell_type": "code",
   "execution_count": 68,
   "metadata": {},
   "outputs": [
    {
     "name": "stdout",
     "output_type": "stream",
     "text": [
      "Frequency table of ATYPE:\n"
     ]
    },
    {
     "data": {
      "text/html": [
       "<div>\n",
       "<style>\n",
       "    .dataframe thead tr:only-child th {\n",
       "        text-align: right;\n",
       "    }\n",
       "\n",
       "    .dataframe thead th {\n",
       "        text-align: left;\n",
       "    }\n",
       "\n",
       "    .dataframe tbody tr th {\n",
       "        vertical-align: top;\n",
       "    }\n",
       "</style>\n",
       "<table border=\"1\" class=\"dataframe\">\n",
       "  <thead>\n",
       "    <tr style=\"text-align: right;\">\n",
       "      <th></th>\n",
       "      <th>category</th>\n",
       "      <th>frequence</th>\n",
       "    </tr>\n",
       "  </thead>\n",
       "  <tbody>\n",
       "    <tr>\n",
       "      <th>2</th>\n",
       "      <td>1</td>\n",
       "      <td>262596</td>\n",
       "    </tr>\n",
       "    <tr>\n",
       "      <th>0</th>\n",
       "      <td>2</td>\n",
       "      <td>89669</td>\n",
       "    </tr>\n",
       "    <tr>\n",
       "      <th>1</th>\n",
       "      <td>3</td>\n",
       "      <td>110777</td>\n",
       "    </tr>\n",
       "    <tr>\n",
       "      <th>3</th>\n",
       "      <td>4</td>\n",
       "      <td>30489</td>\n",
       "    </tr>\n",
       "    <tr>\n",
       "      <th>4</th>\n",
       "      <td>5</td>\n",
       "      <td>691</td>\n",
       "    </tr>\n",
       "    <tr>\n",
       "      <th>5</th>\n",
       "      <td>6</td>\n",
       "      <td>710</td>\n",
       "    </tr>\n",
       "  </tbody>\n",
       "</table>\n",
       "</div>"
      ],
      "text/plain": [
       "   category  frequence\n",
       "2         1     262596\n",
       "0         2      89669\n",
       "1         3     110777\n",
       "3         4      30489\n",
       "4         5        691\n",
       "5         6        710"
      ]
     },
     "execution_count": 68,
     "metadata": {},
     "output_type": "execute_result"
    }
   ],
   "source": [
    "print('Frequency table of ATYPE:')\n",
    "ATYPE_freq_table.sort_values('category')"
   ]
  },
  {
   "cell_type": "code",
   "execution_count": 69,
   "metadata": {},
   "outputs": [
    {
     "name": "stdout",
     "output_type": "stream",
     "text": [
      "Frequency table of RACE:\n"
     ]
    },
    {
     "data": {
      "text/html": [
       "<div>\n",
       "<style>\n",
       "    .dataframe thead tr:only-child th {\n",
       "        text-align: right;\n",
       "    }\n",
       "\n",
       "    .dataframe thead th {\n",
       "        text-align: left;\n",
       "    }\n",
       "\n",
       "    .dataframe tbody tr th {\n",
       "        vertical-align: top;\n",
       "    }\n",
       "</style>\n",
       "<table border=\"1\" class=\"dataframe\">\n",
       "  <thead>\n",
       "    <tr style=\"text-align: right;\">\n",
       "      <th></th>\n",
       "      <th>category</th>\n",
       "      <th>frequence</th>\n",
       "    </tr>\n",
       "  </thead>\n",
       "  <tbody>\n",
       "    <tr>\n",
       "      <th>0</th>\n",
       "      <td>1</td>\n",
       "      <td>338808</td>\n",
       "    </tr>\n",
       "    <tr>\n",
       "      <th>1</th>\n",
       "      <td>2</td>\n",
       "      <td>87641</td>\n",
       "    </tr>\n",
       "    <tr>\n",
       "      <th>2</th>\n",
       "      <td>3</td>\n",
       "      <td>41343</td>\n",
       "    </tr>\n",
       "    <tr>\n",
       "      <th>5</th>\n",
       "      <td>4</td>\n",
       "      <td>6912</td>\n",
       "    </tr>\n",
       "    <tr>\n",
       "      <th>4</th>\n",
       "      <td>5</td>\n",
       "      <td>763</td>\n",
       "    </tr>\n",
       "    <tr>\n",
       "      <th>3</th>\n",
       "      <td>6</td>\n",
       "      <td>19465</td>\n",
       "    </tr>\n",
       "  </tbody>\n",
       "</table>\n",
       "</div>"
      ],
      "text/plain": [
       "   category  frequence\n",
       "0         1     338808\n",
       "1         2      87641\n",
       "2         3      41343\n",
       "5         4       6912\n",
       "4         5        763\n",
       "3         6      19465"
      ]
     },
     "execution_count": 69,
     "metadata": {},
     "output_type": "execute_result"
    }
   ],
   "source": [
    "print('Frequency table of RACE:')\n",
    "RACE_freq_table.sort_values('category')"
   ]
  },
  {
   "cell_type": "code",
   "execution_count": 71,
   "metadata": {},
   "outputs": [
    {
     "name": "stdout",
     "output_type": "stream",
     "text": [
      "Frequency table of ZIPINC_QRTL:\n"
     ]
    },
    {
     "data": {
      "text/html": [
       "<div>\n",
       "<style>\n",
       "    .dataframe thead tr:only-child th {\n",
       "        text-align: right;\n",
       "    }\n",
       "\n",
       "    .dataframe thead th {\n",
       "        text-align: left;\n",
       "    }\n",
       "\n",
       "    .dataframe tbody tr th {\n",
       "        vertical-align: top;\n",
       "    }\n",
       "</style>\n",
       "<table border=\"1\" class=\"dataframe\">\n",
       "  <thead>\n",
       "    <tr style=\"text-align: right;\">\n",
       "      <th></th>\n",
       "      <th>category</th>\n",
       "      <th>frequence</th>\n",
       "    </tr>\n",
       "  </thead>\n",
       "  <tbody>\n",
       "    <tr>\n",
       "      <th>1</th>\n",
       "      <td>1</td>\n",
       "      <td>129168</td>\n",
       "    </tr>\n",
       "    <tr>\n",
       "      <th>2</th>\n",
       "      <td>2</td>\n",
       "      <td>87081</td>\n",
       "    </tr>\n",
       "    <tr>\n",
       "      <th>0</th>\n",
       "      <td>3</td>\n",
       "      <td>113707</td>\n",
       "    </tr>\n",
       "    <tr>\n",
       "      <th>3</th>\n",
       "      <td>4</td>\n",
       "      <td>164976</td>\n",
       "    </tr>\n",
       "  </tbody>\n",
       "</table>\n",
       "</div>"
      ],
      "text/plain": [
       "   category  frequence\n",
       "1         1     129168\n",
       "2         2      87081\n",
       "0         3     113707\n",
       "3         4     164976"
      ]
     },
     "execution_count": 71,
     "metadata": {},
     "output_type": "execute_result"
    }
   ],
   "source": [
    "print('Frequency table of ZIPINC_QRTL:')\n",
    "ZIPINC_QRTL_freq_table.sort_values('category')"
   ]
  },
  {
   "cell_type": "code",
   "execution_count": 52,
   "metadata": {},
   "outputs": [
    {
     "data": {
      "image/png": "[encoded data removed]",
      "text/plain": [
       "<matplotlib.figure.Figure at 0x11372a908>"
      ]
     },
     "metadata": {},
     "output_type": "display_data"
    }
   ],
   "source": [
    "plt.figure(1)\n",
    "plt.subplot(511)\n",
    "sns.distplot(df['ASOURCE'],kde=False)\n",
    "plt.title('Histograms of ASOURCE')\n",
    "\n",
    "plt.subplot(512)\n",
    "sns.distplot(df['ATYPE'],kde=False)\n",
    "plt.title('Histograms of ATYPE')\n",
    "\n",
    "plt.subplot(513)\n",
    "sns.distplot(df['RACE'],kde=False)\n",
    "plt.title('Histograms of RACE')\n",
    "\n",
    "plt.subplot(514)\n",
    "sns.distplot(df['ZIPINC_QRTL'],kde=False)\n",
    "plt.title('Histograms of ZIPINC_QRTL')\n",
    "\n",
    "plt.subplot(515)\n",
    "sns.distplot(df['TOTCHG'],kde=True)\n",
    "plt.title('Histograms of TOTCHG')\n",
    "\n",
    "plt.subplots_adjust(top=3.00, bottom=0.50, left=0.10, right=0.95, hspace=0.80,\n",
    "                    wspace=0.45)"
   ]
  },
  {
   "cell_type": "code",
   "execution_count": 22,
   "metadata": {
    "collapsed": true
   },
   "outputs": [],
   "source": [
    "# Pie chart of ASOURCE\n",
    "# freq_table = series_to_freq(df['ASOURCE'])\n",
    "# trace = go.Pie(labels=freq_table.iloc[:,0], values=freq_table.iloc[:,1])\n",
    "# py.iplot([trace], filename='basic_pie_chart')"
   ]
  },
  {
   "cell_type": "code",
   "execution_count": 23,
   "metadata": {
    "collapsed": true
   },
   "outputs": [],
   "source": [
    "# Pie chart of ZIPINC_QRTL\n",
    "# freq_table = series_to_freq(df['ZIPINC_QRTL'])\n",
    "# trace = go.Pie(labels=freq_table.iloc[:,0], values=freq_table.iloc[:,1])\n",
    "# py.iplot([trace], filename='basic_pie_chart')"
   ]
  },
  {
   "cell_type": "code",
   "execution_count": 74,
   "metadata": {
    "collapsed": true
   },
   "outputs": [],
   "source": [
    "sub_target = df.loc[:,target_columns]"
   ]
  },
  {
   "cell_type": "code",
   "execution_count": 76,
   "metadata": {},
   "outputs": [
    {
     "name": "stdout",
     "output_type": "stream",
     "text": [
      "There is no missing value...\n"
     ]
    }
   ],
   "source": [
    "missing_target = checking_missing(sub_target,False)"
   ]
  },
  {
   "cell_type": "code",
   "execution_count": null,
   "metadata": {
    "collapsed": true
   },
   "outputs": [],
   "source": []
  },
  {
   "cell_type": "markdown",
   "metadata": {},
   "source": [
    "## other_columns"
   ]
  },
  {
   "cell_type": "code",
   "execution_count": 44,
   "metadata": {},
   "outputs": [
    {
     "name": "stdout",
     "output_type": "stream",
     "text": [
      "Listing other columns...\n",
      "['AGE', 'AMONTH', 'AWEEKEND', 'DIED', 'DISCWT', 'DISPUNIFORM', 'DQTR', 'FEMALE', 'KEY', 'LOS', 'MDC', 'NDX', 'NIS_STRATUM', 'NPR', 'ORPROC', 'PAY1', 'TOTAL_DISC']\n",
      "The shape of the subset is: (494932, 17)\n"
     ]
    }
   ],
   "source": [
    "sub_others = df.loc[:,other_columns]\n",
    "print('Listing other columns...')\n",
    "print(other_columns)\n",
    "print('The shape of the subset is:',sub_others.shape)"
   ]
  },
  {
   "cell_type": "code",
   "execution_count": 14,
   "metadata": {},
   "outputs": [
    {
     "name": "stdout",
     "output_type": "stream",
     "text": [
      "The number of missing value for AGE is: 34 , 0.01 %\n",
      "The number of missing value for AMONTH is: 2 , 0.00 %\n",
      "The number of missing value for AWEEKEND is: 2 , 0.00 %\n",
      "The number of missing value for DIED is: 536 , 0.11 %\n",
      "The number of missing value for DISPUNIFORM is: 536 , 0.11 %\n",
      "The number of missing value for FEMALE is: 14 , 0.00 %\n",
      "The number of missing value for LOS is: 14 , 0.00 %\n",
      "The number of missing value for PAY1 is: 203 , 0.04 %\n"
     ]
    }
   ],
   "source": [
    "# checking missing values\n",
    "missing_others = checking_missing(sub_others,False)"
   ]
  },
  {
   "cell_type": "code",
   "execution_count": 54,
   "metadata": {},
   "outputs": [
    {
     "data": {
      "text/plain": [
       "<matplotlib.axes._subplots.AxesSubplot at 0x12e86c978>"
      ]
     },
     "execution_count": 54,
     "metadata": {},
     "output_type": "execute_result"
    },
    {
     "data": {
      "image/png": "[encoded data removed]",
      "text/plain": [
       "<matplotlib.figure.Figure at 0x12af7da20>"
      ]
     },
     "metadata": {},
     "output_type": "display_data"
    }
   ],
   "source": [
    "df.loc[:,['AGE']].plot.box()"
   ]
  },
  {
   "cell_type": "code",
   "execution_count": 56,
   "metadata": {},
   "outputs": [
    {
     "data": {
      "text/plain": [
       "<matplotlib.axes._subplots.AxesSubplot at 0x12d137be0>"
      ]
     },
     "execution_count": 56,
     "metadata": {},
     "output_type": "execute_result"
    },
    {
     "data": {
      "image/png": "[encoded data removed]",
      "text/plain": [
       "<matplotlib.figure.Figure at 0x110e09ba8>"
      ]
     },
     "metadata": {},
     "output_type": "display_data"
    }
   ],
   "source": [
    "df.loc[:,['AMONTH']].plot.box()"
   ]
  },
  {
   "cell_type": "code",
   "execution_count": 63,
   "metadata": {},
   "outputs": [
    {
     "name": "stdout",
     "output_type": "stream",
     "text": [
      "DIED:\n",
      "   category  frequence\n",
      "0       0.0     484319\n",
      "1       1.0      10077\n",
      "2     999.0        536\n"
     ]
    }
   ],
   "source": [
    "print('DIED:')\n",
    "print(series_to_freq(df['DIED'].fillna(999)))"
   ]
  },
  {
   "cell_type": "code",
   "execution_count": 65,
   "metadata": {},
   "outputs": [
    {
     "name": "stdout",
     "output_type": "stream",
     "text": [
      "DISPUNIFORM:\n",
      "   category  frequence\n",
      "0       1.0     326018\n",
      "1       6.0      58872\n",
      "2       5.0      76064\n",
      "3      20.0      10077\n",
      "4       2.0      15757\n",
      "5       7.0       7581\n",
      "6      99.0         27\n",
      "7     999.0        536\n"
     ]
    }
   ],
   "source": [
    "print('DISPUNIFORM:')\n",
    "print(series_to_freq(df['DISPUNIFORM'].fillna(999)))"
   ]
  },
  {
   "cell_type": "code",
   "execution_count": 74,
   "metadata": {},
   "outputs": [],
   "source": [
    "# print('LOS:')\n",
    "# print(series_to_freq(df['LOS'].fillna(999)))"
   ]
  },
  {
   "cell_type": "code",
   "execution_count": 69,
   "metadata": {},
   "outputs": [
    {
     "name": "stdout",
     "output_type": "stream",
     "text": [
      "PAY1:\n",
      "   category  frequence\n",
      "0       6.0      17545\n",
      "1       1.0     205433\n",
      "2       3.0     154404\n",
      "3       2.0      95038\n",
      "4       4.0      20614\n",
      "5     999.0        203\n",
      "6       5.0       1695\n"
     ]
    }
   ],
   "source": [
    "print('PAY1:')\n",
    "print(series_to_freq(df['PAY1'].fillna(999)))"
   ]
  },
  {
   "cell_type": "code",
   "execution_count": 79,
   "metadata": {},
   "outputs": [
    {
     "data": {
      "image/png": "[encoded data removed]",
      "text/plain": [
       "<matplotlib.figure.Figure at 0x1133ee7f0>"
      ]
     },
     "metadata": {},
     "output_type": "display_data"
    }
   ],
   "source": [
    "# print the heatmap of feature correlations\n",
    "target = ['ASOURCE','ATYPE','RACE','TOTCHG','ZIPINC_QRTL']\n",
    "source = other_columns\n",
    "other_columns_correlation = correlation_analysis(df, target, source)"
   ]
  },
  {
   "cell_type": "code",
   "execution_count": 82,
   "metadata": {
    "collapsed": true
   },
   "outputs": [],
   "source": [
    "# sub_others.head(50)"
   ]
  },
  {
   "cell_type": "markdown",
   "metadata": {},
   "source": [
    "## PRDAY_columns"
   ]
  },
  {
   "cell_type": "code",
   "execution_count": 84,
   "metadata": {},
   "outputs": [
    {
     "name": "stdout",
     "output_type": "stream",
     "text": [
      "Listing prday columns...\n",
      "['PRDAY1', 'PRDAY2', 'PRDAY3', 'PRDAY4', 'PRDAY5', 'PRDAY6', 'PRDAY7', 'PRDAY8', 'PRDAY9', 'PRDAY10', 'PRDAY11', 'PRDAY12', 'PRDAY13', 'PRDAY14', 'PRDAY15']\n",
      "The shape of the subset is: (494932, 15)\n"
     ]
    }
   ],
   "source": [
    "sub_prday = df.loc[:,PRDAY_columns]\n",
    "print('Listing prday columns...')\n",
    "print(PRDAY_columns)\n",
    "print('The shape of the subset is:',sub_prday.shape)"
   ]
  },
  {
   "cell_type": "code",
   "execution_count": 9,
   "metadata": {},
   "outputs": [
    {
     "name": "stdout",
     "output_type": "stream",
     "text": [
      "The number of missing value for PRDAY1 is: 196285 , 39.66 %\n",
      "The number of missing value for PRDAY2 is: 322902 , 65.24 %\n",
      "The number of missing value for PRDAY3 is: 394795 , 79.77 %\n",
      "The number of missing value for PRDAY4 is: 432454 , 87.38 %\n",
      "The number of missing value for PRDAY5 is: 453270 , 91.58 %\n",
      "The number of missing value for PRDAY6 is: 466802 , 94.32 %\n",
      "The number of missing value for PRDAY7 is: 478445 , 96.67 %\n",
      "The number of missing value for PRDAY8 is: 484064 , 97.80 %\n",
      "The number of missing value for PRDAY9 is: 487770 , 98.55 %\n",
      "The number of missing value for PRDAY10 is: 489878 , 98.98 %\n",
      "The number of missing value for PRDAY11 is: 491303 , 99.27 %\n",
      "The number of missing value for PRDAY12 is: 492670 , 99.54 %\n",
      "The number of missing value for PRDAY13 is: 493213 , 99.65 %\n",
      "The number of missing value for PRDAY14 is: 493614 , 99.73 %\n",
      "The number of missing value for PRDAY15 is: 493959 , 99.80 %\n"
     ]
    }
   ],
   "source": [
    "# checking missing values\n",
    "missing_prday = checking_missing(sub_prday,False)"
   ]
  },
  {
   "cell_type": "code",
   "execution_count": 10,
   "metadata": {
    "collapsed": true
   },
   "outputs": [],
   "source": [
    "# sub_prday.describe()"
   ]
  },
  {
   "cell_type": "code",
   "execution_count": 85,
   "metadata": {},
   "outputs": [
    {
     "name": "stderr",
     "output_type": "stream",
     "text": [
      "/Users/Shuyuan/anaconda/lib/python3.6/site-packages/statsmodels/nonparametric/kde.py:454: RuntimeWarning:\n",
      "\n",
      "invalid value encountered in greater\n",
      "\n",
      "/Users/Shuyuan/anaconda/lib/python3.6/site-packages/statsmodels/nonparametric/kde.py:454: RuntimeWarning:\n",
      "\n",
      "invalid value encountered in less\n",
      "\n"
     ]
    },
    {
     "data": {
      "image/png": "[encoded data removed]",
      "text/plain": [
       "<matplotlib.figure.Figure at 0x1137ae2e8>"
      ]
     },
     "metadata": {},
     "output_type": "display_data"
    }
   ],
   "source": [
    "# Fit and plot a univariate or bivariate kernel density estimate.\n",
    "sns.kdeplot(df[PRDAY_columns[0]],label = 'PRDAY1')\n",
    "sns.kdeplot(df[PRDAY_columns[1]],label = 'PRDAY2')\n",
    "sns.kdeplot(df[PRDAY_columns[2]],label = 'PRDAY3')\n",
    "plt.legend();"
   ]
  },
  {
   "cell_type": "code",
   "execution_count": 86,
   "metadata": {},
   "outputs": [
    {
     "data": {
      "text/html": [
       "<div>\n",
       "<style>\n",
       "    .dataframe thead tr:only-child th {\n",
       "        text-align: right;\n",
       "    }\n",
       "\n",
       "    .dataframe thead th {\n",
       "        text-align: left;\n",
       "    }\n",
       "\n",
       "    .dataframe tbody tr th {\n",
       "        vertical-align: top;\n",
       "    }\n",
       "</style>\n",
       "<table border=\"1\" class=\"dataframe\">\n",
       "  <thead>\n",
       "    <tr style=\"text-align: right;\">\n",
       "      <th></th>\n",
       "      <th>PRDAY1</th>\n",
       "      <th>PRDAY2</th>\n",
       "      <th>PRDAY3</th>\n",
       "      <th>PRDAY4</th>\n",
       "      <th>PRDAY5</th>\n",
       "      <th>PRDAY6</th>\n",
       "      <th>PRDAY7</th>\n",
       "      <th>PRDAY8</th>\n",
       "      <th>PRDAY9</th>\n",
       "      <th>PRDAY10</th>\n",
       "      <th>PRDAY11</th>\n",
       "      <th>PRDAY12</th>\n",
       "      <th>PRDAY13</th>\n",
       "      <th>PRDAY14</th>\n",
       "      <th>PRDAY15</th>\n",
       "    </tr>\n",
       "  </thead>\n",
       "  <tbody>\n",
       "    <tr>\n",
       "      <th>0</th>\n",
       "      <td>37.0</td>\n",
       "      <td>37.0</td>\n",
       "      <td>37.0</td>\n",
       "      <td>37.0</td>\n",
       "      <td>1.0</td>\n",
       "      <td>29.0</td>\n",
       "      <td>38.0</td>\n",
       "      <td>NaN</td>\n",
       "      <td>NaN</td>\n",
       "      <td>NaN</td>\n",
       "      <td>NaN</td>\n",
       "      <td>NaN</td>\n",
       "      <td>NaN</td>\n",
       "      <td>NaN</td>\n",
       "      <td>NaN</td>\n",
       "    </tr>\n",
       "    <tr>\n",
       "      <th>1</th>\n",
       "      <td>4.0</td>\n",
       "      <td>4.0</td>\n",
       "      <td>0.0</td>\n",
       "      <td>2.0</td>\n",
       "      <td>3.0</td>\n",
       "      <td>3.0</td>\n",
       "      <td>7.0</td>\n",
       "      <td>7.0</td>\n",
       "      <td>NaN</td>\n",
       "      <td>NaN</td>\n",
       "      <td>NaN</td>\n",
       "      <td>NaN</td>\n",
       "      <td>NaN</td>\n",
       "      <td>NaN</td>\n",
       "      <td>NaN</td>\n",
       "    </tr>\n",
       "    <tr>\n",
       "      <th>2</th>\n",
       "      <td>0.0</td>\n",
       "      <td>2.0</td>\n",
       "      <td>14.0</td>\n",
       "      <td>29.0</td>\n",
       "      <td>7.0</td>\n",
       "      <td>35.0</td>\n",
       "      <td>NaN</td>\n",
       "      <td>NaN</td>\n",
       "      <td>NaN</td>\n",
       "      <td>NaN</td>\n",
       "      <td>NaN</td>\n",
       "      <td>NaN</td>\n",
       "      <td>NaN</td>\n",
       "      <td>NaN</td>\n",
       "      <td>NaN</td>\n",
       "    </tr>\n",
       "    <tr>\n",
       "      <th>3</th>\n",
       "      <td>18.0</td>\n",
       "      <td>6.0</td>\n",
       "      <td>19.0</td>\n",
       "      <td>39.0</td>\n",
       "      <td>NaN</td>\n",
       "      <td>NaN</td>\n",
       "      <td>NaN</td>\n",
       "      <td>NaN</td>\n",
       "      <td>NaN</td>\n",
       "      <td>NaN</td>\n",
       "      <td>NaN</td>\n",
       "      <td>NaN</td>\n",
       "      <td>NaN</td>\n",
       "      <td>NaN</td>\n",
       "      <td>NaN</td>\n",
       "    </tr>\n",
       "    <tr>\n",
       "      <th>4</th>\n",
       "      <td>0.0</td>\n",
       "      <td>0.0</td>\n",
       "      <td>1.0</td>\n",
       "      <td>1.0</td>\n",
       "      <td>8.0</td>\n",
       "      <td>8.0</td>\n",
       "      <td>7.0</td>\n",
       "      <td>10.0</td>\n",
       "      <td>NaN</td>\n",
       "      <td>NaN</td>\n",
       "      <td>NaN</td>\n",
       "      <td>NaN</td>\n",
       "      <td>NaN</td>\n",
       "      <td>NaN</td>\n",
       "      <td>NaN</td>\n",
       "    </tr>\n",
       "    <tr>\n",
       "      <th>5</th>\n",
       "      <td>0.0</td>\n",
       "      <td>0.0</td>\n",
       "      <td>36.0</td>\n",
       "      <td>49.0</td>\n",
       "      <td>NaN</td>\n",
       "      <td>NaN</td>\n",
       "      <td>NaN</td>\n",
       "      <td>NaN</td>\n",
       "      <td>NaN</td>\n",
       "      <td>NaN</td>\n",
       "      <td>NaN</td>\n",
       "      <td>NaN</td>\n",
       "      <td>NaN</td>\n",
       "      <td>NaN</td>\n",
       "      <td>NaN</td>\n",
       "    </tr>\n",
       "    <tr>\n",
       "      <th>6</th>\n",
       "      <td>5.0</td>\n",
       "      <td>NaN</td>\n",
       "      <td>NaN</td>\n",
       "      <td>NaN</td>\n",
       "      <td>NaN</td>\n",
       "      <td>NaN</td>\n",
       "      <td>NaN</td>\n",
       "      <td>NaN</td>\n",
       "      <td>NaN</td>\n",
       "      <td>NaN</td>\n",
       "      <td>NaN</td>\n",
       "      <td>NaN</td>\n",
       "      <td>NaN</td>\n",
       "      <td>NaN</td>\n",
       "      <td>NaN</td>\n",
       "    </tr>\n",
       "    <tr>\n",
       "      <th>7</th>\n",
       "      <td>0.0</td>\n",
       "      <td>NaN</td>\n",
       "      <td>NaN</td>\n",
       "      <td>NaN</td>\n",
       "      <td>NaN</td>\n",
       "      <td>NaN</td>\n",
       "      <td>NaN</td>\n",
       "      <td>NaN</td>\n",
       "      <td>NaN</td>\n",
       "      <td>NaN</td>\n",
       "      <td>NaN</td>\n",
       "      <td>NaN</td>\n",
       "      <td>NaN</td>\n",
       "      <td>NaN</td>\n",
       "      <td>NaN</td>\n",
       "    </tr>\n",
       "    <tr>\n",
       "      <th>8</th>\n",
       "      <td>13.0</td>\n",
       "      <td>13.0</td>\n",
       "      <td>22.0</td>\n",
       "      <td>22.0</td>\n",
       "      <td>22.0</td>\n",
       "      <td>13.0</td>\n",
       "      <td>13.0</td>\n",
       "      <td>NaN</td>\n",
       "      <td>NaN</td>\n",
       "      <td>NaN</td>\n",
       "      <td>NaN</td>\n",
       "      <td>NaN</td>\n",
       "      <td>NaN</td>\n",
       "      <td>NaN</td>\n",
       "      <td>NaN</td>\n",
       "    </tr>\n",
       "    <tr>\n",
       "      <th>9</th>\n",
       "      <td>0.0</td>\n",
       "      <td>5.0</td>\n",
       "      <td>3.0</td>\n",
       "      <td>3.0</td>\n",
       "      <td>29.0</td>\n",
       "      <td>33.0</td>\n",
       "      <td>NaN</td>\n",
       "      <td>NaN</td>\n",
       "      <td>NaN</td>\n",
       "      <td>NaN</td>\n",
       "      <td>NaN</td>\n",
       "      <td>NaN</td>\n",
       "      <td>NaN</td>\n",
       "      <td>NaN</td>\n",
       "      <td>NaN</td>\n",
       "    </tr>\n",
       "  </tbody>\n",
       "</table>\n",
       "</div>"
      ],
      "text/plain": [
       "   PRDAY1  PRDAY2  PRDAY3  PRDAY4  PRDAY5  PRDAY6  PRDAY7  PRDAY8  PRDAY9  \\\n",
       "0    37.0    37.0    37.0    37.0     1.0    29.0    38.0     NaN     NaN   \n",
       "1     4.0     4.0     0.0     2.0     3.0     3.0     7.0     7.0     NaN   \n",
       "2     0.0     2.0    14.0    29.0     7.0    35.0     NaN     NaN     NaN   \n",
       "3    18.0     6.0    19.0    39.0     NaN     NaN     NaN     NaN     NaN   \n",
       "4     0.0     0.0     1.0     1.0     8.0     8.0     7.0    10.0     NaN   \n",
       "5     0.0     0.0    36.0    49.0     NaN     NaN     NaN     NaN     NaN   \n",
       "6     5.0     NaN     NaN     NaN     NaN     NaN     NaN     NaN     NaN   \n",
       "7     0.0     NaN     NaN     NaN     NaN     NaN     NaN     NaN     NaN   \n",
       "8    13.0    13.0    22.0    22.0    22.0    13.0    13.0     NaN     NaN   \n",
       "9     0.0     5.0     3.0     3.0    29.0    33.0     NaN     NaN     NaN   \n",
       "\n",
       "   PRDAY10  PRDAY11  PRDAY12  PRDAY13  PRDAY14  PRDAY15  \n",
       "0      NaN      NaN      NaN      NaN      NaN      NaN  \n",
       "1      NaN      NaN      NaN      NaN      NaN      NaN  \n",
       "2      NaN      NaN      NaN      NaN      NaN      NaN  \n",
       "3      NaN      NaN      NaN      NaN      NaN      NaN  \n",
       "4      NaN      NaN      NaN      NaN      NaN      NaN  \n",
       "5      NaN      NaN      NaN      NaN      NaN      NaN  \n",
       "6      NaN      NaN      NaN      NaN      NaN      NaN  \n",
       "7      NaN      NaN      NaN      NaN      NaN      NaN  \n",
       "8      NaN      NaN      NaN      NaN      NaN      NaN  \n",
       "9      NaN      NaN      NaN      NaN      NaN      NaN  "
      ]
     },
     "execution_count": 86,
     "metadata": {},
     "output_type": "execute_result"
    }
   ],
   "source": [
    "sub_prday.head(10)"
   ]
  },
  {
   "cell_type": "code",
   "execution_count": 88,
   "metadata": {},
   "outputs": [
    {
     "data": {
      "image/png": "[encoded data removed]",
      "text/plain": [
       "<matplotlib.figure.Figure at 0x1134f60f0>"
      ]
     },
     "metadata": {},
     "output_type": "display_data"
    }
   ],
   "source": [
    "# print the heatmap of feature correlations\n",
    "target = ['ASOURCE','ATYPE','RACE','TOTCHG','ZIPINC_QRTL']\n",
    "source = PRDAY_columns[:10]\n",
    "PRDAY_columns_correlation = correlation_analysis(df,target, source)"
   ]
  },
  {
   "cell_type": "markdown",
   "metadata": {},
   "source": [
    "## HOSP_columns"
   ]
  },
  {
   "cell_type": "code",
   "execution_count": 7,
   "metadata": {},
   "outputs": [
    {
     "name": "stdout",
     "output_type": "stream",
     "text": [
      "Listing HOSP columns...\n",
      "['HOSPID', 'HOSP_BEDSIZE', 'HOSP_CONTROL', 'HOSP_LOCTEACH', 'HOSP_REGION']\n",
      "The shape of the subset is: (494932, 5)\n",
      "The number of missing value for HOSP_BEDSIZE is: 714 , 0.14 %\n",
      "The number of missing value for HOSP_CONTROL is: 714 , 0.14 %\n",
      "The number of missing value for HOSP_LOCTEACH is: 714 , 0.14 %\n"
     ]
    }
   ],
   "source": [
    "sub_hosp = df.loc[:,HOSP_columns]\n",
    "print('Listing HOSP columns...')\n",
    "print(HOSP_columns)\n",
    "print('The shape of the subset is:',sub_hosp.shape)\n",
    "# checking missing values\n",
    "missing_hosp = checking_missing(sub_hosp,False)"
   ]
  },
  {
   "cell_type": "code",
   "execution_count": 33,
   "metadata": {},
   "outputs": [
    {
     "data": {
      "text/html": [
       "<div>\n",
       "<style>\n",
       "    .dataframe thead tr:only-child th {\n",
       "        text-align: right;\n",
       "    }\n",
       "\n",
       "    .dataframe thead th {\n",
       "        text-align: left;\n",
       "    }\n",
       "\n",
       "    .dataframe tbody tr th {\n",
       "        vertical-align: top;\n",
       "    }\n",
       "</style>\n",
       "<table border=\"1\" class=\"dataframe\">\n",
       "  <thead>\n",
       "    <tr style=\"text-align: right;\">\n",
       "      <th></th>\n",
       "      <th>HOSPID</th>\n",
       "      <th>HOSP_BEDSIZE</th>\n",
       "      <th>HOSP_CONTROL</th>\n",
       "      <th>HOSP_LOCTEACH</th>\n",
       "      <th>HOSP_REGION</th>\n",
       "    </tr>\n",
       "  </thead>\n",
       "  <tbody>\n",
       "    <tr>\n",
       "      <th>0</th>\n",
       "      <td>5021</td>\n",
       "      <td>1.0</td>\n",
       "      <td>3.0</td>\n",
       "      <td>2.0</td>\n",
       "      <td>3</td>\n",
       "    </tr>\n",
       "    <tr>\n",
       "      <th>1</th>\n",
       "      <td>5021</td>\n",
       "      <td>1.0</td>\n",
       "      <td>3.0</td>\n",
       "      <td>2.0</td>\n",
       "      <td>3</td>\n",
       "    </tr>\n",
       "    <tr>\n",
       "      <th>2</th>\n",
       "      <td>5021</td>\n",
       "      <td>1.0</td>\n",
       "      <td>3.0</td>\n",
       "      <td>2.0</td>\n",
       "      <td>3</td>\n",
       "    </tr>\n",
       "    <tr>\n",
       "      <th>3</th>\n",
       "      <td>5021</td>\n",
       "      <td>1.0</td>\n",
       "      <td>3.0</td>\n",
       "      <td>2.0</td>\n",
       "      <td>3</td>\n",
       "    </tr>\n",
       "    <tr>\n",
       "      <th>4</th>\n",
       "      <td>5021</td>\n",
       "      <td>1.0</td>\n",
       "      <td>3.0</td>\n",
       "      <td>2.0</td>\n",
       "      <td>3</td>\n",
       "    </tr>\n",
       "  </tbody>\n",
       "</table>\n",
       "</div>"
      ],
      "text/plain": [
       "   HOSPID  HOSP_BEDSIZE  HOSP_CONTROL  HOSP_LOCTEACH  HOSP_REGION\n",
       "0    5021           1.0           3.0            2.0            3\n",
       "1    5021           1.0           3.0            2.0            3\n",
       "2    5021           1.0           3.0            2.0            3\n",
       "3    5021           1.0           3.0            2.0            3\n",
       "4    5021           1.0           3.0            2.0            3"
      ]
     },
     "execution_count": 33,
     "metadata": {},
     "output_type": "execute_result"
    }
   ],
   "source": [
    "sub_hosp.head(5)"
   ]
  },
  {
   "cell_type": "code",
   "execution_count": 41,
   "metadata": {},
   "outputs": [
    {
     "name": "stdout",
     "output_type": "stream",
     "text": [
      "HOSPID           5017.0\n",
      "HOSP_BEDSIZE        1.0\n",
      "HOSP_CONTROL        2.0\n",
      "HOSP_LOCTEACH       1.0\n",
      "HOSP_REGION         3.0\n",
      "Name: 500, dtype: float64\n"
     ]
    }
   ],
   "source": [
    "print(sub_hosp.loc[500])"
   ]
  },
  {
   "cell_type": "code",
   "execution_count": 31,
   "metadata": {},
   "outputs": [
    {
     "name": "stdout",
     "output_type": "stream",
     "text": [
      "HOSP_BEDSIZE:\n",
      "   category  frequence\n",
      "0       1.0     113966\n",
      "1       2.0     146914\n",
      "2       3.0     233338\n",
      "3     999.0        714\n"
     ]
    }
   ],
   "source": [
    "print('HOSP_BEDSIZE:')\n",
    "print(series_to_freq(sub_hosp['HOSP_BEDSIZE'].fillna(999)))"
   ]
  },
  {
   "cell_type": "code",
   "execution_count": 29,
   "metadata": {},
   "outputs": [
    {
     "name": "stdout",
     "output_type": "stream",
     "text": [
      "HOSP_CONTROL:\n",
      "   category  frequence\n",
      "0       3.0      13448\n",
      "1       2.0      67188\n",
      "2       1.0      46331\n",
      "3       0.0     359892\n",
      "4       4.0       7359\n",
      "5     999.0        714\n"
     ]
    }
   ],
   "source": [
    "print('HOSP_CONTROL:')\n",
    "print(series_to_freq(sub_hosp['HOSP_CONTROL'].fillna(999)))"
   ]
  },
  {
   "cell_type": "code",
   "execution_count": 30,
   "metadata": {},
   "outputs": [
    {
     "name": "stdout",
     "output_type": "stream",
     "text": [
      "HOSP_LOCTEACH:\n",
      "   category  frequence\n",
      "0       2.0     237807\n",
      "1       1.0      34653\n",
      "2       3.0     221758\n",
      "3     999.0        714\n"
     ]
    }
   ],
   "source": [
    "print('HOSP_LOCTEACH:')\n",
    "print(series_to_freq(sub_hosp['HOSP_LOCTEACH'].fillna(999)))"
   ]
  },
  {
   "cell_type": "code",
   "execution_count": 42,
   "metadata": {},
   "outputs": [],
   "source": [
    "# frequence = series_to_freq(sub_hosp['HOSPID'])\n",
    "# print(frequence)"
   ]
  },
  {
   "cell_type": "code",
   "execution_count": 19,
   "metadata": {},
   "outputs": [
    {
     "name": "stdout",
     "output_type": "stream",
     "text": [
      "HOSP_REGION:\n",
      "   category  frequence\n",
      "0         3        714\n"
     ]
    }
   ],
   "source": [
    "Missing_Index = []\n",
    "for index, row in sub_hosp.iterrows():\n",
    "    if row.isnull().any():\n",
    "        Missing_Index.append(index)\n",
    "print('HOSP_REGION:')\n",
    "frequence = series_to_freq(sub_hosp['HOSP_REGION'].loc[Missing_Index])\n",
    "print(frequence)"
   ]
  },
  {
   "cell_type": "code",
   "execution_count": 21,
   "metadata": {},
   "outputs": [
    {
     "name": "stdout",
     "output_type": "stream",
     "text": [
      "HOSPID:\n",
      "   category  frequence\n",
      "0     22060        714\n"
     ]
    }
   ],
   "source": [
    "print('HOSPID:')\n",
    "print(series_to_freq(sub_hosp['HOSPID'].loc[Missing_Index]))"
   ]
  },
  {
   "cell_type": "markdown",
   "metadata": {},
   "source": [
    "## DXCCS_columns"
   ]
  },
  {
   "cell_type": "code",
   "execution_count": 17,
   "metadata": {},
   "outputs": [
    {
     "name": "stdout",
     "output_type": "stream",
     "text": [
      "Listing DXCCS columns...\n",
      "['DXCCS1', 'DXCCS2', 'DXCCS3', 'DXCCS4', 'DXCCS5', 'DXCCS6', 'DXCCS7', 'DXCCS8', 'DXCCS9', 'DXCCS10', 'DXCCS11', 'DXCCS12', 'DXCCS13', 'DXCCS14', 'DXCCS15', 'DXCCS16', 'DXCCS17', 'DXCCS18', 'DXCCS19', 'DXCCS20', 'DXCCS21', 'DXCCS22', 'DXCCS23', 'DXCCS24', 'DXCCS25']\n",
      "The shape of the subset is: (494932, 25)\n",
      "The number of missing value for DXCCS1 is: 318 , 0.06 %\n",
      "The number of missing value for DXCCS2 is: 18051 , 3.65 %\n",
      "The number of missing value for DXCCS3 is: 51085 , 10.32 %\n",
      "The number of missing value for DXCCS4 is: 86881 , 17.55 %\n",
      "The number of missing value for DXCCS5 is: 124870 , 25.23 %\n",
      "The number of missing value for DXCCS6 is: 162554 , 32.84 %\n",
      "The number of missing value for DXCCS7 is: 199561 , 40.32 %\n",
      "The number of missing value for DXCCS8 is: 237881 , 48.06 %\n",
      "The number of missing value for DXCCS9 is: 278672 , 56.31 %\n",
      "The number of missing value for DXCCS10 is: 311821 , 63.00 %\n",
      "The number of missing value for DXCCS11 is: 337145 , 68.12 %\n",
      "The number of missing value for DXCCS12 is: 362048 , 73.15 %\n",
      "The number of missing value for DXCCS13 is: 381843 , 77.15 %\n",
      "The number of missing value for DXCCS14 is: 399929 , 80.80 %\n",
      "The number of missing value for DXCCS15 is: 416697 , 84.19 %\n",
      "The number of missing value for DXCCS16 is: 452274 , 91.38 %\n",
      "The number of missing value for DXCCS17 is: 458653 , 92.67 %\n",
      "The number of missing value for DXCCS18 is: 464570 , 93.87 %\n",
      "The number of missing value for DXCCS19 is: 473045 , 95.58 %\n",
      "The number of missing value for DXCCS20 is: 476459 , 96.27 %\n",
      "The number of missing value for DXCCS21 is: 479598 , 96.90 %\n",
      "The number of missing value for DXCCS22 is: 482079 , 97.40 %\n",
      "The number of missing value for DXCCS23 is: 484235 , 97.84 %\n",
      "The number of missing value for DXCCS24 is: 486088 , 98.21 %\n",
      "The number of missing value for DXCCS25 is: 487765 , 98.55 %\n"
     ]
    }
   ],
   "source": [
    "sub_dxccs = df.loc[:,DXCCS_columns]\n",
    "print('Listing DXCCS columns...')\n",
    "print(DXCCS_columns)\n",
    "print('The shape of the subset is:',sub_dxccs.shape)\n",
    "# checking missing values\n",
    "missing_dxccs = checking_missing(sub_dxccs,False)"
   ]
  },
  {
   "cell_type": "code",
   "execution_count": 92,
   "metadata": {},
   "outputs": [
    {
     "data": {
      "text/plain": [
       "<matplotlib.axes._subplots.AxesSubplot at 0x112156b38>"
      ]
     },
     "execution_count": 92,
     "metadata": {},
     "output_type": "execute_result"
    },
    {
     "data": {
      "image/png": "[encoded data removed]",
      "text/plain": [
       "<matplotlib.figure.Figure at 0x112133eb8>"
      ]
     },
     "metadata": {},
     "output_type": "display_data"
    }
   ],
   "source": [
    "df.loc[:,DXCCS_columns[:5]].plot.box()"
   ]
  },
  {
   "cell_type": "code",
   "execution_count": 93,
   "metadata": {},
   "outputs": [
    {
     "data": {
      "text/html": [
       "<div>\n",
       "<style>\n",
       "    .dataframe thead tr:only-child th {\n",
       "        text-align: right;\n",
       "    }\n",
       "\n",
       "    .dataframe thead th {\n",
       "        text-align: left;\n",
       "    }\n",
       "\n",
       "    .dataframe tbody tr th {\n",
       "        vertical-align: top;\n",
       "    }\n",
       "</style>\n",
       "<table border=\"1\" class=\"dataframe\">\n",
       "  <thead>\n",
       "    <tr style=\"text-align: right;\">\n",
       "      <th></th>\n",
       "      <th>DXCCS1</th>\n",
       "      <th>DXCCS2</th>\n",
       "      <th>DXCCS3</th>\n",
       "      <th>DXCCS4</th>\n",
       "      <th>DXCCS5</th>\n",
       "    </tr>\n",
       "  </thead>\n",
       "  <tbody>\n",
       "    <tr>\n",
       "      <th>0</th>\n",
       "      <td>218.0</td>\n",
       "      <td>55.0</td>\n",
       "      <td>98.0</td>\n",
       "      <td>98.0</td>\n",
       "      <td>98.0</td>\n",
       "    </tr>\n",
       "  </tbody>\n",
       "</table>\n",
       "</div>"
      ],
      "text/plain": [
       "   DXCCS1  DXCCS2  DXCCS3  DXCCS4  DXCCS5\n",
       "0   218.0    55.0    98.0    98.0    98.0"
      ]
     },
     "execution_count": 93,
     "metadata": {},
     "output_type": "execute_result"
    }
   ],
   "source": [
    "df.loc[:,DXCCS_columns[:5]].mode()"
   ]
  },
  {
   "cell_type": "code",
   "execution_count": 94,
   "metadata": {
    "collapsed": true
   },
   "outputs": [],
   "source": [
    "# sns.kdeplot(df[DXCCS_columns[0]],label = 'DXCCS1')\n",
    "# sns.kdeplot(df[DXCCS_columns[1]],label = 'DXCCS2')\n",
    "# sns.kdeplot(df[DXCCS_columns[2]],label = 'DXCCS3')\n",
    "# sns.kdeplot(df[DXCCS_columns[3]],label = 'DXCCS4')\n",
    "# sns.kdeplot(df[DXCCS_columns[4]],label = 'DXCCS5')\n",
    "# plt.legend();"
   ]
  },
  {
   "cell_type": "code",
   "execution_count": 19,
   "metadata": {},
   "outputs": [
    {
     "data": {
      "text/plain": [
       "<matplotlib.text.Text at 0x10ee6c2e8>"
      ]
     },
     "execution_count": 19,
     "metadata": {},
     "output_type": "execute_result"
    },
    {
     "data": {
      "image/png": "[encoded data removed]",
      "text/plain": [
       "<matplotlib.figure.Figure at 0x10ec55208>"
      ]
     },
     "metadata": {},
     "output_type": "display_data"
    }
   ],
   "source": [
    "check_sub_dxccs = df.loc[:,DXCCS_columns].fillna(-99)\n",
    "sns.distplot(check_sub_dxccs[DXCCS_columns[0]],kde=False,label = 'DXCCS1')\n",
    "sns.distplot(check_sub_dxccs[DXCCS_columns[1]],kde=False,label = 'DXCCS2')\n",
    "plt.title('Histograms of DXCCS')"
   ]
  },
  {
   "cell_type": "code",
   "execution_count": 20,
   "metadata": {},
   "outputs": [
    {
     "data": {
      "text/html": [
       "<div>\n",
       "<style>\n",
       "    .dataframe thead tr:only-child th {\n",
       "        text-align: right;\n",
       "    }\n",
       "\n",
       "    .dataframe thead th {\n",
       "        text-align: left;\n",
       "    }\n",
       "\n",
       "    .dataframe tbody tr th {\n",
       "        vertical-align: top;\n",
       "    }\n",
       "</style>\n",
       "<table border=\"1\" class=\"dataframe\">\n",
       "  <thead>\n",
       "    <tr style=\"text-align: right;\">\n",
       "      <th></th>\n",
       "      <th>DXCCS1</th>\n",
       "      <th>DXCCS2</th>\n",
       "      <th>DXCCS3</th>\n",
       "      <th>DXCCS4</th>\n",
       "      <th>DXCCS5</th>\n",
       "      <th>DXCCS6</th>\n",
       "      <th>DXCCS7</th>\n",
       "      <th>DXCCS8</th>\n",
       "      <th>DXCCS9</th>\n",
       "      <th>DXCCS10</th>\n",
       "      <th>...</th>\n",
       "      <th>DXCCS16</th>\n",
       "      <th>DXCCS17</th>\n",
       "      <th>DXCCS18</th>\n",
       "      <th>DXCCS19</th>\n",
       "      <th>DXCCS20</th>\n",
       "      <th>DXCCS21</th>\n",
       "      <th>DXCCS22</th>\n",
       "      <th>DXCCS23</th>\n",
       "      <th>DXCCS24</th>\n",
       "      <th>DXCCS25</th>\n",
       "    </tr>\n",
       "  </thead>\n",
       "  <tbody>\n",
       "    <tr>\n",
       "      <th>0</th>\n",
       "      <td>2.0</td>\n",
       "      <td>157.0</td>\n",
       "      <td>199.0</td>\n",
       "      <td>52.0</td>\n",
       "      <td>4.0</td>\n",
       "      <td>237.0</td>\n",
       "      <td>159.0</td>\n",
       "      <td>82.0</td>\n",
       "      <td>55.0</td>\n",
       "      <td>161.0</td>\n",
       "      <td>...</td>\n",
       "      <td>199.0</td>\n",
       "      <td>201.0</td>\n",
       "      <td>199.0</td>\n",
       "      <td>NaN</td>\n",
       "      <td>NaN</td>\n",
       "      <td>NaN</td>\n",
       "      <td>NaN</td>\n",
       "      <td>NaN</td>\n",
       "      <td>NaN</td>\n",
       "      <td>NaN</td>\n",
       "    </tr>\n",
       "    <tr>\n",
       "      <th>1</th>\n",
       "      <td>131.0</td>\n",
       "      <td>2.0</td>\n",
       "      <td>244.0</td>\n",
       "      <td>52.0</td>\n",
       "      <td>108.0</td>\n",
       "      <td>55.0</td>\n",
       "      <td>81.0</td>\n",
       "      <td>133.0</td>\n",
       "      <td>108.0</td>\n",
       "      <td>155.0</td>\n",
       "      <td>...</td>\n",
       "      <td>49.0</td>\n",
       "      <td>140.0</td>\n",
       "      <td>138.0</td>\n",
       "      <td>NaN</td>\n",
       "      <td>NaN</td>\n",
       "      <td>NaN</td>\n",
       "      <td>NaN</td>\n",
       "      <td>NaN</td>\n",
       "      <td>NaN</td>\n",
       "      <td>NaN</td>\n",
       "    </tr>\n",
       "    <tr>\n",
       "      <th>2</th>\n",
       "      <td>145.0</td>\n",
       "      <td>2.0</td>\n",
       "      <td>2.0</td>\n",
       "      <td>4.0</td>\n",
       "      <td>244.0</td>\n",
       "      <td>52.0</td>\n",
       "      <td>131.0</td>\n",
       "      <td>122.0</td>\n",
       "      <td>122.0</td>\n",
       "      <td>97.0</td>\n",
       "      <td>...</td>\n",
       "      <td>237.0</td>\n",
       "      <td>3.0</td>\n",
       "      <td>250.0</td>\n",
       "      <td>NaN</td>\n",
       "      <td>NaN</td>\n",
       "      <td>NaN</td>\n",
       "      <td>NaN</td>\n",
       "      <td>NaN</td>\n",
       "      <td>NaN</td>\n",
       "      <td>NaN</td>\n",
       "    </tr>\n",
       "  </tbody>\n",
       "</table>\n",
       "<p>3 rows × 25 columns</p>\n",
       "</div>"
      ],
      "text/plain": [
       "   DXCCS1  DXCCS2  DXCCS3  DXCCS4  DXCCS5  DXCCS6  DXCCS7  DXCCS8  DXCCS9  \\\n",
       "0     2.0   157.0   199.0    52.0     4.0   237.0   159.0    82.0    55.0   \n",
       "1   131.0     2.0   244.0    52.0   108.0    55.0    81.0   133.0   108.0   \n",
       "2   145.0     2.0     2.0     4.0   244.0    52.0   131.0   122.0   122.0   \n",
       "\n",
       "   DXCCS10   ...     DXCCS16  DXCCS17  DXCCS18  DXCCS19  DXCCS20  DXCCS21  \\\n",
       "0    161.0   ...       199.0    201.0    199.0      NaN      NaN      NaN   \n",
       "1    155.0   ...        49.0    140.0    138.0      NaN      NaN      NaN   \n",
       "2     97.0   ...       237.0      3.0    250.0      NaN      NaN      NaN   \n",
       "\n",
       "   DXCCS22  DXCCS23  DXCCS24  DXCCS25  \n",
       "0      NaN      NaN      NaN      NaN  \n",
       "1      NaN      NaN      NaN      NaN  \n",
       "2      NaN      NaN      NaN      NaN  \n",
       "\n",
       "[3 rows x 25 columns]"
      ]
     },
     "execution_count": 20,
     "metadata": {},
     "output_type": "execute_result"
    }
   ],
   "source": [
    "sub_dxccs.head(3)"
   ]
  },
  {
   "cell_type": "code",
   "execution_count": 21,
   "metadata": {
    "collapsed": true
   },
   "outputs": [],
   "source": [
    "# sub_dxccs.describe()"
   ]
  },
  {
   "cell_type": "code",
   "execution_count": 22,
   "metadata": {},
   "outputs": [
    {
     "data": {
      "image/png": "[encoded data removed]",
      "text/plain": [
       "<matplotlib.figure.Figure at 0x1036b8cc0>"
      ]
     },
     "metadata": {},
     "output_type": "display_data"
    }
   ],
   "source": [
    "# print the heatmap of feature correlations\n",
    "target = DXCCS_columns[:5]\n",
    "source = DXCCS_columns[:10]\n",
    "PRDAY_columns_correlation = correlation_analysis(df,target, source)"
   ]
  },
  {
   "cell_type": "markdown",
   "metadata": {},
   "source": [
    "## PRCCS_columns"
   ]
  },
  {
   "cell_type": "code",
   "execution_count": 23,
   "metadata": {},
   "outputs": [
    {
     "name": "stdout",
     "output_type": "stream",
     "text": [
      "Listing PRCCS columns...\n",
      "['PRCCS1', 'PRCCS2', 'PRCCS3', 'PRCCS4', 'PRCCS5', 'PRCCS6', 'PRCCS7', 'PRCCS8', 'PRCCS9', 'PRCCS10', 'PRCCS11', 'PRCCS12', 'PRCCS13', 'PRCCS14', 'PRCCS15']\n",
      "The shape of the subset is: (494932, 15)\n",
      "The number of missing value for PRCCS1 is: 196207 , 39.64 %\n",
      "The number of missing value for PRCCS2 is: 322883 , 65.24 %\n",
      "The number of missing value for PRCCS3 is: 394778 , 79.76 %\n",
      "The number of missing value for PRCCS4 is: 432450 , 87.38 %\n",
      "The number of missing value for PRCCS5 is: 453259 , 91.58 %\n",
      "The number of missing value for PRCCS6 is: 466793 , 94.31 %\n",
      "The number of missing value for PRCCS7 is: 476734 , 96.32 %\n",
      "The number of missing value for PRCCS8 is: 483075 , 97.60 %\n",
      "The number of missing value for PRCCS9 is: 487261 , 98.45 %\n",
      "The number of missing value for PRCCS10 is: 489548 , 98.91 %\n",
      "The number of missing value for PRCCS11 is: 491072 , 99.22 %\n",
      "The number of missing value for PRCCS12 is: 492177 , 99.44 %\n",
      "The number of missing value for PRCCS13 is: 492850 , 99.58 %\n",
      "The number of missing value for PRCCS14 is: 493363 , 99.68 %\n",
      "The number of missing value for PRCCS15 is: 493780 , 99.77 %\n"
     ]
    }
   ],
   "source": [
    "sub_prccs = df.loc[:,PRCCS_columns]\n",
    "print('Listing PRCCS columns...')\n",
    "print(PRCCS_columns)\n",
    "print('The shape of the subset is:',sub_prccs.shape)\n",
    "# checking missing values\n",
    "missing_prccs = checking_missing(sub_prccs,False)"
   ]
  },
  {
   "cell_type": "code",
   "execution_count": 24,
   "metadata": {},
   "outputs": [
    {
     "data": {
      "text/html": [
       "<div>\n",
       "<style>\n",
       "    .dataframe thead tr:only-child th {\n",
       "        text-align: right;\n",
       "    }\n",
       "\n",
       "    .dataframe thead th {\n",
       "        text-align: left;\n",
       "    }\n",
       "\n",
       "    .dataframe tbody tr th {\n",
       "        vertical-align: top;\n",
       "    }\n",
       "</style>\n",
       "<table border=\"1\" class=\"dataframe\">\n",
       "  <thead>\n",
       "    <tr style=\"text-align: right;\">\n",
       "      <th></th>\n",
       "      <th>PRCCS1</th>\n",
       "      <th>PRCCS2</th>\n",
       "      <th>PRCCS3</th>\n",
       "      <th>PRCCS4</th>\n",
       "      <th>PRCCS5</th>\n",
       "      <th>PRCCS6</th>\n",
       "      <th>PRCCS7</th>\n",
       "      <th>PRCCS8</th>\n",
       "      <th>PRCCS9</th>\n",
       "      <th>PRCCS10</th>\n",
       "      <th>PRCCS11</th>\n",
       "      <th>PRCCS12</th>\n",
       "      <th>PRCCS13</th>\n",
       "      <th>PRCCS14</th>\n",
       "      <th>PRCCS15</th>\n",
       "    </tr>\n",
       "  </thead>\n",
       "  <tbody>\n",
       "    <tr>\n",
       "      <th>0</th>\n",
       "      <td>103.0</td>\n",
       "      <td>54.0</td>\n",
       "      <td>70.0</td>\n",
       "      <td>71.0</td>\n",
       "      <td>223.0</td>\n",
       "      <td>222.0</td>\n",
       "      <td>223.0</td>\n",
       "      <td>NaN</td>\n",
       "      <td>NaN</td>\n",
       "      <td>NaN</td>\n",
       "      <td>NaN</td>\n",
       "      <td>NaN</td>\n",
       "      <td>NaN</td>\n",
       "      <td>NaN</td>\n",
       "      <td>NaN</td>\n",
       "    </tr>\n",
       "    <tr>\n",
       "      <th>1</th>\n",
       "      <td>34.0</td>\n",
       "      <td>37.0</td>\n",
       "      <td>216.0</td>\n",
       "      <td>223.0</td>\n",
       "      <td>216.0</td>\n",
       "      <td>216.0</td>\n",
       "      <td>70.0</td>\n",
       "      <td>71.0</td>\n",
       "      <td>NaN</td>\n",
       "      <td>NaN</td>\n",
       "      <td>NaN</td>\n",
       "      <td>NaN</td>\n",
       "      <td>NaN</td>\n",
       "      <td>NaN</td>\n",
       "      <td>NaN</td>\n",
       "    </tr>\n",
       "    <tr>\n",
       "      <th>2</th>\n",
       "      <td>223.0</td>\n",
       "      <td>223.0</td>\n",
       "      <td>54.0</td>\n",
       "      <td>216.0</td>\n",
       "      <td>222.0</td>\n",
       "      <td>54.0</td>\n",
       "      <td>NaN</td>\n",
       "      <td>NaN</td>\n",
       "      <td>NaN</td>\n",
       "      <td>NaN</td>\n",
       "      <td>NaN</td>\n",
       "      <td>NaN</td>\n",
       "      <td>NaN</td>\n",
       "      <td>NaN</td>\n",
       "      <td>NaN</td>\n",
       "    </tr>\n",
       "    <tr>\n",
       "      <th>3</th>\n",
       "      <td>222.0</td>\n",
       "      <td>174.0</td>\n",
       "      <td>65.0</td>\n",
       "      <td>54.0</td>\n",
       "      <td>NaN</td>\n",
       "      <td>NaN</td>\n",
       "      <td>NaN</td>\n",
       "      <td>NaN</td>\n",
       "      <td>NaN</td>\n",
       "      <td>NaN</td>\n",
       "      <td>NaN</td>\n",
       "      <td>NaN</td>\n",
       "      <td>NaN</td>\n",
       "      <td>NaN</td>\n",
       "      <td>NaN</td>\n",
       "    </tr>\n",
       "    <tr>\n",
       "      <th>4</th>\n",
       "      <td>216.0</td>\n",
       "      <td>216.0</td>\n",
       "      <td>223.0</td>\n",
       "      <td>222.0</td>\n",
       "      <td>37.0</td>\n",
       "      <td>37.0</td>\n",
       "      <td>54.0</td>\n",
       "      <td>70.0</td>\n",
       "      <td>NaN</td>\n",
       "      <td>NaN</td>\n",
       "      <td>NaN</td>\n",
       "      <td>NaN</td>\n",
       "      <td>NaN</td>\n",
       "      <td>NaN</td>\n",
       "      <td>NaN</td>\n",
       "    </tr>\n",
       "  </tbody>\n",
       "</table>\n",
       "</div>"
      ],
      "text/plain": [
       "   PRCCS1  PRCCS2  PRCCS3  PRCCS4  PRCCS5  PRCCS6  PRCCS7  PRCCS8  PRCCS9  \\\n",
       "0   103.0    54.0    70.0    71.0   223.0   222.0   223.0     NaN     NaN   \n",
       "1    34.0    37.0   216.0   223.0   216.0   216.0    70.0    71.0     NaN   \n",
       "2   223.0   223.0    54.0   216.0   222.0    54.0     NaN     NaN     NaN   \n",
       "3   222.0   174.0    65.0    54.0     NaN     NaN     NaN     NaN     NaN   \n",
       "4   216.0   216.0   223.0   222.0    37.0    37.0    54.0    70.0     NaN   \n",
       "\n",
       "   PRCCS10  PRCCS11  PRCCS12  PRCCS13  PRCCS14  PRCCS15  \n",
       "0      NaN      NaN      NaN      NaN      NaN      NaN  \n",
       "1      NaN      NaN      NaN      NaN      NaN      NaN  \n",
       "2      NaN      NaN      NaN      NaN      NaN      NaN  \n",
       "3      NaN      NaN      NaN      NaN      NaN      NaN  \n",
       "4      NaN      NaN      NaN      NaN      NaN      NaN  "
      ]
     },
     "execution_count": 24,
     "metadata": {},
     "output_type": "execute_result"
    }
   ],
   "source": [
    "sub_prccs.head(5)"
   ]
  },
  {
   "cell_type": "code",
   "execution_count": 25,
   "metadata": {
    "collapsed": true
   },
   "outputs": [],
   "source": [
    "# sub_prccs.describe()"
   ]
  },
  {
   "cell_type": "code",
   "execution_count": 89,
   "metadata": {},
   "outputs": [
    {
     "data": {
      "text/plain": [
       "<matplotlib.axes._subplots.AxesSubplot at 0x1128957b8>"
      ]
     },
     "execution_count": 89,
     "metadata": {},
     "output_type": "execute_result"
    },
    {
     "data": {
      "image/png": "[encoded data removed]",
      "text/plain": [
       "<matplotlib.figure.Figure at 0x113486908>"
      ]
     },
     "metadata": {},
     "output_type": "display_data"
    }
   ],
   "source": [
    "df.loc[:,PRCCS_columns[:5]].plot.box()"
   ]
  },
  {
   "cell_type": "code",
   "execution_count": 90,
   "metadata": {},
   "outputs": [
    {
     "data": {
      "text/html": [
       "<div>\n",
       "<style>\n",
       "    .dataframe thead tr:only-child th {\n",
       "        text-align: right;\n",
       "    }\n",
       "\n",
       "    .dataframe thead th {\n",
       "        text-align: left;\n",
       "    }\n",
       "\n",
       "    .dataframe tbody tr th {\n",
       "        vertical-align: top;\n",
       "    }\n",
       "</style>\n",
       "<table border=\"1\" class=\"dataframe\">\n",
       "  <thead>\n",
       "    <tr style=\"text-align: right;\">\n",
       "      <th></th>\n",
       "      <th>PRCCS1</th>\n",
       "      <th>PRCCS2</th>\n",
       "      <th>PRCCS3</th>\n",
       "      <th>PRCCS4</th>\n",
       "      <th>PRCCS5</th>\n",
       "    </tr>\n",
       "  </thead>\n",
       "  <tbody>\n",
       "    <tr>\n",
       "      <th>0</th>\n",
       "      <td>219.0</td>\n",
       "      <td>231.0</td>\n",
       "      <td>231.0</td>\n",
       "      <td>231.0</td>\n",
       "      <td>231.0</td>\n",
       "    </tr>\n",
       "  </tbody>\n",
       "</table>\n",
       "</div>"
      ],
      "text/plain": [
       "   PRCCS1  PRCCS2  PRCCS3  PRCCS4  PRCCS5\n",
       "0   219.0   231.0   231.0   231.0   231.0"
      ]
     },
     "execution_count": 90,
     "metadata": {},
     "output_type": "execute_result"
    }
   ],
   "source": [
    "df.loc[:,PRCCS_columns[:5]].mode()"
   ]
  },
  {
   "cell_type": "code",
   "execution_count": 26,
   "metadata": {},
   "outputs": [
    {
     "name": "stderr",
     "output_type": "stream",
     "text": [
      "/Users/Shuyuan/anaconda/lib/python3.6/site-packages/statsmodels/nonparametric/kde.py:454: RuntimeWarning:\n",
      "\n",
      "invalid value encountered in greater\n",
      "\n",
      "/Users/Shuyuan/anaconda/lib/python3.6/site-packages/statsmodels/nonparametric/kde.py:454: RuntimeWarning:\n",
      "\n",
      "invalid value encountered in less\n",
      "\n"
     ]
    },
    {
     "data": {
      "image/png": "[encoded data removed]",
      "text/plain": [
       "<matplotlib.figure.Figure at 0x11876bb70>"
      ]
     },
     "metadata": {},
     "output_type": "display_data"
    }
   ],
   "source": [
    "sns.kdeplot(df[PRCCS_columns[0]],label = 'PRCCS1')\n",
    "sns.kdeplot(df[PRCCS_columns[1]],label = 'PRCCS2')\n",
    "sns.kdeplot(df[PRCCS_columns[2]],label = 'PRCCS3')\n",
    "sns.kdeplot(df[PRCCS_columns[3]],label = 'PRCCS4')\n",
    "sns.kdeplot(df[PRCCS_columns[4]],label = 'PRCCS5')\n",
    "plt.legend();"
   ]
  },
  {
   "cell_type": "code",
   "execution_count": 28,
   "metadata": {},
   "outputs": [
    {
     "data": {
      "image/png": "[encoded data removed]",
      "text/plain": [
       "<matplotlib.figure.Figure at 0x11876b5c0>"
      ]
     },
     "metadata": {},
     "output_type": "display_data"
    }
   ],
   "source": [
    "# print the heatmap of feature correlations\n",
    "target = PRCCS_columns[:5]\n",
    "source = PRCCS_columns[:10]\n",
    "PRCCS_columns_correlation = correlation_analysis(df,target, source)"
   ]
  },
  {
   "cell_type": "markdown",
   "metadata": {},
   "source": [
    "## CM_columns"
   ]
  },
  {
   "cell_type": "code",
   "execution_count": 95,
   "metadata": {},
   "outputs": [
    {
     "name": "stdout",
     "output_type": "stream",
     "text": [
      "Listing CM columns...\n",
      "['CM_AIDS', 'CM_ALCOHOL', 'CM_ANEMDEF', 'CM_ARTH', 'CM_BLDLOSS', 'CM_CHF', 'CM_CHRNLUNG', 'CM_COAG', 'CM_DEPRESS', 'CM_DM', 'CM_DMCX', 'CM_DRUG', 'CM_HTN_C', 'CM_HYPOTHY', 'CM_LIVER', 'CM_LYMPH', 'CM_LYTES', 'CM_METS', 'CM_NEURO', 'CM_OBESE', 'CM_PARA', 'CM_PERIVASC', 'CM_PSYCH', 'CM_PULMCIRC', 'CM_RENLFAIL', 'CM_TUMOR', 'CM_ULCER', 'CM_VALVE', 'CM_WGHTLOSS']\n",
      "The shape of the subset is: (494932, 29)\n",
      "There is no missing value...\n"
     ]
    }
   ],
   "source": [
    "sub_cm = df.loc[:,CM_columns]\n",
    "print('Listing CM columns...')\n",
    "print(CM_columns)\n",
    "print('The shape of the subset is:',sub_cm.shape)\n",
    "# checking missing values\n",
    "missing_cm = checking_missing(sub_cm,False)"
   ]
  },
  {
   "cell_type": "code",
   "execution_count": 100,
   "metadata": {},
   "outputs": [
    {
     "data": {
      "text/html": [
       "<div>\n",
       "<style>\n",
       "    .dataframe thead tr:only-child th {\n",
       "        text-align: right;\n",
       "    }\n",
       "\n",
       "    .dataframe thead th {\n",
       "        text-align: left;\n",
       "    }\n",
       "\n",
       "    .dataframe tbody tr th {\n",
       "        vertical-align: top;\n",
       "    }\n",
       "</style>\n",
       "<table border=\"1\" class=\"dataframe\">\n",
       "  <thead>\n",
       "    <tr style=\"text-align: right;\">\n",
       "      <th></th>\n",
       "      <th>CM_AIDS</th>\n",
       "      <th>CM_ALCOHOL</th>\n",
       "      <th>CM_ANEMDEF</th>\n",
       "      <th>CM_ARTH</th>\n",
       "      <th>CM_BLDLOSS</th>\n",
       "      <th>CM_CHF</th>\n",
       "      <th>CM_CHRNLUNG</th>\n",
       "      <th>CM_COAG</th>\n",
       "      <th>CM_DEPRESS</th>\n",
       "      <th>CM_DM</th>\n",
       "      <th>...</th>\n",
       "      <th>CM_OBESE</th>\n",
       "      <th>CM_PARA</th>\n",
       "      <th>CM_PERIVASC</th>\n",
       "      <th>CM_PSYCH</th>\n",
       "      <th>CM_PULMCIRC</th>\n",
       "      <th>CM_RENLFAIL</th>\n",
       "      <th>CM_TUMOR</th>\n",
       "      <th>CM_ULCER</th>\n",
       "      <th>CM_VALVE</th>\n",
       "      <th>CM_WGHTLOSS</th>\n",
       "    </tr>\n",
       "  </thead>\n",
       "  <tbody>\n",
       "    <tr>\n",
       "      <th>0</th>\n",
       "      <td>0</td>\n",
       "      <td>0</td>\n",
       "      <td>0</td>\n",
       "      <td>0</td>\n",
       "      <td>0</td>\n",
       "      <td>0</td>\n",
       "      <td>0</td>\n",
       "      <td>0</td>\n",
       "      <td>0</td>\n",
       "      <td>0</td>\n",
       "      <td>...</td>\n",
       "      <td>0</td>\n",
       "      <td>1</td>\n",
       "      <td>0</td>\n",
       "      <td>0</td>\n",
       "      <td>0</td>\n",
       "      <td>0</td>\n",
       "      <td>0</td>\n",
       "      <td>0</td>\n",
       "      <td>0</td>\n",
       "      <td>1</td>\n",
       "    </tr>\n",
       "    <tr>\n",
       "      <th>1</th>\n",
       "      <td>0</td>\n",
       "      <td>0</td>\n",
       "      <td>1</td>\n",
       "      <td>0</td>\n",
       "      <td>0</td>\n",
       "      <td>1</td>\n",
       "      <td>1</td>\n",
       "      <td>0</td>\n",
       "      <td>0</td>\n",
       "      <td>1</td>\n",
       "      <td>...</td>\n",
       "      <td>0</td>\n",
       "      <td>0</td>\n",
       "      <td>0</td>\n",
       "      <td>0</td>\n",
       "      <td>0</td>\n",
       "      <td>0</td>\n",
       "      <td>0</td>\n",
       "      <td>0</td>\n",
       "      <td>0</td>\n",
       "      <td>1</td>\n",
       "    </tr>\n",
       "    <tr>\n",
       "      <th>2</th>\n",
       "      <td>0</td>\n",
       "      <td>0</td>\n",
       "      <td>0</td>\n",
       "      <td>0</td>\n",
       "      <td>0</td>\n",
       "      <td>0</td>\n",
       "      <td>0</td>\n",
       "      <td>0</td>\n",
       "      <td>0</td>\n",
       "      <td>0</td>\n",
       "      <td>...</td>\n",
       "      <td>0</td>\n",
       "      <td>0</td>\n",
       "      <td>0</td>\n",
       "      <td>0</td>\n",
       "      <td>0</td>\n",
       "      <td>0</td>\n",
       "      <td>0</td>\n",
       "      <td>0</td>\n",
       "      <td>0</td>\n",
       "      <td>1</td>\n",
       "    </tr>\n",
       "    <tr>\n",
       "      <th>3</th>\n",
       "      <td>0</td>\n",
       "      <td>0</td>\n",
       "      <td>0</td>\n",
       "      <td>0</td>\n",
       "      <td>0</td>\n",
       "      <td>0</td>\n",
       "      <td>0</td>\n",
       "      <td>0</td>\n",
       "      <td>0</td>\n",
       "      <td>0</td>\n",
       "      <td>...</td>\n",
       "      <td>0</td>\n",
       "      <td>0</td>\n",
       "      <td>0</td>\n",
       "      <td>0</td>\n",
       "      <td>0</td>\n",
       "      <td>0</td>\n",
       "      <td>0</td>\n",
       "      <td>0</td>\n",
       "      <td>0</td>\n",
       "      <td>1</td>\n",
       "    </tr>\n",
       "    <tr>\n",
       "      <th>4</th>\n",
       "      <td>0</td>\n",
       "      <td>0</td>\n",
       "      <td>0</td>\n",
       "      <td>0</td>\n",
       "      <td>0</td>\n",
       "      <td>0</td>\n",
       "      <td>0</td>\n",
       "      <td>0</td>\n",
       "      <td>0</td>\n",
       "      <td>0</td>\n",
       "      <td>...</td>\n",
       "      <td>0</td>\n",
       "      <td>0</td>\n",
       "      <td>0</td>\n",
       "      <td>0</td>\n",
       "      <td>1</td>\n",
       "      <td>1</td>\n",
       "      <td>0</td>\n",
       "      <td>0</td>\n",
       "      <td>0</td>\n",
       "      <td>1</td>\n",
       "    </tr>\n",
       "  </tbody>\n",
       "</table>\n",
       "<p>5 rows × 29 columns</p>\n",
       "</div>"
      ],
      "text/plain": [
       "   CM_AIDS  CM_ALCOHOL  CM_ANEMDEF  CM_ARTH  CM_BLDLOSS  CM_CHF  CM_CHRNLUNG  \\\n",
       "0        0           0           0        0           0       0            0   \n",
       "1        0           0           1        0           0       1            1   \n",
       "2        0           0           0        0           0       0            0   \n",
       "3        0           0           0        0           0       0            0   \n",
       "4        0           0           0        0           0       0            0   \n",
       "\n",
       "   CM_COAG  CM_DEPRESS  CM_DM     ...       CM_OBESE  CM_PARA  CM_PERIVASC  \\\n",
       "0        0           0      0     ...              0        1            0   \n",
       "1        0           0      1     ...              0        0            0   \n",
       "2        0           0      0     ...              0        0            0   \n",
       "3        0           0      0     ...              0        0            0   \n",
       "4        0           0      0     ...              0        0            0   \n",
       "\n",
       "   CM_PSYCH  CM_PULMCIRC  CM_RENLFAIL  CM_TUMOR  CM_ULCER  CM_VALVE  \\\n",
       "0         0            0            0         0         0         0   \n",
       "1         0            0            0         0         0         0   \n",
       "2         0            0            0         0         0         0   \n",
       "3         0            0            0         0         0         0   \n",
       "4         0            1            1         0         0         0   \n",
       "\n",
       "   CM_WGHTLOSS  \n",
       "0            1  \n",
       "1            1  \n",
       "2            1  \n",
       "3            1  \n",
       "4            1  \n",
       "\n",
       "[5 rows x 29 columns]"
      ]
     },
     "execution_count": 100,
     "metadata": {},
     "output_type": "execute_result"
    }
   ],
   "source": [
    "sub_cm.head(5)"
   ]
  },
  {
   "cell_type": "code",
   "execution_count": 31,
   "metadata": {},
   "outputs": [
    {
     "data": {
      "image/png": "[encoded data removed]",
      "text/plain": [
       "<matplotlib.figure.Figure at 0x118816748>"
      ]
     },
     "metadata": {},
     "output_type": "display_data"
    }
   ],
   "source": [
    "# print the heatmap of feature correlations\n",
    "target = ['ASOURCE','ATYPE','RACE','TOTCHG','ZIPINC_QRTL']\n",
    "source = CM_columns\n",
    "CM_columns_correlation = correlation_analysis(df,target, source)"
   ]
  },
  {
   "cell_type": "markdown",
   "metadata": {
    "collapsed": true
   },
   "source": [
    "## HOSP_columns"
   ]
  },
  {
   "cell_type": "code",
   "execution_count": 102,
   "metadata": {
    "collapsed": true
   },
   "outputs": [],
   "source": [
    "sub_hosp = df.loc[:,HOSP_columns]"
   ]
  },
  {
   "cell_type": "code",
   "execution_count": 103,
   "metadata": {},
   "outputs": [
    {
     "name": "stdout",
     "output_type": "stream",
     "text": [
      "Listing HOSP columns...\n",
      "['HOSPID', 'HOSP_BEDSIZE', 'HOSP_CONTROL', 'HOSP_LOCTEACH', 'HOSP_REGION']\n",
      "The shape of the subset is: (494932, 5)\n",
      "The number of missing value for HOSP_BEDSIZE is: 714 , 0.14 %\n",
      "The number of missing value for HOSP_CONTROL is: 714 , 0.14 %\n",
      "The number of missing value for HOSP_LOCTEACH is: 714 , 0.14 %\n"
     ]
    }
   ],
   "source": [
    "sub_HOSP = df.loc[:,HOSP_columns]\n",
    "print('Listing HOSP columns...')\n",
    "print(HOSP_columns)\n",
    "print('The shape of the subset is:',sub_HOSP.shape)\n",
    "# checking missing values\n",
    "missing_cm = checking_missing(sub_HOSP,False)"
   ]
  },
  {
   "cell_type": "code",
   "execution_count": 104,
   "metadata": {},
   "outputs": [
    {
     "data": {
      "text/html": [
       "<div>\n",
       "<style>\n",
       "    .dataframe thead tr:only-child th {\n",
       "        text-align: right;\n",
       "    }\n",
       "\n",
       "    .dataframe thead th {\n",
       "        text-align: left;\n",
       "    }\n",
       "\n",
       "    .dataframe tbody tr th {\n",
       "        vertical-align: top;\n",
       "    }\n",
       "</style>\n",
       "<table border=\"1\" class=\"dataframe\">\n",
       "  <thead>\n",
       "    <tr style=\"text-align: right;\">\n",
       "      <th></th>\n",
       "      <th>HOSPID</th>\n",
       "      <th>HOSP_BEDSIZE</th>\n",
       "      <th>HOSP_CONTROL</th>\n",
       "      <th>HOSP_LOCTEACH</th>\n",
       "      <th>HOSP_REGION</th>\n",
       "    </tr>\n",
       "  </thead>\n",
       "  <tbody>\n",
       "    <tr>\n",
       "      <th>0</th>\n",
       "      <td>5021</td>\n",
       "      <td>1.0</td>\n",
       "      <td>3.0</td>\n",
       "      <td>2.0</td>\n",
       "      <td>3</td>\n",
       "    </tr>\n",
       "    <tr>\n",
       "      <th>1</th>\n",
       "      <td>5021</td>\n",
       "      <td>1.0</td>\n",
       "      <td>3.0</td>\n",
       "      <td>2.0</td>\n",
       "      <td>3</td>\n",
       "    </tr>\n",
       "    <tr>\n",
       "      <th>2</th>\n",
       "      <td>5021</td>\n",
       "      <td>1.0</td>\n",
       "      <td>3.0</td>\n",
       "      <td>2.0</td>\n",
       "      <td>3</td>\n",
       "    </tr>\n",
       "    <tr>\n",
       "      <th>3</th>\n",
       "      <td>5021</td>\n",
       "      <td>1.0</td>\n",
       "      <td>3.0</td>\n",
       "      <td>2.0</td>\n",
       "      <td>3</td>\n",
       "    </tr>\n",
       "    <tr>\n",
       "      <th>4</th>\n",
       "      <td>5021</td>\n",
       "      <td>1.0</td>\n",
       "      <td>3.0</td>\n",
       "      <td>2.0</td>\n",
       "      <td>3</td>\n",
       "    </tr>\n",
       "  </tbody>\n",
       "</table>\n",
       "</div>"
      ],
      "text/plain": [
       "   HOSPID  HOSP_BEDSIZE  HOSP_CONTROL  HOSP_LOCTEACH  HOSP_REGION\n",
       "0    5021           1.0           3.0            2.0            3\n",
       "1    5021           1.0           3.0            2.0            3\n",
       "2    5021           1.0           3.0            2.0            3\n",
       "3    5021           1.0           3.0            2.0            3\n",
       "4    5021           1.0           3.0            2.0            3"
      ]
     },
     "execution_count": 104,
     "metadata": {},
     "output_type": "execute_result"
    }
   ],
   "source": [
    "sub_hosp.head()"
   ]
  },
  {
   "cell_type": "code",
   "execution_count": null,
   "metadata": {
    "collapsed": true
   },
   "outputs": [],
   "source": []
  },
  {
   "cell_type": "code",
   "execution_count": null,
   "metadata": {
    "collapsed": true
   },
   "outputs": [],
   "source": []
  },
  {
   "cell_type": "code",
   "execution_count": null,
   "metadata": {
    "collapsed": true
   },
   "outputs": [],
   "source": []
  },
  {
   "cell_type": "code",
   "execution_count": null,
   "metadata": {
    "collapsed": true
   },
   "outputs": [],
   "source": []
  }
 ],
 "metadata": {
  "kernelspec": {
   "display_name": "Python 3",
   "language": "python",
   "name": "python3"
  },
  "language_info": {
   "codemirror_mode": {
    "name": "ipython",
    "version": 3
   },
   "file_extension": ".py",
   "mimetype": "text/x-python",
   "name": "python",
   "nbconvert_exporter": "python",
   "pygments_lexer": "ipython3",
   "version": "3.6.1"
  }
 },
 "nbformat": 4,
 "nbformat_minor": 2
}
