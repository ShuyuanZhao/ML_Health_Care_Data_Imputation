{
 "cells": [
  {
   "cell_type": "code",
   "execution_count": 1,
   "metadata": {},
   "outputs": [],
   "source": [
    "import numpy as np\n",
    "import pandas as pd\n",
    "import re\n",
    "from _helper import checking_missing, correlation_analysis\n",
    "from sklearn.model_selection import train_test_split\n",
    "import os\n",
    "import matplotlib.pyplot as plt\n",
    "%matplotlib inline"
   ]
  },
  {
   "cell_type": "code",
   "execution_count": 2,
   "metadata": {},
   "outputs": [
    {
     "name": "stdout",
     "output_type": "stream",
     "text": [
      "Loading data...\n",
      "Data is loaded\n"
     ]
    }
   ],
   "source": [
    "print('Loading data...')\n",
    "df = pd.read_csv(\"../../MLProject/data_train.csv\")\n",
    "print('Data is loaded')"
   ]
  },
  {
   "cell_type": "code",
   "execution_count": 3,
   "metadata": {
    "collapsed": true
   },
   "outputs": [],
   "source": [
    "target_columns = ['ASOURCE','ATYPE','RACE','ZIPINC_QRTL','TOTCHG']\n",
    "CM_columns = []\n",
    "DXCCS_columns = []\n",
    "PRCCS_columns = []\n",
    "PRDAY_columns = []\n",
    "HOSP_columns = []\n",
    "other_columns = []\n",
    "for col in df.columns:\n",
    "    if re.match('^CM',col):\n",
    "        CM_columns.append(col)\n",
    "    elif re.match('^DXCCS',col):\n",
    "        DXCCS_columns.append(col)\n",
    "    elif re.match('^PRCCS',col):\n",
    "        PRCCS_columns.append(col)\n",
    "    elif re.match('^PRDAY',col):\n",
    "        PRDAY_columns.append(col)\n",
    "    elif re.match('^HOSP',col):\n",
    "        HOSP_columns.append(col)\n",
    "    elif col not in target_columns:\n",
    "        other_columns.append(col)"
   ]
  },
  {
   "cell_type": "markdown",
   "metadata": {},
   "source": [
    "# Missing data"
   ]
  },
  {
   "cell_type": "markdown",
   "metadata": {},
   "source": [
    "## PRDAY_columns"
   ]
  },
  {
   "cell_type": "code",
   "execution_count": 4,
   "metadata": {
    "collapsed": true
   },
   "outputs": [],
   "source": [
    "sub_prday = df.loc[:,PRDAY_columns]"
   ]
  },
  {
   "cell_type": "code",
   "execution_count": 5,
   "metadata": {
    "collapsed": true
   },
   "outputs": [],
   "source": [
    "PRDAT_mean = sub_prday.mean(axis = 1).rename('PRDAT_mean').fillna(9999)\n",
    "PRDAT_var = sub_prday.var(axis = 1).rename('PRDAT_var').fillna(0)"
   ]
  },
  {
   "cell_type": "code",
   "execution_count": 6,
   "metadata": {
    "collapsed": true
   },
   "outputs": [],
   "source": [
    "PRDAY1_ = df['PRDAY1'].fillna(9999).rename('PRDAY1_')\n",
    "PRDAY2_ = df['PRDAY2'].fillna(9999).rename('PRDAY2_')\n",
    "PRDAY3_ = df['PRDAY3'].fillna(9999).rename('PRDAY3_')"
   ]
  },
  {
   "cell_type": "code",
   "execution_count": 7,
   "metadata": {
    "collapsed": true
   },
   "outputs": [],
   "source": [
    "PREDAY_new = pd.concat([df['PRDAY1'], PRDAY1_, df['PRDAY2'],PRDAY2_, df['PRDAY3'],PRDAY3_, PRDAT_mean, PRDAT_var], axis=1)\n"
   ]
  },
  {
   "cell_type": "code",
   "execution_count": 8,
   "metadata": {
    "collapsed": true
   },
   "outputs": [],
   "source": [
    "target = df.loc[:,['ASOURCE','ATYPE','RACE','TOTCHG','ZIPINC_QRTL']]"
   ]
  },
  {
   "cell_type": "code",
   "execution_count": 9,
   "metadata": {
    "collapsed": true
   },
   "outputs": [],
   "source": [
    "df_check = pd.concat([PREDAY_new,target],axis=1)"
   ]
  },
  {
   "cell_type": "code",
   "execution_count": 10,
   "metadata": {},
   "outputs": [],
   "source": [
    "# df_check.head(10)"
   ]
  },
  {
   "cell_type": "code",
   "execution_count": 11,
   "metadata": {},
   "outputs": [
    {
     "data": {
      "image/png": "[encoded data removed]",
      "text/plain": [
       "<matplotlib.figure.Figure at 0x10de38748>"
      ]
     },
     "metadata": {},
     "output_type": "display_data"
    }
   ],
   "source": [
    "other_columns_correlation = correlation_analysis(df_check,list(target.columns), list(PREDAY_new.columns))"
   ]
  },
  {
   "cell_type": "code",
   "execution_count": 12,
   "metadata": {
    "collapsed": true
   },
   "outputs": [],
   "source": [
    "# using PRDAY1_ and PRDAY_mean\n",
    "PREDAY= pd.concat([PRDAY1_,PRDAT_mean],axis = 1)"
   ]
  },
  {
   "cell_type": "code",
   "execution_count": 13,
   "metadata": {},
   "outputs": [],
   "source": [
    "# missing_check = checking_missing(PREDAY,False)"
   ]
  },
  {
   "cell_type": "markdown",
   "metadata": {},
   "source": [
    "## DXCCS_columns"
   ]
  },
  {
   "cell_type": "code",
   "execution_count": 15,
   "metadata": {
    "collapsed": true
   },
   "outputs": [],
   "source": [
    "sub_dxccs = df.loc[:,DXCCS_columns]"
   ]
  },
  {
   "cell_type": "code",
   "execution_count": 16,
   "metadata": {},
   "outputs": [
    {
     "name": "stdout",
     "output_type": "stream",
     "text": [
      "The mean of dxccs is: 184.74491170263215\n"
     ]
    }
   ],
   "source": [
    "Mean = sub_dxccs.mean().mean()\n",
    "print('The mean of dxccs is:',Mean)\n",
    "dxccs = df.loc[:,DXCCS_columns[:5]].fillna(Mean)"
   ]
  },
  {
   "cell_type": "code",
   "execution_count": 17,
   "metadata": {},
   "outputs": [],
   "source": [
    "# missing_check = checking_missing(dxccs,False)"
   ]
  },
  {
   "cell_type": "markdown",
   "metadata": {},
   "source": [
    "## PRCCS_columns"
   ]
  },
  {
   "cell_type": "code",
   "execution_count": 18,
   "metadata": {
    "collapsed": true
   },
   "outputs": [],
   "source": [
    "prccs = df.loc[:,PRCCS_columns[:3]].fillna(231)"
   ]
  },
  {
   "cell_type": "code",
   "execution_count": 19,
   "metadata": {},
   "outputs": [],
   "source": [
    "# missing_check = checking_missing(prccs,False)"
   ]
  },
  {
   "cell_type": "markdown",
   "metadata": {},
   "source": [
    "## HOSP_columns"
   ]
  },
  {
   "cell_type": "code",
   "execution_count": 20,
   "metadata": {
    "collapsed": true
   },
   "outputs": [],
   "source": [
    "sub_hosp = df.loc[:,HOSP_columns[1:4]]"
   ]
  },
  {
   "cell_type": "code",
   "execution_count": 21,
   "metadata": {},
   "outputs": [
    {
     "data": {
      "text/plain": [
       "HOSP_BEDSIZE     float64\n",
       "HOSP_CONTROL     float64\n",
       "HOSP_LOCTEACH    float64\n",
       "dtype: object"
      ]
     },
     "execution_count": 21,
     "metadata": {},
     "output_type": "execute_result"
    }
   ],
   "source": [
    "sub_hosp.dtypes"
   ]
  },
  {
   "cell_type": "code",
   "execution_count": 22,
   "metadata": {
    "collapsed": true
   },
   "outputs": [],
   "source": [
    "HOSP = pd.get_dummies(sub_hosp.astype(str), dummy_na=True)"
   ]
  },
  {
   "cell_type": "code",
   "execution_count": 23,
   "metadata": {},
   "outputs": [],
   "source": [
    "# HOSP.head(5)"
   ]
  },
  {
   "cell_type": "markdown",
   "metadata": {},
   "source": [
    "## other_columns"
   ]
  },
  {
   "cell_type": "code",
   "execution_count": 24,
   "metadata": {
    "collapsed": true
   },
   "outputs": [],
   "source": [
    "sub_others = df.loc[:,other_columns]"
   ]
  },
  {
   "cell_type": "code",
   "execution_count": 25,
   "metadata": {
    "collapsed": true
   },
   "outputs": [],
   "source": [
    "sub_others.drop('KEY', axis = 1,inplace=True)\n",
    "sub_others.AGE.fillna(df.AGE.mean(),inplace =True)\n",
    "sub_others.AMONTH.fillna(df.AMONTH.mode()[0],inplace =True)\n",
    "sub_others.AWEEKEND.fillna(0,inplace =True)\n",
    "sub_others.DIED.fillna(0,inplace =True)\n",
    "sub_others.DISPUNIFORM.fillna(df.DISPUNIFORM.mode()[0],inplace =True)\n",
    "# df[\"column\"].fillna(lambda x: random.choice(df[df[column] != np.nan][\"column\"]), inplace =True)\n",
    "sub_others.FEMALE.fillna(lambda x: random.choice(sub_others[sub_others[FEMALE] != np.nan][\"FEMALE\"]), inplace = True)\n",
    "sub_others.LOS.fillna(lambda x: random.choice(sub_others[sub_others[LOS] != np.nan][\"LOS\"]), inplace = True)\n",
    "sub_others.PAY1.fillna(7,inplace =True)"
   ]
  },
  {
   "cell_type": "code",
   "execution_count": 26,
   "metadata": {},
   "outputs": [],
   "source": [
    "# missing_check = checking_missing(sub_others,False)"
   ]
  },
  {
   "cell_type": "markdown",
   "metadata": {},
   "source": [
    "# concatenate all columns"
   ]
  },
  {
   "cell_type": "code",
   "execution_count": 27,
   "metadata": {
    "collapsed": true
   },
   "outputs": [],
   "source": [
    "cm = df.loc[:,CM_columns]"
   ]
  },
  {
   "cell_type": "code",
   "execution_count": 43,
   "metadata": {},
   "outputs": [],
   "source": [
    "X = pd.concat([PREDAY,dxccs,prccs,HOSP,sub_others,cm],axis = 1)"
   ]
  },
  {
   "cell_type": "code",
   "execution_count": 44,
   "metadata": {},
   "outputs": [
    {
     "name": "stdout",
     "output_type": "stream",
     "text": [
      "The shape of df is: (494932, 111)\n",
      "The shape of X is: (494932, 72)\n"
     ]
    }
   ],
   "source": [
    "print('The shape of df is:', df.shape)\n",
    "print('The shape of X is:', X.shape)"
   ]
  },
  {
   "cell_type": "markdown",
   "metadata": {},
   "source": [
    "# data split"
   ]
  },
  {
   "cell_type": "code",
   "execution_count": 45,
   "metadata": {
    "collapsed": true
   },
   "outputs": [],
   "source": [
    "target_columns = ['ASOURCE','ATYPE','RACE','ZIPINC_QRTL','TOTCHG']\n",
    "Y = df.loc[:,target_columns]"
   ]
  },
  {
   "cell_type": "code",
   "execution_count": 46,
   "metadata": {
    "collapsed": true
   },
   "outputs": [],
   "source": [
    "X_train, X_test, y_train, y_test = train_test_split(X, Y, test_size=0.3, random_state=42)"
   ]
  },
  {
   "cell_type": "code",
   "execution_count": 47,
   "metadata": {
    "collapsed": true
   },
   "outputs": [],
   "source": [
    "# making directory\n",
    "if not os.path.exists(\"../../MLProject/split_data/\"):\n",
    "    os.makedirs(\"../../MLProject/split_data/\")"
   ]
  },
  {
   "cell_type": "code",
   "execution_count": 48,
   "metadata": {
    "collapsed": true
   },
   "outputs": [],
   "source": [
    "# saving data   \n",
    "X_train.to_csv(\"../../MLProject/split_data/X_train.csv\")\n",
    "y_train.to_csv(\"../../MLProject/split_data/y_train.csv\")\n",
    "X_test.to_csv(\"../../MLProject/split_data/X_test.csv\")\n",
    "y_test.to_csv(\"../../MLProject/split_data/y_test.csv\")"
   ]
  },
  {
   "cell_type": "code",
   "execution_count": null,
   "metadata": {
    "collapsed": true
   },
   "outputs": [],
   "source": []
  },
  {
   "cell_type": "code",
   "execution_count": null,
   "metadata": {
    "collapsed": true
   },
   "outputs": [],
   "source": []
  }
 ],
 "metadata": {
  "kernelspec": {
   "display_name": "Python 3",
   "language": "python",
   "name": "python3"
  },
  "language_info": {
   "codemirror_mode": {
    "name": "ipython",
    "version": 3
   },
   "file_extension": ".py",
   "mimetype": "text/x-python",
   "name": "python",
   "nbconvert_exporter": "python",
   "pygments_lexer": "ipython3",
   "version": "3.6.1"
  }
 },
 "nbformat": 4,
 "nbformat_minor": 2
}
