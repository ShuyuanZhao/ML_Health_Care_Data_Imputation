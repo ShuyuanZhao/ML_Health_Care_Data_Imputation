{
 "cells": [
  {
   "cell_type": "code",
   "execution_count": 1,
   "metadata": {
    "collapsed": true
   },
   "outputs": [],
   "source": [
    "import pandas as pd\n",
    "import numpy as np\n",
    "from numpy import loadtxt\n",
    "from sklearn.metrics import accuracy_score\n",
    "import lightgbm as lgb"
   ]
  },
  {
   "cell_type": "code",
   "execution_count": 18,
   "metadata": {
    "collapsed": true
   },
   "outputs": [],
   "source": [
    "def lgboost(X_train,y_train,X_valid,y_valid,N):\n",
    "    for i in range(len(y_train)):\n",
    "        y_train[i] -=1\n",
    "    \n",
    "    for i in range(len(y_valid)):\n",
    "        y_valid[i] -=1\n",
    "        \n",
    "    d_train = lgb.Dataset(X_train, label=y_train)\n",
    "    d_valid = lgb.Dataset(X_valid, label=y_valid) \n",
    "    watchlist = [d_train, d_valid]\n",
    "    print('Training LGBM model...')\n",
    "    params = {}\n",
    "    params['learning_rate'] = 0.4\n",
    "    params['application'] = 'multiclass'\n",
    "    params['max_depth'] = 15\n",
    "    params['num_leaves'] = 2**8\n",
    "    params['verbosity'] = 0\n",
    "    params['metric'] = 'multi_logloss'\n",
    "    params['num_class'] = N\n",
    "    \n",
    "    model = lgb.train(params, train_set=d_train, num_boost_round=200, valid_sets=watchlist,early_stopping_rounds=30, verbose_eval=10)   \n",
    "    print('Making predictions...')\n",
    "    y_pred = model.predict(X_valid)\n",
    "    \n",
    "    result = []\n",
    "    for i in range(len(y_pred)):\n",
    "        j = 1\n",
    "        hold = y_pred[i][0]\n",
    "        res = 0\n",
    "        while j < len(y_pred[i]):\n",
    "            if y_pred[i][j] > hold:\n",
    "                holde = y_pred[i][j]\n",
    "                res = j\n",
    "            j += 1\n",
    "        result.append(res+1)\n",
    "        \n",
    "    for i in range(len(y_valid)):\n",
    "        y_valid[i] +=1\n",
    "        \n",
    "    valid = list(y_valid)\n",
    "    \n",
    "    accuracy = accuracy_score(result, valid)\n",
    "    print(\"Accuracy: %.2f%%\" % (accuracy * 100.0))    \n",
    "    \n",
    "    return result\n"
   ]
  },
  {
   "cell_type": "code",
   "execution_count": 17,
   "metadata": {},
   "outputs": [],
   "source": [
    "X_train= pd.read_csv(\"../../MLProject/split_data/X_train.csv\")\n",
    "X_valid = pd.read_csv(\"../../MLProject/split_data/X_test.csv\")"
   ]
  },
  {
   "cell_type": "code",
   "execution_count": 47,
   "metadata": {
    "collapsed": true
   },
   "outputs": [],
   "source": [
    "y_train = pd.read_csv(\"../../MLProject/split_data/y_train.csv\")\n",
    "y_valid = pd.read_csv(\"../../MLProject/split_data/y_test.csv\")"
   ]
  },
  {
   "cell_type": "code",
   "execution_count": 4,
   "metadata": {
    "collapsed": true
   },
   "outputs": [],
   "source": [
    "# X_train.FEMALE = pd.to_numeric(X_train.FEMALE, errors='coerce')\n",
    "# X_train.LOS = pd.to_numeric(X_train.LOS, errors='coerce')\n",
    "# X_valid.FEMALE = pd.to_numeric(X_valid.FEMALE, errors='coerce')\n",
    "# X_valid.LOS = pd.to_numeric(X_valid.LOS, errors='coerce')"
   ]
  },
  {
   "cell_type": "markdown",
   "metadata": {},
   "source": [
    "# ZIPINC_QRTL"
   ]
  },
  {
   "cell_type": "code",
   "execution_count": 5,
   "metadata": {
    "collapsed": true
   },
   "outputs": [],
   "source": [
    "y_train_ZIPINC_QRTL = y_train.ZIPINC_QRTL\n",
    "y_valid_ZIPINC_QRTL = y_valid.ZIPINC_QRTL"
   ]
  },
  {
   "cell_type": "code",
   "execution_count": 6,
   "metadata": {},
   "outputs": [
    {
     "name": "stdout",
     "output_type": "stream",
     "text": [
      "Training LGBM model...\n",
      "Training until validation scores don't improve for 30 rounds.\n",
      "[10]\ttraining's multi_logloss: 0.88482\tvalid_1's multi_logloss: 0.916895\n",
      "[20]\ttraining's multi_logloss: 0.840195\tvalid_1's multi_logloss: 0.911662\n",
      "[30]\ttraining's multi_logloss: 0.807253\tvalid_1's multi_logloss: 0.913623\n",
      "[40]\ttraining's multi_logloss: 0.779752\tvalid_1's multi_logloss: 0.91586\n",
      "[50]\ttraining's multi_logloss: 0.754041\tvalid_1's multi_logloss: 0.917727\n",
      "Early stopping, best iteration is:\n",
      "[20]\ttraining's multi_logloss: 0.840195\tvalid_1's multi_logloss: 0.911662\n",
      "Making predictions...\n",
      "Accuracy: 55.76%\n"
     ]
    }
   ],
   "source": [
    "prediction = lgboost(X_train,y_train_ZIPINC_QRTL,X_valid,y_valid_ZIPINC_QRTL,5)"
   ]
  },
  {
   "cell_type": "markdown",
   "metadata": {},
   "source": [
    "# ASOURCE"
   ]
  },
  {
   "cell_type": "code",
   "execution_count": 12,
   "metadata": {},
   "outputs": [],
   "source": [
    "y_train_ASOURCE = y_train.ASOURCE\n",
    "y_valid_ASOURCE = y_valid.ASOURCE"
   ]
  },
  {
   "cell_type": "code",
   "execution_count": 13,
   "metadata": {},
   "outputs": [
    {
     "name": "stdout",
     "output_type": "stream",
     "text": [
      "Training LGBM model...\n",
      "Training until validation scores don't improve for 30 rounds.\n",
      "[10]\ttraining's multi_logloss: 0.257259\tvalid_1's multi_logloss: 0.285138\n",
      "[20]\ttraining's multi_logloss: 0.199183\tvalid_1's multi_logloss: 0.262543\n",
      "[30]\ttraining's multi_logloss: 0.174482\tvalid_1's multi_logloss: 0.267566\n",
      "[40]\ttraining's multi_logloss: 0.153085\tvalid_1's multi_logloss: 0.270494\n",
      "[50]\ttraining's multi_logloss: 0.135376\tvalid_1's multi_logloss: 0.274799\n",
      "Early stopping, best iteration is:\n",
      "[24]\ttraining's multi_logloss: 0.185768\tvalid_1's multi_logloss: 0.26172\n",
      "Making predictions...\n",
      "Accuracy: 89.21%\n"
     ]
    }
   ],
   "source": [
    "prediction = lgboost(X_train,y_train_ASOURCE,X_valid,y_valid_ASOURCE,5)"
   ]
  },
  {
   "cell_type": "markdown",
   "metadata": {},
   "source": [
    "# ATYPE"
   ]
  },
  {
   "cell_type": "code",
   "execution_count": 19,
   "metadata": {
    "collapsed": true
   },
   "outputs": [],
   "source": [
    "y_train_ATYPE = y_train.ATYPE\n",
    "y_valid_ATYPE = y_valid.ATYPE"
   ]
  },
  {
   "cell_type": "code",
   "execution_count": 20,
   "metadata": {},
   "outputs": [
    {
     "name": "stdout",
     "output_type": "stream",
     "text": [
      "Training LGBM model...\n",
      "Training until validation scores don't improve for 30 rounds.\n",
      "[10]\ttraining's multi_logloss: 0.373022\tvalid_1's multi_logloss: 0.398691\n",
      "[20]\ttraining's multi_logloss: 0.309124\tvalid_1's multi_logloss: 0.364866\n",
      "[30]\ttraining's multi_logloss: 0.281181\tvalid_1's multi_logloss: 0.36157\n",
      "[40]\ttraining's multi_logloss: 0.260821\tvalid_1's multi_logloss: 0.362515\n",
      "[50]\ttraining's multi_logloss: 0.242669\tvalid_1's multi_logloss: 0.363827\n",
      "[60]\ttraining's multi_logloss: 0.226951\tvalid_1's multi_logloss: 0.365756\n",
      "Early stopping, best iteration is:\n",
      "[30]\ttraining's multi_logloss: 0.281181\tvalid_1's multi_logloss: 0.36157\n",
      "Making predictions...\n",
      "Accuracy: 81.13%\n"
     ]
    }
   ],
   "source": [
    "prediction = lgboost(X_train,y_train_ATYPE,X_valid,y_valid_ATYPE,6)"
   ]
  },
  {
   "cell_type": "markdown",
   "metadata": {},
   "source": [
    "# RACE"
   ]
  },
  {
   "cell_type": "code",
   "execution_count": 21,
   "metadata": {
    "collapsed": true
   },
   "outputs": [],
   "source": [
    "y_train_RACE = y_train.RACE\n",
    "y_valid_RACE = y_valid.RACE"
   ]
  },
  {
   "cell_type": "code",
   "execution_count": 22,
   "metadata": {},
   "outputs": [
    {
     "name": "stdout",
     "output_type": "stream",
     "text": [
      "Training LGBM model...\n",
      "Training until validation scores don't improve for 30 rounds.\n",
      "[10]\ttraining's multi_logloss: 0.610784\tvalid_1's multi_logloss: 0.654743\n",
      "[20]\ttraining's multi_logloss: 0.535002\tvalid_1's multi_logloss: 0.633875\n",
      "[30]\ttraining's multi_logloss: 0.489963\tvalid_1's multi_logloss: 0.634899\n",
      "[40]\ttraining's multi_logloss: 0.455774\tvalid_1's multi_logloss: 0.638773\n",
      "[50]\ttraining's multi_logloss: 0.428455\tvalid_1's multi_logloss: 0.642884\n",
      "Early stopping, best iteration is:\n",
      "[21]\ttraining's multi_logloss: 0.529637\tvalid_1's multi_logloss: 0.633722\n",
      "Making predictions...\n",
      "Accuracy: 74.32%\n"
     ]
    }
   ],
   "source": [
    "prediction = lgboost(X_train,y_train_RACE,X_valid,y_valid_RACE,6)"
   ]
  },
  {
   "cell_type": "markdown",
   "metadata": {},
   "source": [
    "# TOTCHG"
   ]
  },
  {
   "cell_type": "code",
   "execution_count": 48,
   "metadata": {
    "collapsed": true
   },
   "outputs": [],
   "source": [
    "def RevertTrain(y):\n",
    "    Y = []\n",
    "    for i in range(len(y)):\n",
    "        if 40000 <= y[i]:\n",
    "            Y.append(6)\n",
    "        elif 20000 <= y[i] < 40000:\n",
    "            Y.append(5)\n",
    "        elif 10000 <= y[i] < 20000:\n",
    "            Y.append(4)\n",
    "        elif 5000 <= y[i] < 10000:\n",
    "            Y.append(3)\n",
    "        elif 1000 <= y[i] < 5000:\n",
    "            Y.append(2)\n",
    "        elif y[i] <= 1000:\n",
    "            Y.append(1)\n",
    "    return Y"
   ]
  },
  {
   "cell_type": "code",
   "execution_count": 49,
   "metadata": {
    "collapsed": true
   },
   "outputs": [],
   "source": [
    "y_train_TOTCHG = y_train.TOTCHG\n",
    "y_valid_TOTCHG = y_valid.TOTCHG"
   ]
  },
  {
   "cell_type": "code",
   "execution_count": 50,
   "metadata": {},
   "outputs": [],
   "source": [
    "Y_train_TOTCHG = RevertTrain(y_train_TOTCHG)\n",
    "Y_valid_TOTCHG = RevertTrain(y_valid_TOTCHG)\n",
    "Y_train_TOTCHG = pd.Series(data=Y_train_TOTCHG, index=range(len(Y_train_TOTCHG)))\n",
    "Y_valid_TOTCHG = pd.Series(data=Y_valid_TOTCHG, index=range(len(Y_valid_TOTCHG)))"
   ]
  },
  {
   "cell_type": "code",
   "execution_count": 51,
   "metadata": {},
   "outputs": [
    {
     "data": {
      "text/plain": [
       "1"
      ]
     },
     "execution_count": 51,
     "metadata": {},
     "output_type": "execute_result"
    }
   ],
   "source": [
    "min(Y_train_TOTCHG)"
   ]
  },
  {
   "cell_type": "code",
   "execution_count": 52,
   "metadata": {},
   "outputs": [
    {
     "name": "stdout",
     "output_type": "stream",
     "text": [
      "Training LGBM model...\n",
      "Training until validation scores don't improve for 30 rounds.\n",
      "[10]\ttraining's multi_logloss: 0.619082\tvalid_1's multi_logloss: 0.653078\n",
      "[20]\ttraining's multi_logloss: 0.518696\tvalid_1's multi_logloss: 0.592686\n",
      "[30]\ttraining's multi_logloss: 0.468187\tvalid_1's multi_logloss: 0.582555\n",
      "[40]\ttraining's multi_logloss: 0.428356\tvalid_1's multi_logloss: 0.579215\n",
      "[50]\ttraining's multi_logloss: 0.394721\tvalid_1's multi_logloss: 0.578171\n",
      "[60]\ttraining's multi_logloss: 0.366581\tvalid_1's multi_logloss: 0.580144\n",
      "[70]\ttraining's multi_logloss: 0.341318\tvalid_1's multi_logloss: 0.581047\n",
      "[80]\ttraining's multi_logloss: 0.318755\tvalid_1's multi_logloss: 0.584081\n",
      "Early stopping, best iteration is:\n",
      "[54]\ttraining's multi_logloss: 0.382668\tvalid_1's multi_logloss: 0.577803\n",
      "Making predictions...\n",
      "Accuracy: 14.85%\n"
     ]
    }
   ],
   "source": [
    "prediction = lgboost(X_train,Y_train_TOTCHG,X_valid,Y_valid_TOTCHG,6)"
   ]
  },
  {
   "cell_type": "code",
   "execution_count": null,
   "metadata": {
    "collapsed": true
   },
   "outputs": [],
   "source": []
  },
  {
   "cell_type": "code",
   "execution_count": null,
   "metadata": {
    "collapsed": true
   },
   "outputs": [],
   "source": []
  },
  {
   "cell_type": "code",
   "execution_count": null,
   "metadata": {
    "collapsed": true
   },
   "outputs": [],
   "source": []
  },
  {
   "cell_type": "code",
   "execution_count": null,
   "metadata": {
    "collapsed": true
   },
   "outputs": [],
   "source": []
  },
  {
   "cell_type": "code",
   "execution_count": null,
   "metadata": {
    "collapsed": true
   },
   "outputs": [],
   "source": []
  }
 ],
 "metadata": {
  "kernelspec": {
   "display_name": "Python 3",
   "language": "python",
   "name": "python3"
  },
  "language_info": {
   "codemirror_mode": {
    "name": "ipython",
    "version": 3
   },
   "file_extension": ".py",
   "mimetype": "text/x-python",
   "name": "python",
   "nbconvert_exporter": "python",
   "pygments_lexer": "ipython3",
   "version": "3.6.1"
  }
 },
 "nbformat": 4,
 "nbformat_minor": 2
}
