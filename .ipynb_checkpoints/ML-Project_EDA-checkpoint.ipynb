{
 "cells": [
  {
   "cell_type": "code",
   "execution_count": 1,
   "metadata": {
    "collapsed": true
   },
   "outputs": [],
   "source": [
    "import numpy as np\n",
    "import pandas as pd\n",
    "import matplotlib.pyplot as plt\n",
    "import seaborn as sns\n",
    "import re\n",
    "import collections\n",
    "import plotly \n",
    "import plotly.plotly as py\n",
    "import plotly.graph_objs as go\n",
    "%matplotlib inline"
   ]
  },
  {
   "cell_type": "code",
   "execution_count": 2,
   "metadata": {
    "collapsed": true
   },
   "outputs": [],
   "source": [
    "plotly.tools.set_credentials_file(username='ShuyuanZhao', api_key='QlHttzgXOdXCz2U1EbOD')"
   ]
  },
  {
   "cell_type": "code",
   "execution_count": 4,
   "metadata": {
    "collapsed": true
   },
   "outputs": [],
   "source": [
    "from _helper import checking_missing, correlation_analysis, series_to_freq"
   ]
  },
  {
   "cell_type": "code",
   "execution_count": 222,
   "metadata": {
    "collapsed": true
   },
   "outputs": [],
   "source": [
    "def checking_missing(df,Filter):\n",
    "    \"\"\"\n",
    "    check and filter the missing value for each varible in DataFrame\n",
    "    : type df: pandas.core.frame.DataFrame\n",
    "    : type Filter: int or boolean\n",
    "    : rtype: dictionary\n",
    "    \"\"\"\n",
    "    missing_count = {}\n",
    "    for column in df:\n",
    "        missing_num = sum(df[column].isnull())\n",
    "        if missing_num == 0:\n",
    "            pass           \n",
    "        elif not Filter:\n",
    "            missing_count[column] = missing_num\n",
    "            print('The number of missing value for',column,'is:',missing_num,',','{0:.2f}'.format(missing_num/df.shape[0]*100),'%')\n",
    "        elif missing_num/df.shape[0]*100 > Filter: \n",
    "            missing_count[column] = missing_num\n",
    "            print('The number of missing value for',column,'is:',missing_num,',','{0:.2f}'.format(missing_num/df.shape[0]*100),'%')\n",
    "    if not missing_count:\n",
    "        print('There is no missing value...')\n",
    "    return missing_count\n",
    "\n"
   ]
  },
  {
   "cell_type": "code",
   "execution_count": null,
   "metadata": {
    "collapsed": true
   },
   "outputs": [],
   "source": [
    "def correlation_analysis(target, source):\n",
    "    \"\"\"\n",
    "    generate correlation heatmap\n",
    "    : type target: string # column name\n",
    "    : type source: string # column name\n",
    "    \"\"\"\n",
    "    matrix_hold = []\n",
    "    for i in source:\n",
    "        hold = []\n",
    "        for j in target:\n",
    "            hold.append(df[i].corr(df[j]))\n",
    "        matrix_hold.append(hold)\n",
    "    correlation_matrix = np.asarray(matrix_hold)\n",
    "    sns.heatmap(correlation_matrix, xticklabels=target, yticklabels=source)\n",
    "    plt.title('feature correlations')\n",
    "    return correlation_matrix"
   ]
  },
  {
   "cell_type": "code",
   "execution_count": 311,
   "metadata": {
    "collapsed": true
   },
   "outputs": [],
   "source": [
    "def series_to_freq(series):\n",
    "    \"\"\"\n",
    "    caculate frequence for categorical variables\n",
    "    : type series: pandas.series\n",
    "    \"\"\"\n",
    "    counter=collections.Counter(series)\n",
    "    freq_table = pd.DataFrame(list(counter.items()),columns=['category', 'frequence'])\n",
    "    return freq_table"
   ]
  },
  {
   "cell_type": "markdown",
   "metadata": {},
   "source": [
    "# Load dataset"
   ]
  },
  {
   "cell_type": "code",
   "execution_count": 5,
   "metadata": {},
   "outputs": [
    {
     "name": "stdout",
     "output_type": "stream",
     "text": [
      "Loading data...\n"
     ]
    },
    {
     "ename": "FileNotFoundError",
     "evalue": "File b'./data_train.csv' does not exist",
     "output_type": "error",
     "traceback": [
      "\u001b[0;31m---------------------------------------------------------------------------\u001b[0m",
      "\u001b[0;31mFileNotFoundError\u001b[0m                         Traceback (most recent call last)",
      "\u001b[0;32m<ipython-input-5-3291836303e6>\u001b[0m in \u001b[0;36m<module>\u001b[0;34m()\u001b[0m\n\u001b[1;32m      1\u001b[0m \u001b[0mprint\u001b[0m\u001b[0;34m(\u001b[0m\u001b[0;34m'Loading data...'\u001b[0m\u001b[0;34m)\u001b[0m\u001b[0;34m\u001b[0m\u001b[0m\n\u001b[0;32m----> 2\u001b[0;31m \u001b[0mdf\u001b[0m \u001b[0;34m=\u001b[0m \u001b[0mpd\u001b[0m\u001b[0;34m.\u001b[0m\u001b[0mread_csv\u001b[0m\u001b[0;34m(\u001b[0m\u001b[0;34m\"./data_train.csv\"\u001b[0m\u001b[0;34m)\u001b[0m\u001b[0;34m\u001b[0m\u001b[0m\n\u001b[0m\u001b[1;32m      3\u001b[0m \u001b[0mprint\u001b[0m\u001b[0;34m(\u001b[0m\u001b[0;34m'Data is loaded'\u001b[0m\u001b[0;34m)\u001b[0m\u001b[0;34m\u001b[0m\u001b[0m\n\u001b[1;32m      4\u001b[0m \u001b[0mprint\u001b[0m\u001b[0;34m(\u001b[0m\u001b[0;34m'The shape of data_train is:'\u001b[0m\u001b[0;34m,\u001b[0m\u001b[0mdf\u001b[0m\u001b[0;34m.\u001b[0m\u001b[0mshape\u001b[0m\u001b[0;34m)\u001b[0m\u001b[0;34m\u001b[0m\u001b[0m\n\u001b[1;32m      5\u001b[0m \u001b[0mprint\u001b[0m\u001b[0;34m(\u001b[0m\u001b[0;34m\"Summary of the basic information about this DataFrame and its data:\"\u001b[0m\u001b[0;34m)\u001b[0m\u001b[0;34m\u001b[0m\u001b[0m\n",
      "\u001b[0;32m/Users/Shuyuan/anaconda/lib/python3.6/site-packages/pandas/io/parsers.py\u001b[0m in \u001b[0;36mparser_f\u001b[0;34m(filepath_or_buffer, sep, delimiter, header, names, index_col, usecols, squeeze, prefix, mangle_dupe_cols, dtype, engine, converters, true_values, false_values, skipinitialspace, skiprows, nrows, na_values, keep_default_na, na_filter, verbose, skip_blank_lines, parse_dates, infer_datetime_format, keep_date_col, date_parser, dayfirst, iterator, chunksize, compression, thousands, decimal, lineterminator, quotechar, quoting, escapechar, comment, encoding, dialect, tupleize_cols, error_bad_lines, warn_bad_lines, skipfooter, skip_footer, doublequote, delim_whitespace, as_recarray, compact_ints, use_unsigned, low_memory, buffer_lines, memory_map, float_precision)\u001b[0m\n\u001b[1;32m    653\u001b[0m                     skip_blank_lines=skip_blank_lines)\n\u001b[1;32m    654\u001b[0m \u001b[0;34m\u001b[0m\u001b[0m\n\u001b[0;32m--> 655\u001b[0;31m         \u001b[0;32mreturn\u001b[0m \u001b[0m_read\u001b[0m\u001b[0;34m(\u001b[0m\u001b[0mfilepath_or_buffer\u001b[0m\u001b[0;34m,\u001b[0m \u001b[0mkwds\u001b[0m\u001b[0;34m)\u001b[0m\u001b[0;34m\u001b[0m\u001b[0m\n\u001b[0m\u001b[1;32m    656\u001b[0m \u001b[0;34m\u001b[0m\u001b[0m\n\u001b[1;32m    657\u001b[0m     \u001b[0mparser_f\u001b[0m\u001b[0;34m.\u001b[0m\u001b[0m__name__\u001b[0m \u001b[0;34m=\u001b[0m \u001b[0mname\u001b[0m\u001b[0;34m\u001b[0m\u001b[0m\n",
      "\u001b[0;32m/Users/Shuyuan/anaconda/lib/python3.6/site-packages/pandas/io/parsers.py\u001b[0m in \u001b[0;36m_read\u001b[0;34m(filepath_or_buffer, kwds)\u001b[0m\n\u001b[1;32m    403\u001b[0m \u001b[0;34m\u001b[0m\u001b[0m\n\u001b[1;32m    404\u001b[0m     \u001b[0;31m# Create the parser.\u001b[0m\u001b[0;34m\u001b[0m\u001b[0;34m\u001b[0m\u001b[0m\n\u001b[0;32m--> 405\u001b[0;31m     \u001b[0mparser\u001b[0m \u001b[0;34m=\u001b[0m \u001b[0mTextFileReader\u001b[0m\u001b[0;34m(\u001b[0m\u001b[0mfilepath_or_buffer\u001b[0m\u001b[0;34m,\u001b[0m \u001b[0;34m**\u001b[0m\u001b[0mkwds\u001b[0m\u001b[0;34m)\u001b[0m\u001b[0;34m\u001b[0m\u001b[0m\n\u001b[0m\u001b[1;32m    406\u001b[0m \u001b[0;34m\u001b[0m\u001b[0m\n\u001b[1;32m    407\u001b[0m     \u001b[0;32mif\u001b[0m \u001b[0mchunksize\u001b[0m \u001b[0;32mor\u001b[0m \u001b[0miterator\u001b[0m\u001b[0;34m:\u001b[0m\u001b[0;34m\u001b[0m\u001b[0m\n",
      "\u001b[0;32m/Users/Shuyuan/anaconda/lib/python3.6/site-packages/pandas/io/parsers.py\u001b[0m in \u001b[0;36m__init__\u001b[0;34m(self, f, engine, **kwds)\u001b[0m\n\u001b[1;32m    760\u001b[0m             \u001b[0mself\u001b[0m\u001b[0;34m.\u001b[0m\u001b[0moptions\u001b[0m\u001b[0;34m[\u001b[0m\u001b[0;34m'has_index_names'\u001b[0m\u001b[0;34m]\u001b[0m \u001b[0;34m=\u001b[0m \u001b[0mkwds\u001b[0m\u001b[0;34m[\u001b[0m\u001b[0;34m'has_index_names'\u001b[0m\u001b[0;34m]\u001b[0m\u001b[0;34m\u001b[0m\u001b[0m\n\u001b[1;32m    761\u001b[0m \u001b[0;34m\u001b[0m\u001b[0m\n\u001b[0;32m--> 762\u001b[0;31m         \u001b[0mself\u001b[0m\u001b[0;34m.\u001b[0m\u001b[0m_make_engine\u001b[0m\u001b[0;34m(\u001b[0m\u001b[0mself\u001b[0m\u001b[0;34m.\u001b[0m\u001b[0mengine\u001b[0m\u001b[0;34m)\u001b[0m\u001b[0;34m\u001b[0m\u001b[0m\n\u001b[0m\u001b[1;32m    763\u001b[0m \u001b[0;34m\u001b[0m\u001b[0m\n\u001b[1;32m    764\u001b[0m     \u001b[0;32mdef\u001b[0m \u001b[0mclose\u001b[0m\u001b[0;34m(\u001b[0m\u001b[0mself\u001b[0m\u001b[0;34m)\u001b[0m\u001b[0;34m:\u001b[0m\u001b[0;34m\u001b[0m\u001b[0m\n",
      "\u001b[0;32m/Users/Shuyuan/anaconda/lib/python3.6/site-packages/pandas/io/parsers.py\u001b[0m in \u001b[0;36m_make_engine\u001b[0;34m(self, engine)\u001b[0m\n\u001b[1;32m    964\u001b[0m     \u001b[0;32mdef\u001b[0m \u001b[0m_make_engine\u001b[0m\u001b[0;34m(\u001b[0m\u001b[0mself\u001b[0m\u001b[0;34m,\u001b[0m \u001b[0mengine\u001b[0m\u001b[0;34m=\u001b[0m\u001b[0;34m'c'\u001b[0m\u001b[0;34m)\u001b[0m\u001b[0;34m:\u001b[0m\u001b[0;34m\u001b[0m\u001b[0m\n\u001b[1;32m    965\u001b[0m         \u001b[0;32mif\u001b[0m \u001b[0mengine\u001b[0m \u001b[0;34m==\u001b[0m \u001b[0;34m'c'\u001b[0m\u001b[0;34m:\u001b[0m\u001b[0;34m\u001b[0m\u001b[0m\n\u001b[0;32m--> 966\u001b[0;31m             \u001b[0mself\u001b[0m\u001b[0;34m.\u001b[0m\u001b[0m_engine\u001b[0m \u001b[0;34m=\u001b[0m \u001b[0mCParserWrapper\u001b[0m\u001b[0;34m(\u001b[0m\u001b[0mself\u001b[0m\u001b[0;34m.\u001b[0m\u001b[0mf\u001b[0m\u001b[0;34m,\u001b[0m \u001b[0;34m**\u001b[0m\u001b[0mself\u001b[0m\u001b[0;34m.\u001b[0m\u001b[0moptions\u001b[0m\u001b[0;34m)\u001b[0m\u001b[0;34m\u001b[0m\u001b[0m\n\u001b[0m\u001b[1;32m    967\u001b[0m         \u001b[0;32melse\u001b[0m\u001b[0;34m:\u001b[0m\u001b[0;34m\u001b[0m\u001b[0m\n\u001b[1;32m    968\u001b[0m             \u001b[0;32mif\u001b[0m \u001b[0mengine\u001b[0m \u001b[0;34m==\u001b[0m \u001b[0;34m'python'\u001b[0m\u001b[0;34m:\u001b[0m\u001b[0;34m\u001b[0m\u001b[0m\n",
      "\u001b[0;32m/Users/Shuyuan/anaconda/lib/python3.6/site-packages/pandas/io/parsers.py\u001b[0m in \u001b[0;36m__init__\u001b[0;34m(self, src, **kwds)\u001b[0m\n\u001b[1;32m   1580\u001b[0m         \u001b[0mkwds\u001b[0m\u001b[0;34m[\u001b[0m\u001b[0;34m'allow_leading_cols'\u001b[0m\u001b[0;34m]\u001b[0m \u001b[0;34m=\u001b[0m \u001b[0mself\u001b[0m\u001b[0;34m.\u001b[0m\u001b[0mindex_col\u001b[0m \u001b[0;32mis\u001b[0m \u001b[0;32mnot\u001b[0m \u001b[0;32mFalse\u001b[0m\u001b[0;34m\u001b[0m\u001b[0m\n\u001b[1;32m   1581\u001b[0m \u001b[0;34m\u001b[0m\u001b[0m\n\u001b[0;32m-> 1582\u001b[0;31m         \u001b[0mself\u001b[0m\u001b[0;34m.\u001b[0m\u001b[0m_reader\u001b[0m \u001b[0;34m=\u001b[0m \u001b[0mparsers\u001b[0m\u001b[0;34m.\u001b[0m\u001b[0mTextReader\u001b[0m\u001b[0;34m(\u001b[0m\u001b[0msrc\u001b[0m\u001b[0;34m,\u001b[0m \u001b[0;34m**\u001b[0m\u001b[0mkwds\u001b[0m\u001b[0;34m)\u001b[0m\u001b[0;34m\u001b[0m\u001b[0m\n\u001b[0m\u001b[1;32m   1583\u001b[0m \u001b[0;34m\u001b[0m\u001b[0m\n\u001b[1;32m   1584\u001b[0m         \u001b[0;31m# XXX\u001b[0m\u001b[0;34m\u001b[0m\u001b[0;34m\u001b[0m\u001b[0m\n",
      "\u001b[0;32mpandas/_libs/parsers.pyx\u001b[0m in \u001b[0;36mpandas._libs.parsers.TextReader.__cinit__ (pandas/_libs/parsers.c:4209)\u001b[0;34m()\u001b[0m\n",
      "\u001b[0;32mpandas/_libs/parsers.pyx\u001b[0m in \u001b[0;36mpandas._libs.parsers.TextReader._setup_parser_source (pandas/_libs/parsers.c:8873)\u001b[0;34m()\u001b[0m\n",
      "\u001b[0;31mFileNotFoundError\u001b[0m: File b'./data_train.csv' does not exist"
     ]
    }
   ],
   "source": [
    "print('Loading data...')\n",
    "df = pd.read_csv(\"./data_train.csv\")\n",
    "print('Data is loaded')\n",
    "print('The shape of data_train is:',df.shape)\n",
    "print(\"Summary of the basic information about this DataFrame and its data:\")\n",
    "print(df.info())"
   ]
  },
  {
   "cell_type": "code",
   "execution_count": 74,
   "metadata": {
    "collapsed": true
   },
   "outputs": [],
   "source": [
    "df.head(3)"
   ]
  },
  {
   "cell_type": "markdown",
   "metadata": {},
   "source": [
    "# Exploring training data"
   ]
  },
  {
   "cell_type": "code",
   "execution_count": 139,
   "metadata": {
    "collapsed": true
   },
   "outputs": [],
   "source": [
    "# df.columns"
   ]
  },
  {
   "cell_type": "code",
   "execution_count": 103,
   "metadata": {
    "collapsed": true
   },
   "outputs": [],
   "source": [
    "CM_columns = []\n",
    "DXCCS_columns = []\n",
    "PRCCS_columns = []\n",
    "PRDAY_columns = []\n",
    "HOSP_columns = []\n",
    "other_columns = []\n",
    "for col in df.columns:\n",
    "    if re.match('^CM',col):\n",
    "        CM_columns.append(col)\n",
    "    elif re.match('^DXCCS',col):\n",
    "        DXCCS_columns.append(col)\n",
    "    elif re.match('^PRCCS',col):\n",
    "        PRCCS_columns.append(col)\n",
    "    elif re.match('^PRDAY',col):\n",
    "        PRDAY_columns.append(col)\n",
    "    elif re.match('^HOSP',col):\n",
    "        HOSP_columns.append(col)\n",
    "    else:\n",
    "        other_columns.append(col)"
   ]
  },
  {
   "cell_type": "markdown",
   "metadata": {},
   "source": [
    "## Target variables"
   ]
  },
  {
   "cell_type": "code",
   "execution_count": 306,
   "metadata": {},
   "outputs": [
    {
     "data": {
      "text/html": [
       "<iframe id=\"igraph\" scrolling=\"no\" style=\"border:none;\" seamless=\"seamless\" src=\"https://plot.ly/~ShuyuanZhao/49.embed\" height=\"525px\" width=\"100%\"></iframe>"
      ],
      "text/plain": [
       "<plotly.tools.PlotlyDisplay object>"
      ]
     },
     "execution_count": 306,
     "metadata": {},
     "output_type": "execute_result"
    }
   ],
   "source": [
    "# ASOURCE\n",
    "freq_table = series_to_freq(df['ASOURCE'])\n",
    "trace = go.Pie(labels=freq_table.iloc[:,0], values=freq_table.iloc[:,1])\n",
    "py.iplot([trace], filename='basic_pie_chart')"
   ]
  },
  {
   "cell_type": "code",
   "execution_count": 170,
   "metadata": {},
   "outputs": [
    {
     "data": {
      "text/plain": [
       "<matplotlib.text.Text at 0x14f108da0>"
      ]
     },
     "execution_count": 170,
     "metadata": {},
     "output_type": "execute_result"
    },
    {
     "data": {
      "image/png": "[encoded data removed]",
      "text/plain": [
       "<matplotlib.figure.Figure at 0x14f27d978>"
      ]
     },
     "metadata": {},
     "output_type": "display_data"
    }
   ],
   "source": [
    "sns.distplot(df['ATYPE'],kde=False)\n",
    "plt.title('Histograms of ATYPE')"
   ]
  },
  {
   "cell_type": "code",
   "execution_count": 171,
   "metadata": {},
   "outputs": [
    {
     "data": {
      "text/plain": [
       "<matplotlib.text.Text at 0x14ef61ef0>"
      ]
     },
     "execution_count": 171,
     "metadata": {},
     "output_type": "execute_result"
    },
    {
     "data": {
      "image/png": "[encoded data removed]",
      "text/plain": [
       "<matplotlib.figure.Figure at 0x14f256320>"
      ]
     },
     "metadata": {},
     "output_type": "display_data"
    }
   ],
   "source": [
    "sns.distplot(df['RACE'],kde=False)\n",
    "plt.title('Histograms of RACE')"
   ]
  },
  {
   "cell_type": "code",
   "execution_count": 173,
   "metadata": {},
   "outputs": [
    {
     "data": {
      "text/plain": [
       "<matplotlib.text.Text at 0x1170f9630>"
      ]
     },
     "execution_count": 173,
     "metadata": {},
     "output_type": "execute_result"
    },
    {
     "data": {
      "image/png": "[encoded data removed]",
      "text/plain": [
       "<matplotlib.figure.Figure at 0x14f3a75f8>"
      ]
     },
     "metadata": {},
     "output_type": "display_data"
    }
   ],
   "source": [
    "sns.distplot(df['TOTCHG'],kde=True)\n",
    "plt.title('Histograms of TOTCHG')"
   ]
  },
  {
   "cell_type": "code",
   "execution_count": 314,
   "metadata": {},
   "outputs": [
    {
     "data": {
      "text/html": [
       "<iframe id=\"igraph\" scrolling=\"no\" style=\"border:none;\" seamless=\"seamless\" src=\"https://plot.ly/~ShuyuanZhao/49.embed\" height=\"525px\" width=\"100%\"></iframe>"
      ],
      "text/plain": [
       "<plotly.tools.PlotlyDisplay object>"
      ]
     },
     "execution_count": 314,
     "metadata": {},
     "output_type": "execute_result"
    }
   ],
   "source": [
    "# ZIPINC_QRTL\n",
    "freq_table = series_to_freq(df['ZIPINC_QRTL'])\n",
    "trace = go.Pie(labels=freq_table.iloc[:,0], values=freq_table.iloc[:,1])\n",
    "py.iplot([trace], filename='basic_pie_chart')"
   ]
  },
  {
   "cell_type": "markdown",
   "metadata": {},
   "source": [
    "## other_columns"
   ]
  },
  {
   "cell_type": "code",
   "execution_count": 138,
   "metadata": {},
   "outputs": [
    {
     "name": "stdout",
     "output_type": "stream",
     "text": [
      "Listing other columns...\n",
      "['AGE', 'AMONTH', 'ASOURCE', 'ATYPE', 'AWEEKEND', 'DIED', 'DISCWT', 'DISPUNIFORM', 'DQTR', 'FEMALE', 'KEY', 'LOS', 'MDC', 'NDX', 'NIS_STRATUM', 'NPR', 'ORPROC', 'PAY1', 'RACE', 'TOTCHG', 'ZIPINC_QRTL', 'TOTAL_DISC']\n",
      "The shape of the subset is: (494932, 22)\n"
     ]
    }
   ],
   "source": [
    "sub_others = df.loc[:,other_columns]\n",
    "print('Listing other columns...')\n",
    "print(other_columns)\n",
    "print('The shape of the subset is:',sub_others.shape)"
   ]
  },
  {
   "cell_type": "code",
   "execution_count": 130,
   "metadata": {},
   "outputs": [
    {
     "name": "stdout",
     "output_type": "stream",
     "text": [
      "The missing for AGE is: 34 , 0.01 %\n",
      "The missing for AMONTH is: 2 , 0.00 %\n",
      "The missing for AWEEKEND is: 2 , 0.00 %\n",
      "The missing for DIED is: 536 , 0.11 %\n",
      "The missing for DISPUNIFORM is: 536 , 0.11 %\n",
      "The missing for FEMALE is: 14 , 0.00 %\n",
      "The missing for LOS is: 14 , 0.00 %\n",
      "The missing for PAY1 is: 203 , 0.04 %\n"
     ]
    }
   ],
   "source": [
    "# checking missing values\n",
    "missing_others = checking_missing(sub_others,False)"
   ]
  },
  {
   "cell_type": "code",
   "execution_count": 162,
   "metadata": {},
   "outputs": [
    {
     "data": {
      "image/png": "[encoded data removed]",
      "text/plain": [
       "<matplotlib.figure.Figure at 0x1167741d0>"
      ]
     },
     "metadata": {},
     "output_type": "display_data"
    }
   ],
   "source": [
    "# print the heatmap of feature correlations\n",
    "target = ['ASOURCE','ATYPE','RACE','TOTCHG','ZIPINC_QRTL']\n",
    "source = other_columns\n",
    "other_columns_correlation = correlation_analysis(target, source)"
   ]
  },
  {
   "cell_type": "markdown",
   "metadata": {},
   "source": [
    "## PRDAY_columns"
   ]
  },
  {
   "cell_type": "code",
   "execution_count": 176,
   "metadata": {},
   "outputs": [
    {
     "name": "stdout",
     "output_type": "stream",
     "text": [
      "Listing prday columns...\n",
      "['PRDAY1', 'PRDAY2', 'PRDAY3', 'PRDAY4', 'PRDAY5', 'PRDAY6', 'PRDAY7', 'PRDAY8', 'PRDAY9', 'PRDAY10', 'PRDAY11', 'PRDAY12', 'PRDAY13', 'PRDAY14', 'PRDAY15']\n",
      "The shape of the subset is: (494932, 15)\n"
     ]
    }
   ],
   "source": [
    "sub_prday = df.loc[:,PRDAY_columns]\n",
    "print('Listing prday columns...')\n",
    "print(PRDAY_columns)\n",
    "print('The shape of the subset is:',sub_prday.shape)"
   ]
  },
  {
   "cell_type": "code",
   "execution_count": 177,
   "metadata": {},
   "outputs": [
    {
     "name": "stdout",
     "output_type": "stream",
     "text": [
      "The missing for PRDAY1 is: 196285 , 39.66 %\n",
      "The missing for PRDAY2 is: 322902 , 65.24 %\n",
      "The missing for PRDAY3 is: 394795 , 79.77 %\n",
      "The missing for PRDAY4 is: 432454 , 87.38 %\n",
      "The missing for PRDAY5 is: 453270 , 91.58 %\n",
      "The missing for PRDAY6 is: 466802 , 94.32 %\n",
      "The missing for PRDAY7 is: 478445 , 96.67 %\n",
      "The missing for PRDAY8 is: 484064 , 97.80 %\n",
      "The missing for PRDAY9 is: 487770 , 98.55 %\n",
      "The missing for PRDAY10 is: 489878 , 98.98 %\n",
      "The missing for PRDAY11 is: 491303 , 99.27 %\n",
      "The missing for PRDAY12 is: 492670 , 99.54 %\n",
      "The missing for PRDAY13 is: 493213 , 99.65 %\n",
      "The missing for PRDAY14 is: 493614 , 99.73 %\n",
      "The missing for PRDAY15 is: 493959 , 99.80 %\n"
     ]
    }
   ],
   "source": [
    "# checking missing values\n",
    "missing_prday = checking_missing(sub_prday,False)"
   ]
  },
  {
   "cell_type": "code",
   "execution_count": 197,
   "metadata": {},
   "outputs": [
    {
     "data": {
      "text/html": [
       "<div>\n",
       "<style>\n",
       "    .dataframe thead tr:only-child th {\n",
       "        text-align: right;\n",
       "    }\n",
       "\n",
       "    .dataframe thead th {\n",
       "        text-align: left;\n",
       "    }\n",
       "\n",
       "    .dataframe tbody tr th {\n",
       "        vertical-align: top;\n",
       "    }\n",
       "</style>\n",
       "<table border=\"1\" class=\"dataframe\">\n",
       "  <thead>\n",
       "    <tr style=\"text-align: right;\">\n",
       "      <th></th>\n",
       "      <th>PRDAY1</th>\n",
       "      <th>PRDAY2</th>\n",
       "      <th>PRDAY3</th>\n",
       "      <th>PRDAY4</th>\n",
       "      <th>PRDAY5</th>\n",
       "      <th>PRDAY6</th>\n",
       "      <th>PRDAY7</th>\n",
       "      <th>PRDAY8</th>\n",
       "      <th>PRDAY9</th>\n",
       "      <th>PRDAY10</th>\n",
       "      <th>PRDAY11</th>\n",
       "      <th>PRDAY12</th>\n",
       "      <th>PRDAY13</th>\n",
       "      <th>PRDAY14</th>\n",
       "      <th>PRDAY15</th>\n",
       "    </tr>\n",
       "  </thead>\n",
       "  <tbody>\n",
       "    <tr>\n",
       "      <th>count</th>\n",
       "      <td>298647.000000</td>\n",
       "      <td>172030.000000</td>\n",
       "      <td>100137.000000</td>\n",
       "      <td>62478.000000</td>\n",
       "      <td>41662.000000</td>\n",
       "      <td>28130.000000</td>\n",
       "      <td>16487.00000</td>\n",
       "      <td>10868.000000</td>\n",
       "      <td>7162.000000</td>\n",
       "      <td>5054.000000</td>\n",
       "      <td>3629.000000</td>\n",
       "      <td>2262.000000</td>\n",
       "      <td>1719.000000</td>\n",
       "      <td>1318.000000</td>\n",
       "      <td>973.000000</td>\n",
       "    </tr>\n",
       "    <tr>\n",
       "      <th>mean</th>\n",
       "      <td>1.189294</td>\n",
       "      <td>1.540202</td>\n",
       "      <td>1.905719</td>\n",
       "      <td>2.299465</td>\n",
       "      <td>2.647401</td>\n",
       "      <td>3.059332</td>\n",
       "      <td>3.86644</td>\n",
       "      <td>4.423261</td>\n",
       "      <td>5.262217</td>\n",
       "      <td>6.161654</td>\n",
       "      <td>7.048774</td>\n",
       "      <td>6.935897</td>\n",
       "      <td>7.806283</td>\n",
       "      <td>9.257208</td>\n",
       "      <td>9.538541</td>\n",
       "    </tr>\n",
       "    <tr>\n",
       "      <th>std</th>\n",
       "      <td>3.077806</td>\n",
       "      <td>3.794981</td>\n",
       "      <td>4.653839</td>\n",
       "      <td>5.451938</td>\n",
       "      <td>6.088871</td>\n",
       "      <td>6.717660</td>\n",
       "      <td>8.35476</td>\n",
       "      <td>8.757896</td>\n",
       "      <td>9.747901</td>\n",
       "      <td>11.105141</td>\n",
       "      <td>11.855506</td>\n",
       "      <td>11.655753</td>\n",
       "      <td>13.346473</td>\n",
       "      <td>14.432147</td>\n",
       "      <td>14.091478</td>\n",
       "    </tr>\n",
       "    <tr>\n",
       "      <th>min</th>\n",
       "      <td>-4.000000</td>\n",
       "      <td>-4.000000</td>\n",
       "      <td>-4.000000</td>\n",
       "      <td>-4.000000</td>\n",
       "      <td>-3.000000</td>\n",
       "      <td>-3.000000</td>\n",
       "      <td>-3.00000</td>\n",
       "      <td>-3.000000</td>\n",
       "      <td>-1.000000</td>\n",
       "      <td>-1.000000</td>\n",
       "      <td>-1.000000</td>\n",
       "      <td>-1.000000</td>\n",
       "      <td>-1.000000</td>\n",
       "      <td>-1.000000</td>\n",
       "      <td>0.000000</td>\n",
       "    </tr>\n",
       "    <tr>\n",
       "      <th>25%</th>\n",
       "      <td>0.000000</td>\n",
       "      <td>0.000000</td>\n",
       "      <td>0.000000</td>\n",
       "      <td>0.000000</td>\n",
       "      <td>0.000000</td>\n",
       "      <td>0.000000</td>\n",
       "      <td>0.00000</td>\n",
       "      <td>0.000000</td>\n",
       "      <td>0.000000</td>\n",
       "      <td>0.000000</td>\n",
       "      <td>0.000000</td>\n",
       "      <td>0.000000</td>\n",
       "      <td>0.000000</td>\n",
       "      <td>0.000000</td>\n",
       "      <td>0.000000</td>\n",
       "    </tr>\n",
       "    <tr>\n",
       "      <th>50%</th>\n",
       "      <td>0.000000</td>\n",
       "      <td>0.000000</td>\n",
       "      <td>0.000000</td>\n",
       "      <td>0.000000</td>\n",
       "      <td>0.000000</td>\n",
       "      <td>1.000000</td>\n",
       "      <td>1.00000</td>\n",
       "      <td>1.000000</td>\n",
       "      <td>1.000000</td>\n",
       "      <td>2.000000</td>\n",
       "      <td>3.000000</td>\n",
       "      <td>2.000000</td>\n",
       "      <td>3.000000</td>\n",
       "      <td>4.000000</td>\n",
       "      <td>4.000000</td>\n",
       "    </tr>\n",
       "    <tr>\n",
       "      <th>75%</th>\n",
       "      <td>1.000000</td>\n",
       "      <td>2.000000</td>\n",
       "      <td>2.000000</td>\n",
       "      <td>2.000000</td>\n",
       "      <td>3.000000</td>\n",
       "      <td>3.000000</td>\n",
       "      <td>4.00000</td>\n",
       "      <td>5.000000</td>\n",
       "      <td>7.000000</td>\n",
       "      <td>8.000000</td>\n",
       "      <td>9.000000</td>\n",
       "      <td>9.000000</td>\n",
       "      <td>10.000000</td>\n",
       "      <td>12.000000</td>\n",
       "      <td>13.000000</td>\n",
       "    </tr>\n",
       "    <tr>\n",
       "      <th>max</th>\n",
       "      <td>223.000000</td>\n",
       "      <td>159.000000</td>\n",
       "      <td>246.000000</td>\n",
       "      <td>162.000000</td>\n",
       "      <td>164.000000</td>\n",
       "      <td>157.000000</td>\n",
       "      <td>176.00000</td>\n",
       "      <td>236.000000</td>\n",
       "      <td>248.000000</td>\n",
       "      <td>248.000000</td>\n",
       "      <td>248.000000</td>\n",
       "      <td>248.000000</td>\n",
       "      <td>251.000000</td>\n",
       "      <td>160.000000</td>\n",
       "      <td>97.000000</td>\n",
       "    </tr>\n",
       "  </tbody>\n",
       "</table>\n",
       "</div>"
      ],
      "text/plain": [
       "              PRDAY1         PRDAY2         PRDAY3        PRDAY4  \\\n",
       "count  298647.000000  172030.000000  100137.000000  62478.000000   \n",
       "mean        1.189294       1.540202       1.905719      2.299465   \n",
       "std         3.077806       3.794981       4.653839      5.451938   \n",
       "min        -4.000000      -4.000000      -4.000000     -4.000000   \n",
       "25%         0.000000       0.000000       0.000000      0.000000   \n",
       "50%         0.000000       0.000000       0.000000      0.000000   \n",
       "75%         1.000000       2.000000       2.000000      2.000000   \n",
       "max       223.000000     159.000000     246.000000    162.000000   \n",
       "\n",
       "             PRDAY5        PRDAY6       PRDAY7        PRDAY8       PRDAY9  \\\n",
       "count  41662.000000  28130.000000  16487.00000  10868.000000  7162.000000   \n",
       "mean       2.647401      3.059332      3.86644      4.423261     5.262217   \n",
       "std        6.088871      6.717660      8.35476      8.757896     9.747901   \n",
       "min       -3.000000     -3.000000     -3.00000     -3.000000    -1.000000   \n",
       "25%        0.000000      0.000000      0.00000      0.000000     0.000000   \n",
       "50%        0.000000      1.000000      1.00000      1.000000     1.000000   \n",
       "75%        3.000000      3.000000      4.00000      5.000000     7.000000   \n",
       "max      164.000000    157.000000    176.00000    236.000000   248.000000   \n",
       "\n",
       "           PRDAY10      PRDAY11      PRDAY12      PRDAY13      PRDAY14  \\\n",
       "count  5054.000000  3629.000000  2262.000000  1719.000000  1318.000000   \n",
       "mean      6.161654     7.048774     6.935897     7.806283     9.257208   \n",
       "std      11.105141    11.855506    11.655753    13.346473    14.432147   \n",
       "min      -1.000000    -1.000000    -1.000000    -1.000000    -1.000000   \n",
       "25%       0.000000     0.000000     0.000000     0.000000     0.000000   \n",
       "50%       2.000000     3.000000     2.000000     3.000000     4.000000   \n",
       "75%       8.000000     9.000000     9.000000    10.000000    12.000000   \n",
       "max     248.000000   248.000000   248.000000   251.000000   160.000000   \n",
       "\n",
       "          PRDAY15  \n",
       "count  973.000000  \n",
       "mean     9.538541  \n",
       "std     14.091478  \n",
       "min      0.000000  \n",
       "25%      0.000000  \n",
       "50%      4.000000  \n",
       "75%     13.000000  \n",
       "max     97.000000  "
      ]
     },
     "execution_count": 197,
     "metadata": {},
     "output_type": "execute_result"
    }
   ],
   "source": [
    "sub_prday.describe()"
   ]
  },
  {
   "cell_type": "code",
   "execution_count": 185,
   "metadata": {},
   "outputs": [
    {
     "name": "stderr",
     "output_type": "stream",
     "text": [
      "/Users/Shuyuan/anaconda/lib/python3.6/site-packages/statsmodels/nonparametric/kde.py:454: RuntimeWarning: invalid value encountered in greater\n",
      "  X = X[np.logical_and(X>clip[0], X<clip[1])] # won't work for two columns.\n",
      "/Users/Shuyuan/anaconda/lib/python3.6/site-packages/statsmodels/nonparametric/kde.py:454: RuntimeWarning: invalid value encountered in less\n",
      "  X = X[np.logical_and(X>clip[0], X<clip[1])] # won't work for two columns.\n"
     ]
    },
    {
     "data": {
      "image/png": "[encoded data removed]",
      "text/plain": [
       "<matplotlib.figure.Figure at 0x1177ce5c0>"
      ]
     },
     "metadata": {},
     "output_type": "display_data"
    }
   ],
   "source": [
    "sns.kdeplot(df[PRDAY_columns[0]],label = 'PRDAY1')\n",
    "sns.kdeplot(df[PRDAY_columns[1]],label = 'PRDAY2')\n",
    "sns.kdeplot(df[PRDAY_columns[2]],label = 'PRDAY3')\n",
    "plt.legend();"
   ]
  },
  {
   "cell_type": "code",
   "execution_count": 187,
   "metadata": {},
   "outputs": [
    {
     "data": {
      "text/html": [
       "<div>\n",
       "<style>\n",
       "    .dataframe thead tr:only-child th {\n",
       "        text-align: right;\n",
       "    }\n",
       "\n",
       "    .dataframe thead th {\n",
       "        text-align: left;\n",
       "    }\n",
       "\n",
       "    .dataframe tbody tr th {\n",
       "        vertical-align: top;\n",
       "    }\n",
       "</style>\n",
       "<table border=\"1\" class=\"dataframe\">\n",
       "  <thead>\n",
       "    <tr style=\"text-align: right;\">\n",
       "      <th></th>\n",
       "      <th>PRDAY1</th>\n",
       "      <th>PRDAY2</th>\n",
       "      <th>PRDAY3</th>\n",
       "      <th>PRDAY4</th>\n",
       "      <th>PRDAY5</th>\n",
       "      <th>PRDAY6</th>\n",
       "      <th>PRDAY7</th>\n",
       "      <th>PRDAY8</th>\n",
       "      <th>PRDAY9</th>\n",
       "      <th>PRDAY10</th>\n",
       "      <th>PRDAY11</th>\n",
       "      <th>PRDAY12</th>\n",
       "      <th>PRDAY13</th>\n",
       "      <th>PRDAY14</th>\n",
       "      <th>PRDAY15</th>\n",
       "    </tr>\n",
       "  </thead>\n",
       "  <tbody>\n",
       "    <tr>\n",
       "      <th>0</th>\n",
       "      <td>37.0</td>\n",
       "      <td>37.0</td>\n",
       "      <td>37.0</td>\n",
       "      <td>37.0</td>\n",
       "      <td>1.0</td>\n",
       "      <td>29.0</td>\n",
       "      <td>38.0</td>\n",
       "      <td>NaN</td>\n",
       "      <td>NaN</td>\n",
       "      <td>NaN</td>\n",
       "      <td>NaN</td>\n",
       "      <td>NaN</td>\n",
       "      <td>NaN</td>\n",
       "      <td>NaN</td>\n",
       "      <td>NaN</td>\n",
       "    </tr>\n",
       "    <tr>\n",
       "      <th>1</th>\n",
       "      <td>4.0</td>\n",
       "      <td>4.0</td>\n",
       "      <td>0.0</td>\n",
       "      <td>2.0</td>\n",
       "      <td>3.0</td>\n",
       "      <td>3.0</td>\n",
       "      <td>7.0</td>\n",
       "      <td>7.0</td>\n",
       "      <td>NaN</td>\n",
       "      <td>NaN</td>\n",
       "      <td>NaN</td>\n",
       "      <td>NaN</td>\n",
       "      <td>NaN</td>\n",
       "      <td>NaN</td>\n",
       "      <td>NaN</td>\n",
       "    </tr>\n",
       "    <tr>\n",
       "      <th>2</th>\n",
       "      <td>0.0</td>\n",
       "      <td>2.0</td>\n",
       "      <td>14.0</td>\n",
       "      <td>29.0</td>\n",
       "      <td>7.0</td>\n",
       "      <td>35.0</td>\n",
       "      <td>NaN</td>\n",
       "      <td>NaN</td>\n",
       "      <td>NaN</td>\n",
       "      <td>NaN</td>\n",
       "      <td>NaN</td>\n",
       "      <td>NaN</td>\n",
       "      <td>NaN</td>\n",
       "      <td>NaN</td>\n",
       "      <td>NaN</td>\n",
       "    </tr>\n",
       "    <tr>\n",
       "      <th>3</th>\n",
       "      <td>18.0</td>\n",
       "      <td>6.0</td>\n",
       "      <td>19.0</td>\n",
       "      <td>39.0</td>\n",
       "      <td>NaN</td>\n",
       "      <td>NaN</td>\n",
       "      <td>NaN</td>\n",
       "      <td>NaN</td>\n",
       "      <td>NaN</td>\n",
       "      <td>NaN</td>\n",
       "      <td>NaN</td>\n",
       "      <td>NaN</td>\n",
       "      <td>NaN</td>\n",
       "      <td>NaN</td>\n",
       "      <td>NaN</td>\n",
       "    </tr>\n",
       "    <tr>\n",
       "      <th>4</th>\n",
       "      <td>0.0</td>\n",
       "      <td>0.0</td>\n",
       "      <td>1.0</td>\n",
       "      <td>1.0</td>\n",
       "      <td>8.0</td>\n",
       "      <td>8.0</td>\n",
       "      <td>7.0</td>\n",
       "      <td>10.0</td>\n",
       "      <td>NaN</td>\n",
       "      <td>NaN</td>\n",
       "      <td>NaN</td>\n",
       "      <td>NaN</td>\n",
       "      <td>NaN</td>\n",
       "      <td>NaN</td>\n",
       "      <td>NaN</td>\n",
       "    </tr>\n",
       "    <tr>\n",
       "      <th>5</th>\n",
       "      <td>0.0</td>\n",
       "      <td>0.0</td>\n",
       "      <td>36.0</td>\n",
       "      <td>49.0</td>\n",
       "      <td>NaN</td>\n",
       "      <td>NaN</td>\n",
       "      <td>NaN</td>\n",
       "      <td>NaN</td>\n",
       "      <td>NaN</td>\n",
       "      <td>NaN</td>\n",
       "      <td>NaN</td>\n",
       "      <td>NaN</td>\n",
       "      <td>NaN</td>\n",
       "      <td>NaN</td>\n",
       "      <td>NaN</td>\n",
       "    </tr>\n",
       "    <tr>\n",
       "      <th>6</th>\n",
       "      <td>5.0</td>\n",
       "      <td>NaN</td>\n",
       "      <td>NaN</td>\n",
       "      <td>NaN</td>\n",
       "      <td>NaN</td>\n",
       "      <td>NaN</td>\n",
       "      <td>NaN</td>\n",
       "      <td>NaN</td>\n",
       "      <td>NaN</td>\n",
       "      <td>NaN</td>\n",
       "      <td>NaN</td>\n",
       "      <td>NaN</td>\n",
       "      <td>NaN</td>\n",
       "      <td>NaN</td>\n",
       "      <td>NaN</td>\n",
       "    </tr>\n",
       "    <tr>\n",
       "      <th>7</th>\n",
       "      <td>0.0</td>\n",
       "      <td>NaN</td>\n",
       "      <td>NaN</td>\n",
       "      <td>NaN</td>\n",
       "      <td>NaN</td>\n",
       "      <td>NaN</td>\n",
       "      <td>NaN</td>\n",
       "      <td>NaN</td>\n",
       "      <td>NaN</td>\n",
       "      <td>NaN</td>\n",
       "      <td>NaN</td>\n",
       "      <td>NaN</td>\n",
       "      <td>NaN</td>\n",
       "      <td>NaN</td>\n",
       "      <td>NaN</td>\n",
       "    </tr>\n",
       "    <tr>\n",
       "      <th>8</th>\n",
       "      <td>13.0</td>\n",
       "      <td>13.0</td>\n",
       "      <td>22.0</td>\n",
       "      <td>22.0</td>\n",
       "      <td>22.0</td>\n",
       "      <td>13.0</td>\n",
       "      <td>13.0</td>\n",
       "      <td>NaN</td>\n",
       "      <td>NaN</td>\n",
       "      <td>NaN</td>\n",
       "      <td>NaN</td>\n",
       "      <td>NaN</td>\n",
       "      <td>NaN</td>\n",
       "      <td>NaN</td>\n",
       "      <td>NaN</td>\n",
       "    </tr>\n",
       "    <tr>\n",
       "      <th>9</th>\n",
       "      <td>0.0</td>\n",
       "      <td>5.0</td>\n",
       "      <td>3.0</td>\n",
       "      <td>3.0</td>\n",
       "      <td>29.0</td>\n",
       "      <td>33.0</td>\n",
       "      <td>NaN</td>\n",
       "      <td>NaN</td>\n",
       "      <td>NaN</td>\n",
       "      <td>NaN</td>\n",
       "      <td>NaN</td>\n",
       "      <td>NaN</td>\n",
       "      <td>NaN</td>\n",
       "      <td>NaN</td>\n",
       "      <td>NaN</td>\n",
       "    </tr>\n",
       "  </tbody>\n",
       "</table>\n",
       "</div>"
      ],
      "text/plain": [
       "   PRDAY1  PRDAY2  PRDAY3  PRDAY4  PRDAY5  PRDAY6  PRDAY7  PRDAY8  PRDAY9  \\\n",
       "0    37.0    37.0    37.0    37.0     1.0    29.0    38.0     NaN     NaN   \n",
       "1     4.0     4.0     0.0     2.0     3.0     3.0     7.0     7.0     NaN   \n",
       "2     0.0     2.0    14.0    29.0     7.0    35.0     NaN     NaN     NaN   \n",
       "3    18.0     6.0    19.0    39.0     NaN     NaN     NaN     NaN     NaN   \n",
       "4     0.0     0.0     1.0     1.0     8.0     8.0     7.0    10.0     NaN   \n",
       "5     0.0     0.0    36.0    49.0     NaN     NaN     NaN     NaN     NaN   \n",
       "6     5.0     NaN     NaN     NaN     NaN     NaN     NaN     NaN     NaN   \n",
       "7     0.0     NaN     NaN     NaN     NaN     NaN     NaN     NaN     NaN   \n",
       "8    13.0    13.0    22.0    22.0    22.0    13.0    13.0     NaN     NaN   \n",
       "9     0.0     5.0     3.0     3.0    29.0    33.0     NaN     NaN     NaN   \n",
       "\n",
       "   PRDAY10  PRDAY11  PRDAY12  PRDAY13  PRDAY14  PRDAY15  \n",
       "0      NaN      NaN      NaN      NaN      NaN      NaN  \n",
       "1      NaN      NaN      NaN      NaN      NaN      NaN  \n",
       "2      NaN      NaN      NaN      NaN      NaN      NaN  \n",
       "3      NaN      NaN      NaN      NaN      NaN      NaN  \n",
       "4      NaN      NaN      NaN      NaN      NaN      NaN  \n",
       "5      NaN      NaN      NaN      NaN      NaN      NaN  \n",
       "6      NaN      NaN      NaN      NaN      NaN      NaN  \n",
       "7      NaN      NaN      NaN      NaN      NaN      NaN  \n",
       "8      NaN      NaN      NaN      NaN      NaN      NaN  \n",
       "9      NaN      NaN      NaN      NaN      NaN      NaN  "
      ]
     },
     "execution_count": 187,
     "metadata": {},
     "output_type": "execute_result"
    }
   ],
   "source": [
    "sub_prday.head(10)"
   ]
  },
  {
   "cell_type": "code",
   "execution_count": 188,
   "metadata": {},
   "outputs": [
    {
     "data": {
      "image/png": "[encoded data removed]",
      "text/plain": [
       "<matplotlib.figure.Figure at 0x152d433c8>"
      ]
     },
     "metadata": {},
     "output_type": "display_data"
    }
   ],
   "source": [
    "# print the heatmap of feature correlations\n",
    "target = ['ASOURCE','ATYPE','RACE','TOTCHG','ZIPINC_QRTL']\n",
    "source = PRDAY_columns[:3]\n",
    "PRDAY_columns_correlation = correlation_analysis(target, source)"
   ]
  },
  {
   "cell_type": "markdown",
   "metadata": {},
   "source": [
    "## HOSP_columns"
   ]
  },
  {
   "cell_type": "code",
   "execution_count": 199,
   "metadata": {},
   "outputs": [
    {
     "name": "stdout",
     "output_type": "stream",
     "text": [
      "Listing HOSP columns...\n",
      "['HOSPID', 'HOSP_BEDSIZE', 'HOSP_CONTROL', 'HOSP_LOCTEACH', 'HOSP_REGION']\n",
      "The shape of the subset is: (494932, 5)\n",
      "The number of missing value for HOSP_BEDSIZE is: 714 , 0.14 %\n",
      "The number of missing value for HOSP_CONTROL is: 714 , 0.14 %\n",
      "The number of missing value for HOSP_LOCTEACH is: 714 , 0.14 %\n"
     ]
    }
   ],
   "source": [
    "sub_hosp = df.loc[:,HOSP_columns]\n",
    "print('Listing HOSP columns...')\n",
    "print(HOSP_columns)\n",
    "print('The shape of the subset is:',sub_hosp.shape)\n",
    "# checking missing values\n",
    "missing_hosp = checking_missing(sub_hosp,False)"
   ]
  },
  {
   "cell_type": "code",
   "execution_count": 202,
   "metadata": {},
   "outputs": [
    {
     "data": {
      "text/html": [
       "<div>\n",
       "<style>\n",
       "    .dataframe thead tr:only-child th {\n",
       "        text-align: right;\n",
       "    }\n",
       "\n",
       "    .dataframe thead th {\n",
       "        text-align: left;\n",
       "    }\n",
       "\n",
       "    .dataframe tbody tr th {\n",
       "        vertical-align: top;\n",
       "    }\n",
       "</style>\n",
       "<table border=\"1\" class=\"dataframe\">\n",
       "  <thead>\n",
       "    <tr style=\"text-align: right;\">\n",
       "      <th></th>\n",
       "      <th>HOSPID</th>\n",
       "      <th>HOSP_BEDSIZE</th>\n",
       "      <th>HOSP_CONTROL</th>\n",
       "      <th>HOSP_LOCTEACH</th>\n",
       "      <th>HOSP_REGION</th>\n",
       "    </tr>\n",
       "  </thead>\n",
       "  <tbody>\n",
       "    <tr>\n",
       "      <th>0</th>\n",
       "      <td>5021</td>\n",
       "      <td>1.0</td>\n",
       "      <td>3.0</td>\n",
       "      <td>2.0</td>\n",
       "      <td>3</td>\n",
       "    </tr>\n",
       "    <tr>\n",
       "      <th>1</th>\n",
       "      <td>5021</td>\n",
       "      <td>1.0</td>\n",
       "      <td>3.0</td>\n",
       "      <td>2.0</td>\n",
       "      <td>3</td>\n",
       "    </tr>\n",
       "    <tr>\n",
       "      <th>2</th>\n",
       "      <td>5021</td>\n",
       "      <td>1.0</td>\n",
       "      <td>3.0</td>\n",
       "      <td>2.0</td>\n",
       "      <td>3</td>\n",
       "    </tr>\n",
       "    <tr>\n",
       "      <th>3</th>\n",
       "      <td>5021</td>\n",
       "      <td>1.0</td>\n",
       "      <td>3.0</td>\n",
       "      <td>2.0</td>\n",
       "      <td>3</td>\n",
       "    </tr>\n",
       "    <tr>\n",
       "      <th>4</th>\n",
       "      <td>5021</td>\n",
       "      <td>1.0</td>\n",
       "      <td>3.0</td>\n",
       "      <td>2.0</td>\n",
       "      <td>3</td>\n",
       "    </tr>\n",
       "    <tr>\n",
       "      <th>5</th>\n",
       "      <td>5021</td>\n",
       "      <td>1.0</td>\n",
       "      <td>3.0</td>\n",
       "      <td>2.0</td>\n",
       "      <td>3</td>\n",
       "    </tr>\n",
       "    <tr>\n",
       "      <th>6</th>\n",
       "      <td>5021</td>\n",
       "      <td>1.0</td>\n",
       "      <td>3.0</td>\n",
       "      <td>2.0</td>\n",
       "      <td>3</td>\n",
       "    </tr>\n",
       "    <tr>\n",
       "      <th>7</th>\n",
       "      <td>5021</td>\n",
       "      <td>1.0</td>\n",
       "      <td>3.0</td>\n",
       "      <td>2.0</td>\n",
       "      <td>3</td>\n",
       "    </tr>\n",
       "    <tr>\n",
       "      <th>8</th>\n",
       "      <td>5021</td>\n",
       "      <td>1.0</td>\n",
       "      <td>3.0</td>\n",
       "      <td>2.0</td>\n",
       "      <td>3</td>\n",
       "    </tr>\n",
       "    <tr>\n",
       "      <th>9</th>\n",
       "      <td>5021</td>\n",
       "      <td>1.0</td>\n",
       "      <td>3.0</td>\n",
       "      <td>2.0</td>\n",
       "      <td>3</td>\n",
       "    </tr>\n",
       "  </tbody>\n",
       "</table>\n",
       "</div>"
      ],
      "text/plain": [
       "   HOSPID  HOSP_BEDSIZE  HOSP_CONTROL  HOSP_LOCTEACH  HOSP_REGION\n",
       "0    5021           1.0           3.0            2.0            3\n",
       "1    5021           1.0           3.0            2.0            3\n",
       "2    5021           1.0           3.0            2.0            3\n",
       "3    5021           1.0           3.0            2.0            3\n",
       "4    5021           1.0           3.0            2.0            3\n",
       "5    5021           1.0           3.0            2.0            3\n",
       "6    5021           1.0           3.0            2.0            3\n",
       "7    5021           1.0           3.0            2.0            3\n",
       "8    5021           1.0           3.0            2.0            3\n",
       "9    5021           1.0           3.0            2.0            3"
      ]
     },
     "execution_count": 202,
     "metadata": {},
     "output_type": "execute_result"
    }
   ],
   "source": [
    "sub_hosp.head(10)"
   ]
  },
  {
   "cell_type": "markdown",
   "metadata": {},
   "source": [
    "## DXCCS_columns"
   ]
  },
  {
   "cell_type": "code",
   "execution_count": 224,
   "metadata": {},
   "outputs": [
    {
     "name": "stdout",
     "output_type": "stream",
     "text": [
      "Listing DXCCS columns...\n",
      "['DXCCS1', 'DXCCS2', 'DXCCS3', 'DXCCS4', 'DXCCS5', 'DXCCS6', 'DXCCS7', 'DXCCS8', 'DXCCS9', 'DXCCS10', 'DXCCS11', 'DXCCS12', 'DXCCS13', 'DXCCS14', 'DXCCS15', 'DXCCS16', 'DXCCS17', 'DXCCS18', 'DXCCS19', 'DXCCS20', 'DXCCS21', 'DXCCS22', 'DXCCS23', 'DXCCS24', 'DXCCS25']\n",
      "The shape of the subset is: (494932, 25)\n",
      "The number of missing value for DXCCS1 is: 318 , 0.06 %\n",
      "The number of missing value for DXCCS2 is: 18051 , 3.65 %\n",
      "The number of missing value for DXCCS3 is: 51085 , 10.32 %\n",
      "The number of missing value for DXCCS4 is: 86881 , 17.55 %\n",
      "The number of missing value for DXCCS5 is: 124870 , 25.23 %\n",
      "The number of missing value for DXCCS6 is: 162554 , 32.84 %\n",
      "The number of missing value for DXCCS7 is: 199561 , 40.32 %\n",
      "The number of missing value for DXCCS8 is: 237881 , 48.06 %\n",
      "The number of missing value for DXCCS9 is: 278672 , 56.31 %\n",
      "The number of missing value for DXCCS10 is: 311821 , 63.00 %\n",
      "The number of missing value for DXCCS11 is: 337145 , 68.12 %\n",
      "The number of missing value for DXCCS12 is: 362048 , 73.15 %\n",
      "The number of missing value for DXCCS13 is: 381843 , 77.15 %\n",
      "The number of missing value for DXCCS14 is: 399929 , 80.80 %\n",
      "The number of missing value for DXCCS15 is: 416697 , 84.19 %\n",
      "The number of missing value for DXCCS16 is: 452274 , 91.38 %\n",
      "The number of missing value for DXCCS17 is: 458653 , 92.67 %\n",
      "The number of missing value for DXCCS18 is: 464570 , 93.87 %\n",
      "The number of missing value for DXCCS19 is: 473045 , 95.58 %\n",
      "The number of missing value for DXCCS20 is: 476459 , 96.27 %\n",
      "The number of missing value for DXCCS21 is: 479598 , 96.90 %\n",
      "The number of missing value for DXCCS22 is: 482079 , 97.40 %\n",
      "The number of missing value for DXCCS23 is: 484235 , 97.84 %\n",
      "The number of missing value for DXCCS24 is: 486088 , 98.21 %\n",
      "The number of missing value for DXCCS25 is: 487765 , 98.55 %\n"
     ]
    }
   ],
   "source": [
    "sub_dxccs = df.loc[:,DXCCS_columns]\n",
    "print('Listing DXCCS columns...')\n",
    "print(DXCCS_columns)\n",
    "print('The shape of the subset is:',sub_dxccs.shape)\n",
    "# checking missing values\n",
    "missing_dxccs = checking_missing(sub_dxccs,False)"
   ]
  },
  {
   "cell_type": "code",
   "execution_count": 210,
   "metadata": {},
   "outputs": [
    {
     "name": "stderr",
     "output_type": "stream",
     "text": [
      "/Users/Shuyuan/anaconda/lib/python3.6/site-packages/statsmodels/nonparametric/kde.py:454: RuntimeWarning: invalid value encountered in greater\n",
      "  X = X[np.logical_and(X>clip[0], X<clip[1])] # won't work for two columns.\n",
      "/Users/Shuyuan/anaconda/lib/python3.6/site-packages/statsmodels/nonparametric/kde.py:454: RuntimeWarning: invalid value encountered in less\n",
      "  X = X[np.logical_and(X>clip[0], X<clip[1])] # won't work for two columns.\n"
     ]
    },
    {
     "data": {
      "image/png": "[encoded data removed]",
      "text/plain": [
       "<matplotlib.figure.Figure at 0x153824940>"
      ]
     },
     "metadata": {},
     "output_type": "display_data"
    }
   ],
   "source": [
    "sns.kdeplot(df[DXCCS_columns[0]],label = 'DXCCS1')\n",
    "sns.kdeplot(df[DXCCS_columns[1]],label = 'DXCCS2')\n",
    "sns.kdeplot(df[DXCCS_columns[2]],label = 'DXCCS3')\n",
    "sns.kdeplot(df[DXCCS_columns[3]],label = 'DXCCS4')\n",
    "sns.kdeplot(df[DXCCS_columns[4]],label = 'DXCCS5')\n",
    "plt.legend();"
   ]
  },
  {
   "cell_type": "code",
   "execution_count": 246,
   "metadata": {},
   "outputs": [
    {
     "data": {
      "text/plain": [
       "<matplotlib.text.Text at 0x1621cad68>"
      ]
     },
     "execution_count": 246,
     "metadata": {},
     "output_type": "execute_result"
    },
    {
     "data": {
      "image/png": "[encoded data removed]",
      "text/plain": [
       "<matplotlib.figure.Figure at 0x1533f1da0>"
      ]
     },
     "metadata": {},
     "output_type": "display_data"
    }
   ],
   "source": [
    "check_sub_dxccs = df.loc[:,DXCCS_columns].fillna(-99)\n",
    "sns.distplot(check_sub_dxccs[DXCCS_columns[0]],kde=False,label = 'DXCCS1')\n",
    "sns.distplot(check_sub_dxccs[DXCCS_columns[1]],kde=False,label = 'DXCCS2')\n",
    "plt.title('Histograms of DXCCS')"
   ]
  },
  {
   "cell_type": "code",
   "execution_count": 230,
   "metadata": {},
   "outputs": [
    {
     "data": {
      "text/html": [
       "<div>\n",
       "<style>\n",
       "    .dataframe thead tr:only-child th {\n",
       "        text-align: right;\n",
       "    }\n",
       "\n",
       "    .dataframe thead th {\n",
       "        text-align: left;\n",
       "    }\n",
       "\n",
       "    .dataframe tbody tr th {\n",
       "        vertical-align: top;\n",
       "    }\n",
       "</style>\n",
       "<table border=\"1\" class=\"dataframe\">\n",
       "  <thead>\n",
       "    <tr style=\"text-align: right;\">\n",
       "      <th></th>\n",
       "      <th>DXCCS1</th>\n",
       "      <th>DXCCS2</th>\n",
       "      <th>DXCCS3</th>\n",
       "      <th>DXCCS4</th>\n",
       "      <th>DXCCS5</th>\n",
       "      <th>DXCCS6</th>\n",
       "      <th>DXCCS7</th>\n",
       "      <th>DXCCS8</th>\n",
       "      <th>DXCCS9</th>\n",
       "      <th>DXCCS10</th>\n",
       "      <th>...</th>\n",
       "      <th>DXCCS16</th>\n",
       "      <th>DXCCS17</th>\n",
       "      <th>DXCCS18</th>\n",
       "      <th>DXCCS19</th>\n",
       "      <th>DXCCS20</th>\n",
       "      <th>DXCCS21</th>\n",
       "      <th>DXCCS22</th>\n",
       "      <th>DXCCS23</th>\n",
       "      <th>DXCCS24</th>\n",
       "      <th>DXCCS25</th>\n",
       "    </tr>\n",
       "  </thead>\n",
       "  <tbody>\n",
       "    <tr>\n",
       "      <th>0</th>\n",
       "      <td>2.0</td>\n",
       "      <td>157.0</td>\n",
       "      <td>199.0</td>\n",
       "      <td>52.0</td>\n",
       "      <td>4.0</td>\n",
       "      <td>237.0</td>\n",
       "      <td>159.0</td>\n",
       "      <td>82.0</td>\n",
       "      <td>55.0</td>\n",
       "      <td>161.0</td>\n",
       "      <td>...</td>\n",
       "      <td>199.0</td>\n",
       "      <td>201.0</td>\n",
       "      <td>199.0</td>\n",
       "      <td>NaN</td>\n",
       "      <td>NaN</td>\n",
       "      <td>NaN</td>\n",
       "      <td>NaN</td>\n",
       "      <td>NaN</td>\n",
       "      <td>NaN</td>\n",
       "      <td>NaN</td>\n",
       "    </tr>\n",
       "    <tr>\n",
       "      <th>1</th>\n",
       "      <td>131.0</td>\n",
       "      <td>2.0</td>\n",
       "      <td>244.0</td>\n",
       "      <td>52.0</td>\n",
       "      <td>108.0</td>\n",
       "      <td>55.0</td>\n",
       "      <td>81.0</td>\n",
       "      <td>133.0</td>\n",
       "      <td>108.0</td>\n",
       "      <td>155.0</td>\n",
       "      <td>...</td>\n",
       "      <td>49.0</td>\n",
       "      <td>140.0</td>\n",
       "      <td>138.0</td>\n",
       "      <td>NaN</td>\n",
       "      <td>NaN</td>\n",
       "      <td>NaN</td>\n",
       "      <td>NaN</td>\n",
       "      <td>NaN</td>\n",
       "      <td>NaN</td>\n",
       "      <td>NaN</td>\n",
       "    </tr>\n",
       "    <tr>\n",
       "      <th>2</th>\n",
       "      <td>145.0</td>\n",
       "      <td>2.0</td>\n",
       "      <td>2.0</td>\n",
       "      <td>4.0</td>\n",
       "      <td>244.0</td>\n",
       "      <td>52.0</td>\n",
       "      <td>131.0</td>\n",
       "      <td>122.0</td>\n",
       "      <td>122.0</td>\n",
       "      <td>97.0</td>\n",
       "      <td>...</td>\n",
       "      <td>237.0</td>\n",
       "      <td>3.0</td>\n",
       "      <td>250.0</td>\n",
       "      <td>NaN</td>\n",
       "      <td>NaN</td>\n",
       "      <td>NaN</td>\n",
       "      <td>NaN</td>\n",
       "      <td>NaN</td>\n",
       "      <td>NaN</td>\n",
       "      <td>NaN</td>\n",
       "    </tr>\n",
       "  </tbody>\n",
       "</table>\n",
       "<p>3 rows × 25 columns</p>\n",
       "</div>"
      ],
      "text/plain": [
       "   DXCCS1  DXCCS2  DXCCS3  DXCCS4  DXCCS5  DXCCS6  DXCCS7  DXCCS8  DXCCS9  \\\n",
       "0     2.0   157.0   199.0    52.0     4.0   237.0   159.0    82.0    55.0   \n",
       "1   131.0     2.0   244.0    52.0   108.0    55.0    81.0   133.0   108.0   \n",
       "2   145.0     2.0     2.0     4.0   244.0    52.0   131.0   122.0   122.0   \n",
       "\n",
       "   DXCCS10   ...     DXCCS16  DXCCS17  DXCCS18  DXCCS19  DXCCS20  DXCCS21  \\\n",
       "0    161.0   ...       199.0    201.0    199.0      NaN      NaN      NaN   \n",
       "1    155.0   ...        49.0    140.0    138.0      NaN      NaN      NaN   \n",
       "2     97.0   ...       237.0      3.0    250.0      NaN      NaN      NaN   \n",
       "\n",
       "   DXCCS22  DXCCS23  DXCCS24  DXCCS25  \n",
       "0      NaN      NaN      NaN      NaN  \n",
       "1      NaN      NaN      NaN      NaN  \n",
       "2      NaN      NaN      NaN      NaN  \n",
       "\n",
       "[3 rows x 25 columns]"
      ]
     },
     "execution_count": 230,
     "metadata": {},
     "output_type": "execute_result"
    }
   ],
   "source": [
    "sub_dxccs.head(3)"
   ]
  },
  {
   "cell_type": "code",
   "execution_count": 231,
   "metadata": {},
   "outputs": [
    {
     "data": {
      "text/html": [
       "<div>\n",
       "<style>\n",
       "    .dataframe thead tr:only-child th {\n",
       "        text-align: right;\n",
       "    }\n",
       "\n",
       "    .dataframe thead th {\n",
       "        text-align: left;\n",
       "    }\n",
       "\n",
       "    .dataframe tbody tr th {\n",
       "        vertical-align: top;\n",
       "    }\n",
       "</style>\n",
       "<table border=\"1\" class=\"dataframe\">\n",
       "  <thead>\n",
       "    <tr style=\"text-align: right;\">\n",
       "      <th></th>\n",
       "      <th>DXCCS1</th>\n",
       "      <th>DXCCS2</th>\n",
       "      <th>DXCCS3</th>\n",
       "      <th>DXCCS4</th>\n",
       "      <th>DXCCS5</th>\n",
       "      <th>DXCCS6</th>\n",
       "      <th>DXCCS7</th>\n",
       "      <th>DXCCS8</th>\n",
       "      <th>DXCCS9</th>\n",
       "      <th>DXCCS10</th>\n",
       "      <th>...</th>\n",
       "      <th>DXCCS16</th>\n",
       "      <th>DXCCS17</th>\n",
       "      <th>DXCCS18</th>\n",
       "      <th>DXCCS19</th>\n",
       "      <th>DXCCS20</th>\n",
       "      <th>DXCCS21</th>\n",
       "      <th>DXCCS22</th>\n",
       "      <th>DXCCS23</th>\n",
       "      <th>DXCCS24</th>\n",
       "      <th>DXCCS25</th>\n",
       "    </tr>\n",
       "  </thead>\n",
       "  <tbody>\n",
       "    <tr>\n",
       "      <th>count</th>\n",
       "      <td>494614.000000</td>\n",
       "      <td>476881.000000</td>\n",
       "      <td>443847.000000</td>\n",
       "      <td>408051.000000</td>\n",
       "      <td>370062.000000</td>\n",
       "      <td>332378.000000</td>\n",
       "      <td>295371.000000</td>\n",
       "      <td>257051.000000</td>\n",
       "      <td>216260.000000</td>\n",
       "      <td>183111.000000</td>\n",
       "      <td>...</td>\n",
       "      <td>42658.000000</td>\n",
       "      <td>36279.000000</td>\n",
       "      <td>30362.000000</td>\n",
       "      <td>21887.000000</td>\n",
       "      <td>18473.000000</td>\n",
       "      <td>15334.000000</td>\n",
       "      <td>12853.000000</td>\n",
       "      <td>10697.000000</td>\n",
       "      <td>8844.000000</td>\n",
       "      <td>7167.000000</td>\n",
       "    </tr>\n",
       "    <tr>\n",
       "      <th>mean</th>\n",
       "      <td>187.461629</td>\n",
       "      <td>175.566080</td>\n",
       "      <td>176.242498</td>\n",
       "      <td>177.519582</td>\n",
       "      <td>177.868671</td>\n",
       "      <td>179.305938</td>\n",
       "      <td>180.151382</td>\n",
       "      <td>182.413463</td>\n",
       "      <td>185.108679</td>\n",
       "      <td>187.173408</td>\n",
       "      <td>...</td>\n",
       "      <td>186.525224</td>\n",
       "      <td>186.027289</td>\n",
       "      <td>186.669686</td>\n",
       "      <td>186.072966</td>\n",
       "      <td>187.019542</td>\n",
       "      <td>187.479066</td>\n",
       "      <td>186.882829</td>\n",
       "      <td>187.033280</td>\n",
       "      <td>185.397671</td>\n",
       "      <td>188.868425</td>\n",
       "    </tr>\n",
       "    <tr>\n",
       "      <th>std</th>\n",
       "      <td>155.907248</td>\n",
       "      <td>167.161992</td>\n",
       "      <td>172.542415</td>\n",
       "      <td>176.530369</td>\n",
       "      <td>177.231804</td>\n",
       "      <td>176.759383</td>\n",
       "      <td>175.318495</td>\n",
       "      <td>174.267916</td>\n",
       "      <td>174.228084</td>\n",
       "      <td>173.788067</td>\n",
       "      <td>...</td>\n",
       "      <td>163.366787</td>\n",
       "      <td>160.917433</td>\n",
       "      <td>160.654779</td>\n",
       "      <td>157.358160</td>\n",
       "      <td>155.815065</td>\n",
       "      <td>152.667282</td>\n",
       "      <td>152.290813</td>\n",
       "      <td>152.145146</td>\n",
       "      <td>151.008098</td>\n",
       "      <td>151.754696</td>\n",
       "    </tr>\n",
       "    <tr>\n",
       "      <th>min</th>\n",
       "      <td>1.000000</td>\n",
       "      <td>1.000000</td>\n",
       "      <td>1.000000</td>\n",
       "      <td>1.000000</td>\n",
       "      <td>1.000000</td>\n",
       "      <td>1.000000</td>\n",
       "      <td>1.000000</td>\n",
       "      <td>1.000000</td>\n",
       "      <td>1.000000</td>\n",
       "      <td>1.000000</td>\n",
       "      <td>...</td>\n",
       "      <td>1.000000</td>\n",
       "      <td>1.000000</td>\n",
       "      <td>1.000000</td>\n",
       "      <td>1.000000</td>\n",
       "      <td>1.000000</td>\n",
       "      <td>1.000000</td>\n",
       "      <td>1.000000</td>\n",
       "      <td>1.000000</td>\n",
       "      <td>1.000000</td>\n",
       "      <td>1.000000</td>\n",
       "    </tr>\n",
       "    <tr>\n",
       "      <th>25%</th>\n",
       "      <td>106.000000</td>\n",
       "      <td>83.000000</td>\n",
       "      <td>79.000000</td>\n",
       "      <td>60.000000</td>\n",
       "      <td>59.000000</td>\n",
       "      <td>60.000000</td>\n",
       "      <td>63.000000</td>\n",
       "      <td>83.000000</td>\n",
       "      <td>84.000000</td>\n",
       "      <td>87.000000</td>\n",
       "      <td>...</td>\n",
       "      <td>95.000000</td>\n",
       "      <td>95.000000</td>\n",
       "      <td>95.000000</td>\n",
       "      <td>95.000000</td>\n",
       "      <td>95.000000</td>\n",
       "      <td>96.000000</td>\n",
       "      <td>96.000000</td>\n",
       "      <td>96.000000</td>\n",
       "      <td>95.000000</td>\n",
       "      <td>96.000000</td>\n",
       "    </tr>\n",
       "    <tr>\n",
       "      <th>50%</th>\n",
       "      <td>152.000000</td>\n",
       "      <td>130.000000</td>\n",
       "      <td>124.000000</td>\n",
       "      <td>117.000000</td>\n",
       "      <td>113.000000</td>\n",
       "      <td>115.000000</td>\n",
       "      <td>117.000000</td>\n",
       "      <td>120.000000</td>\n",
       "      <td>127.000000</td>\n",
       "      <td>128.000000</td>\n",
       "      <td>...</td>\n",
       "      <td>138.000000</td>\n",
       "      <td>138.000000</td>\n",
       "      <td>138.000000</td>\n",
       "      <td>140.000000</td>\n",
       "      <td>143.000000</td>\n",
       "      <td>154.000000</td>\n",
       "      <td>151.000000</td>\n",
       "      <td>151.000000</td>\n",
       "      <td>151.000000</td>\n",
       "      <td>155.000000</td>\n",
       "    </tr>\n",
       "    <tr>\n",
       "      <th>75%</th>\n",
       "      <td>218.000000</td>\n",
       "      <td>197.000000</td>\n",
       "      <td>199.000000</td>\n",
       "      <td>202.000000</td>\n",
       "      <td>204.000000</td>\n",
       "      <td>205.000000</td>\n",
       "      <td>210.000000</td>\n",
       "      <td>211.000000</td>\n",
       "      <td>238.000000</td>\n",
       "      <td>244.000000</td>\n",
       "      <td>...</td>\n",
       "      <td>253.000000</td>\n",
       "      <td>253.000000</td>\n",
       "      <td>253.000000</td>\n",
       "      <td>253.000000</td>\n",
       "      <td>257.000000</td>\n",
       "      <td>257.000000</td>\n",
       "      <td>257.000000</td>\n",
       "      <td>257.000000</td>\n",
       "      <td>257.000000</td>\n",
       "      <td>257.000000</td>\n",
       "    </tr>\n",
       "    <tr>\n",
       "      <th>max</th>\n",
       "      <td>670.000000</td>\n",
       "      <td>670.000000</td>\n",
       "      <td>670.000000</td>\n",
       "      <td>670.000000</td>\n",
       "      <td>670.000000</td>\n",
       "      <td>670.000000</td>\n",
       "      <td>670.000000</td>\n",
       "      <td>670.000000</td>\n",
       "      <td>670.000000</td>\n",
       "      <td>670.000000</td>\n",
       "      <td>...</td>\n",
       "      <td>670.000000</td>\n",
       "      <td>670.000000</td>\n",
       "      <td>670.000000</td>\n",
       "      <td>670.000000</td>\n",
       "      <td>670.000000</td>\n",
       "      <td>670.000000</td>\n",
       "      <td>670.000000</td>\n",
       "      <td>670.000000</td>\n",
       "      <td>670.000000</td>\n",
       "      <td>670.000000</td>\n",
       "    </tr>\n",
       "  </tbody>\n",
       "</table>\n",
       "<p>8 rows × 25 columns</p>\n",
       "</div>"
      ],
      "text/plain": [
       "              DXCCS1         DXCCS2         DXCCS3         DXCCS4  \\\n",
       "count  494614.000000  476881.000000  443847.000000  408051.000000   \n",
       "mean      187.461629     175.566080     176.242498     177.519582   \n",
       "std       155.907248     167.161992     172.542415     176.530369   \n",
       "min         1.000000       1.000000       1.000000       1.000000   \n",
       "25%       106.000000      83.000000      79.000000      60.000000   \n",
       "50%       152.000000     130.000000     124.000000     117.000000   \n",
       "75%       218.000000     197.000000     199.000000     202.000000   \n",
       "max       670.000000     670.000000     670.000000     670.000000   \n",
       "\n",
       "              DXCCS5         DXCCS6         DXCCS7         DXCCS8  \\\n",
       "count  370062.000000  332378.000000  295371.000000  257051.000000   \n",
       "mean      177.868671     179.305938     180.151382     182.413463   \n",
       "std       177.231804     176.759383     175.318495     174.267916   \n",
       "min         1.000000       1.000000       1.000000       1.000000   \n",
       "25%        59.000000      60.000000      63.000000      83.000000   \n",
       "50%       113.000000     115.000000     117.000000     120.000000   \n",
       "75%       204.000000     205.000000     210.000000     211.000000   \n",
       "max       670.000000     670.000000     670.000000     670.000000   \n",
       "\n",
       "              DXCCS9        DXCCS10     ...            DXCCS16       DXCCS17  \\\n",
       "count  216260.000000  183111.000000     ...       42658.000000  36279.000000   \n",
       "mean      185.108679     187.173408     ...         186.525224    186.027289   \n",
       "std       174.228084     173.788067     ...         163.366787    160.917433   \n",
       "min         1.000000       1.000000     ...           1.000000      1.000000   \n",
       "25%        84.000000      87.000000     ...          95.000000     95.000000   \n",
       "50%       127.000000     128.000000     ...         138.000000    138.000000   \n",
       "75%       238.000000     244.000000     ...         253.000000    253.000000   \n",
       "max       670.000000     670.000000     ...         670.000000    670.000000   \n",
       "\n",
       "            DXCCS18       DXCCS19       DXCCS20       DXCCS21       DXCCS22  \\\n",
       "count  30362.000000  21887.000000  18473.000000  15334.000000  12853.000000   \n",
       "mean     186.669686    186.072966    187.019542    187.479066    186.882829   \n",
       "std      160.654779    157.358160    155.815065    152.667282    152.290813   \n",
       "min        1.000000      1.000000      1.000000      1.000000      1.000000   \n",
       "25%       95.000000     95.000000     95.000000     96.000000     96.000000   \n",
       "50%      138.000000    140.000000    143.000000    154.000000    151.000000   \n",
       "75%      253.000000    253.000000    257.000000    257.000000    257.000000   \n",
       "max      670.000000    670.000000    670.000000    670.000000    670.000000   \n",
       "\n",
       "            DXCCS23      DXCCS24      DXCCS25  \n",
       "count  10697.000000  8844.000000  7167.000000  \n",
       "mean     187.033280   185.397671   188.868425  \n",
       "std      152.145146   151.008098   151.754696  \n",
       "min        1.000000     1.000000     1.000000  \n",
       "25%       96.000000    95.000000    96.000000  \n",
       "50%      151.000000   151.000000   155.000000  \n",
       "75%      257.000000   257.000000   257.000000  \n",
       "max      670.000000   670.000000   670.000000  \n",
       "\n",
       "[8 rows x 25 columns]"
      ]
     },
     "execution_count": 231,
     "metadata": {},
     "output_type": "execute_result"
    }
   ],
   "source": [
    "sub_dxccs.describe()"
   ]
  },
  {
   "cell_type": "code",
   "execution_count": 227,
   "metadata": {},
   "outputs": [
    {
     "data": {
      "image/png": "[encoded data removed]",
      "text/plain": [
       "<matplotlib.figure.Figure at 0x152c976a0>"
      ]
     },
     "metadata": {},
     "output_type": "display_data"
    }
   ],
   "source": [
    "# print the heatmap of feature correlations\n",
    "target = DXCCS_columns[:5]\n",
    "source = DXCCS_columns[:10]\n",
    "PRDAY_columns_correlation = correlation_analysis(target, source)"
   ]
  },
  {
   "cell_type": "markdown",
   "metadata": {},
   "source": [
    "## PRCCS_columns"
   ]
  },
  {
   "cell_type": "code",
   "execution_count": 225,
   "metadata": {},
   "outputs": [
    {
     "name": "stdout",
     "output_type": "stream",
     "text": [
      "Listing PRCCS columns...\n",
      "['PRCCS1', 'PRCCS2', 'PRCCS3', 'PRCCS4', 'PRCCS5', 'PRCCS6', 'PRCCS7', 'PRCCS8', 'PRCCS9', 'PRCCS10', 'PRCCS11', 'PRCCS12', 'PRCCS13', 'PRCCS14', 'PRCCS15']\n",
      "The shape of the subset is: (494932, 15)\n",
      "The number of missing value for PRCCS1 is: 196207 , 39.64 %\n",
      "The number of missing value for PRCCS2 is: 322883 , 65.24 %\n",
      "The number of missing value for PRCCS3 is: 394778 , 79.76 %\n",
      "The number of missing value for PRCCS4 is: 432450 , 87.38 %\n",
      "The number of missing value for PRCCS5 is: 453259 , 91.58 %\n",
      "The number of missing value for PRCCS6 is: 466793 , 94.31 %\n",
      "The number of missing value for PRCCS7 is: 476734 , 96.32 %\n",
      "The number of missing value for PRCCS8 is: 483075 , 97.60 %\n",
      "The number of missing value for PRCCS9 is: 487261 , 98.45 %\n",
      "The number of missing value for PRCCS10 is: 489548 , 98.91 %\n",
      "The number of missing value for PRCCS11 is: 491072 , 99.22 %\n",
      "The number of missing value for PRCCS12 is: 492177 , 99.44 %\n",
      "The number of missing value for PRCCS13 is: 492850 , 99.58 %\n",
      "The number of missing value for PRCCS14 is: 493363 , 99.68 %\n",
      "The number of missing value for PRCCS15 is: 493780 , 99.77 %\n"
     ]
    }
   ],
   "source": [
    "sub_prccs = df.loc[:,PRCCS_columns]\n",
    "print('Listing PRCCS columns...')\n",
    "print(PRCCS_columns)\n",
    "print('The shape of the subset is:',sub_prccs.shape)\n",
    "# checking missing values\n",
    "missing_prccs = checking_missing(sub_prccs,False)"
   ]
  },
  {
   "cell_type": "code",
   "execution_count": 233,
   "metadata": {},
   "outputs": [
    {
     "data": {
      "text/html": [
       "<div>\n",
       "<style>\n",
       "    .dataframe thead tr:only-child th {\n",
       "        text-align: right;\n",
       "    }\n",
       "\n",
       "    .dataframe thead th {\n",
       "        text-align: left;\n",
       "    }\n",
       "\n",
       "    .dataframe tbody tr th {\n",
       "        vertical-align: top;\n",
       "    }\n",
       "</style>\n",
       "<table border=\"1\" class=\"dataframe\">\n",
       "  <thead>\n",
       "    <tr style=\"text-align: right;\">\n",
       "      <th></th>\n",
       "      <th>PRCCS1</th>\n",
       "      <th>PRCCS2</th>\n",
       "      <th>PRCCS3</th>\n",
       "      <th>PRCCS4</th>\n",
       "      <th>PRCCS5</th>\n",
       "      <th>PRCCS6</th>\n",
       "      <th>PRCCS7</th>\n",
       "      <th>PRCCS8</th>\n",
       "      <th>PRCCS9</th>\n",
       "      <th>PRCCS10</th>\n",
       "      <th>PRCCS11</th>\n",
       "      <th>PRCCS12</th>\n",
       "      <th>PRCCS13</th>\n",
       "      <th>PRCCS14</th>\n",
       "      <th>PRCCS15</th>\n",
       "    </tr>\n",
       "  </thead>\n",
       "  <tbody>\n",
       "    <tr>\n",
       "      <th>0</th>\n",
       "      <td>103.0</td>\n",
       "      <td>54.0</td>\n",
       "      <td>70.0</td>\n",
       "      <td>71.0</td>\n",
       "      <td>223.0</td>\n",
       "      <td>222.0</td>\n",
       "      <td>223.0</td>\n",
       "      <td>NaN</td>\n",
       "      <td>NaN</td>\n",
       "      <td>NaN</td>\n",
       "      <td>NaN</td>\n",
       "      <td>NaN</td>\n",
       "      <td>NaN</td>\n",
       "      <td>NaN</td>\n",
       "      <td>NaN</td>\n",
       "    </tr>\n",
       "    <tr>\n",
       "      <th>1</th>\n",
       "      <td>34.0</td>\n",
       "      <td>37.0</td>\n",
       "      <td>216.0</td>\n",
       "      <td>223.0</td>\n",
       "      <td>216.0</td>\n",
       "      <td>216.0</td>\n",
       "      <td>70.0</td>\n",
       "      <td>71.0</td>\n",
       "      <td>NaN</td>\n",
       "      <td>NaN</td>\n",
       "      <td>NaN</td>\n",
       "      <td>NaN</td>\n",
       "      <td>NaN</td>\n",
       "      <td>NaN</td>\n",
       "      <td>NaN</td>\n",
       "    </tr>\n",
       "    <tr>\n",
       "      <th>2</th>\n",
       "      <td>223.0</td>\n",
       "      <td>223.0</td>\n",
       "      <td>54.0</td>\n",
       "      <td>216.0</td>\n",
       "      <td>222.0</td>\n",
       "      <td>54.0</td>\n",
       "      <td>NaN</td>\n",
       "      <td>NaN</td>\n",
       "      <td>NaN</td>\n",
       "      <td>NaN</td>\n",
       "      <td>NaN</td>\n",
       "      <td>NaN</td>\n",
       "      <td>NaN</td>\n",
       "      <td>NaN</td>\n",
       "      <td>NaN</td>\n",
       "    </tr>\n",
       "    <tr>\n",
       "      <th>3</th>\n",
       "      <td>222.0</td>\n",
       "      <td>174.0</td>\n",
       "      <td>65.0</td>\n",
       "      <td>54.0</td>\n",
       "      <td>NaN</td>\n",
       "      <td>NaN</td>\n",
       "      <td>NaN</td>\n",
       "      <td>NaN</td>\n",
       "      <td>NaN</td>\n",
       "      <td>NaN</td>\n",
       "      <td>NaN</td>\n",
       "      <td>NaN</td>\n",
       "      <td>NaN</td>\n",
       "      <td>NaN</td>\n",
       "      <td>NaN</td>\n",
       "    </tr>\n",
       "    <tr>\n",
       "      <th>4</th>\n",
       "      <td>216.0</td>\n",
       "      <td>216.0</td>\n",
       "      <td>223.0</td>\n",
       "      <td>222.0</td>\n",
       "      <td>37.0</td>\n",
       "      <td>37.0</td>\n",
       "      <td>54.0</td>\n",
       "      <td>70.0</td>\n",
       "      <td>NaN</td>\n",
       "      <td>NaN</td>\n",
       "      <td>NaN</td>\n",
       "      <td>NaN</td>\n",
       "      <td>NaN</td>\n",
       "      <td>NaN</td>\n",
       "      <td>NaN</td>\n",
       "    </tr>\n",
       "  </tbody>\n",
       "</table>\n",
       "</div>"
      ],
      "text/plain": [
       "   PRCCS1  PRCCS2  PRCCS3  PRCCS4  PRCCS5  PRCCS6  PRCCS7  PRCCS8  PRCCS9  \\\n",
       "0   103.0    54.0    70.0    71.0   223.0   222.0   223.0     NaN     NaN   \n",
       "1    34.0    37.0   216.0   223.0   216.0   216.0    70.0    71.0     NaN   \n",
       "2   223.0   223.0    54.0   216.0   222.0    54.0     NaN     NaN     NaN   \n",
       "3   222.0   174.0    65.0    54.0     NaN     NaN     NaN     NaN     NaN   \n",
       "4   216.0   216.0   223.0   222.0    37.0    37.0    54.0    70.0     NaN   \n",
       "\n",
       "   PRCCS10  PRCCS11  PRCCS12  PRCCS13  PRCCS14  PRCCS15  \n",
       "0      NaN      NaN      NaN      NaN      NaN      NaN  \n",
       "1      NaN      NaN      NaN      NaN      NaN      NaN  \n",
       "2      NaN      NaN      NaN      NaN      NaN      NaN  \n",
       "3      NaN      NaN      NaN      NaN      NaN      NaN  \n",
       "4      NaN      NaN      NaN      NaN      NaN      NaN  "
      ]
     },
     "execution_count": 233,
     "metadata": {},
     "output_type": "execute_result"
    }
   ],
   "source": [
    "sub_prccs.head(5)"
   ]
  },
  {
   "cell_type": "code",
   "execution_count": 234,
   "metadata": {},
   "outputs": [
    {
     "data": {
      "text/html": [
       "<div>\n",
       "<style>\n",
       "    .dataframe thead tr:only-child th {\n",
       "        text-align: right;\n",
       "    }\n",
       "\n",
       "    .dataframe thead th {\n",
       "        text-align: left;\n",
       "    }\n",
       "\n",
       "    .dataframe tbody tr th {\n",
       "        vertical-align: top;\n",
       "    }\n",
       "</style>\n",
       "<table border=\"1\" class=\"dataframe\">\n",
       "  <thead>\n",
       "    <tr style=\"text-align: right;\">\n",
       "      <th></th>\n",
       "      <th>PRCCS1</th>\n",
       "      <th>PRCCS2</th>\n",
       "      <th>PRCCS3</th>\n",
       "      <th>PRCCS4</th>\n",
       "      <th>PRCCS5</th>\n",
       "      <th>PRCCS6</th>\n",
       "      <th>PRCCS7</th>\n",
       "      <th>PRCCS8</th>\n",
       "      <th>PRCCS9</th>\n",
       "      <th>PRCCS10</th>\n",
       "      <th>PRCCS11</th>\n",
       "      <th>PRCCS12</th>\n",
       "      <th>PRCCS13</th>\n",
       "      <th>PRCCS14</th>\n",
       "      <th>PRCCS15</th>\n",
       "    </tr>\n",
       "  </thead>\n",
       "  <tbody>\n",
       "    <tr>\n",
       "      <th>count</th>\n",
       "      <td>298725.000000</td>\n",
       "      <td>172049.000000</td>\n",
       "      <td>100154.000000</td>\n",
       "      <td>62482.000000</td>\n",
       "      <td>41673.000000</td>\n",
       "      <td>28139.000000</td>\n",
       "      <td>18198.000000</td>\n",
       "      <td>11857.000000</td>\n",
       "      <td>7671.000000</td>\n",
       "      <td>5384.000000</td>\n",
       "      <td>3860.000000</td>\n",
       "      <td>2755.000000</td>\n",
       "      <td>2082.000000</td>\n",
       "      <td>1569.000000</td>\n",
       "      <td>1152.000000</td>\n",
       "    </tr>\n",
       "    <tr>\n",
       "      <th>mean</th>\n",
       "      <td>137.754949</td>\n",
       "      <td>139.183988</td>\n",
       "      <td>140.849612</td>\n",
       "      <td>146.648043</td>\n",
       "      <td>150.211384</td>\n",
       "      <td>153.949074</td>\n",
       "      <td>161.598362</td>\n",
       "      <td>173.311968</td>\n",
       "      <td>176.215226</td>\n",
       "      <td>176.389487</td>\n",
       "      <td>175.062953</td>\n",
       "      <td>175.192377</td>\n",
       "      <td>175.225744</td>\n",
       "      <td>172.491396</td>\n",
       "      <td>177.026910</td>\n",
       "    </tr>\n",
       "    <tr>\n",
       "      <th>std</th>\n",
       "      <td>65.375120</td>\n",
       "      <td>70.385670</td>\n",
       "      <td>73.751754</td>\n",
       "      <td>75.363490</td>\n",
       "      <td>77.543213</td>\n",
       "      <td>78.051593</td>\n",
       "      <td>77.055560</td>\n",
       "      <td>73.054444</td>\n",
       "      <td>71.752044</td>\n",
       "      <td>71.762015</td>\n",
       "      <td>72.897774</td>\n",
       "      <td>72.347518</td>\n",
       "      <td>72.257575</td>\n",
       "      <td>73.729546</td>\n",
       "      <td>70.742765</td>\n",
       "    </tr>\n",
       "    <tr>\n",
       "      <th>min</th>\n",
       "      <td>1.000000</td>\n",
       "      <td>1.000000</td>\n",
       "      <td>1.000000</td>\n",
       "      <td>1.000000</td>\n",
       "      <td>1.000000</td>\n",
       "      <td>1.000000</td>\n",
       "      <td>1.000000</td>\n",
       "      <td>1.000000</td>\n",
       "      <td>2.000000</td>\n",
       "      <td>1.000000</td>\n",
       "      <td>1.000000</td>\n",
       "      <td>2.000000</td>\n",
       "      <td>1.000000</td>\n",
       "      <td>1.000000</td>\n",
       "      <td>3.000000</td>\n",
       "    </tr>\n",
       "    <tr>\n",
       "      <th>25%</th>\n",
       "      <td>80.000000</td>\n",
       "      <td>70.000000</td>\n",
       "      <td>61.000000</td>\n",
       "      <td>61.000000</td>\n",
       "      <td>61.000000</td>\n",
       "      <td>61.000000</td>\n",
       "      <td>61.000000</td>\n",
       "      <td>99.000000</td>\n",
       "      <td>124.500000</td>\n",
       "      <td>142.000000</td>\n",
       "      <td>108.000000</td>\n",
       "      <td>108.000000</td>\n",
       "      <td>111.000000</td>\n",
       "      <td>98.000000</td>\n",
       "      <td>160.000000</td>\n",
       "    </tr>\n",
       "    <tr>\n",
       "      <th>50%</th>\n",
       "      <td>140.000000</td>\n",
       "      <td>140.000000</td>\n",
       "      <td>142.000000</td>\n",
       "      <td>161.000000</td>\n",
       "      <td>178.000000</td>\n",
       "      <td>191.000000</td>\n",
       "      <td>204.000000</td>\n",
       "      <td>216.000000</td>\n",
       "      <td>216.000000</td>\n",
       "      <td>216.000000</td>\n",
       "      <td>216.000000</td>\n",
       "      <td>216.000000</td>\n",
       "      <td>216.000000</td>\n",
       "      <td>216.000000</td>\n",
       "      <td>216.000000</td>\n",
       "    </tr>\n",
       "    <tr>\n",
       "      <th>75%</th>\n",
       "      <td>203.000000</td>\n",
       "      <td>216.000000</td>\n",
       "      <td>219.000000</td>\n",
       "      <td>222.000000</td>\n",
       "      <td>223.000000</td>\n",
       "      <td>226.000000</td>\n",
       "      <td>231.000000</td>\n",
       "      <td>231.000000</td>\n",
       "      <td>231.000000</td>\n",
       "      <td>231.000000</td>\n",
       "      <td>231.000000</td>\n",
       "      <td>231.000000</td>\n",
       "      <td>231.000000</td>\n",
       "      <td>228.000000</td>\n",
       "      <td>228.000000</td>\n",
       "    </tr>\n",
       "    <tr>\n",
       "      <th>max</th>\n",
       "      <td>231.000000</td>\n",
       "      <td>231.000000</td>\n",
       "      <td>231.000000</td>\n",
       "      <td>231.000000</td>\n",
       "      <td>231.000000</td>\n",
       "      <td>231.000000</td>\n",
       "      <td>231.000000</td>\n",
       "      <td>231.000000</td>\n",
       "      <td>231.000000</td>\n",
       "      <td>231.000000</td>\n",
       "      <td>231.000000</td>\n",
       "      <td>231.000000</td>\n",
       "      <td>231.000000</td>\n",
       "      <td>231.000000</td>\n",
       "      <td>231.000000</td>\n",
       "    </tr>\n",
       "  </tbody>\n",
       "</table>\n",
       "</div>"
      ],
      "text/plain": [
       "              PRCCS1         PRCCS2         PRCCS3        PRCCS4  \\\n",
       "count  298725.000000  172049.000000  100154.000000  62482.000000   \n",
       "mean      137.754949     139.183988     140.849612    146.648043   \n",
       "std        65.375120      70.385670      73.751754     75.363490   \n",
       "min         1.000000       1.000000       1.000000      1.000000   \n",
       "25%        80.000000      70.000000      61.000000     61.000000   \n",
       "50%       140.000000     140.000000     142.000000    161.000000   \n",
       "75%       203.000000     216.000000     219.000000    222.000000   \n",
       "max       231.000000     231.000000     231.000000    231.000000   \n",
       "\n",
       "             PRCCS5        PRCCS6        PRCCS7        PRCCS8       PRCCS9  \\\n",
       "count  41673.000000  28139.000000  18198.000000  11857.000000  7671.000000   \n",
       "mean     150.211384    153.949074    161.598362    173.311968   176.215226   \n",
       "std       77.543213     78.051593     77.055560     73.054444    71.752044   \n",
       "min        1.000000      1.000000      1.000000      1.000000     2.000000   \n",
       "25%       61.000000     61.000000     61.000000     99.000000   124.500000   \n",
       "50%      178.000000    191.000000    204.000000    216.000000   216.000000   \n",
       "75%      223.000000    226.000000    231.000000    231.000000   231.000000   \n",
       "max      231.000000    231.000000    231.000000    231.000000   231.000000   \n",
       "\n",
       "           PRCCS10      PRCCS11      PRCCS12      PRCCS13      PRCCS14  \\\n",
       "count  5384.000000  3860.000000  2755.000000  2082.000000  1569.000000   \n",
       "mean    176.389487   175.062953   175.192377   175.225744   172.491396   \n",
       "std      71.762015    72.897774    72.347518    72.257575    73.729546   \n",
       "min       1.000000     1.000000     2.000000     1.000000     1.000000   \n",
       "25%     142.000000   108.000000   108.000000   111.000000    98.000000   \n",
       "50%     216.000000   216.000000   216.000000   216.000000   216.000000   \n",
       "75%     231.000000   231.000000   231.000000   231.000000   228.000000   \n",
       "max     231.000000   231.000000   231.000000   231.000000   231.000000   \n",
       "\n",
       "           PRCCS15  \n",
       "count  1152.000000  \n",
       "mean    177.026910  \n",
       "std      70.742765  \n",
       "min       3.000000  \n",
       "25%     160.000000  \n",
       "50%     216.000000  \n",
       "75%     228.000000  \n",
       "max     231.000000  "
      ]
     },
     "execution_count": 234,
     "metadata": {},
     "output_type": "execute_result"
    }
   ],
   "source": [
    "sub_prccs.describe()"
   ]
  },
  {
   "cell_type": "code",
   "execution_count": 235,
   "metadata": {},
   "outputs": [
    {
     "name": "stderr",
     "output_type": "stream",
     "text": [
      "/Users/Shuyuan/anaconda/lib/python3.6/site-packages/statsmodels/nonparametric/kde.py:454: RuntimeWarning: invalid value encountered in greater\n",
      "  X = X[np.logical_and(X>clip[0], X<clip[1])] # won't work for two columns.\n",
      "/Users/Shuyuan/anaconda/lib/python3.6/site-packages/statsmodels/nonparametric/kde.py:454: RuntimeWarning: invalid value encountered in less\n",
      "  X = X[np.logical_and(X>clip[0], X<clip[1])] # won't work for two columns.\n"
     ]
    },
    {
     "data": {
      "image/png": "[encoded data removed]",
      "text/plain": [
       "<matplotlib.figure.Figure at 0x1620d4ba8>"
      ]
     },
     "metadata": {},
     "output_type": "display_data"
    }
   ],
   "source": [
    "sns.kdeplot(df[PRCCS_columns[0]],label = 'PRCCS1')\n",
    "sns.kdeplot(df[PRCCS_columns[1]],label = 'PRCCS2')\n",
    "sns.kdeplot(df[PRCCS_columns[2]],label = 'PRCCS3')\n",
    "sns.kdeplot(df[PRCCS_columns[3]],label = 'PRCCS4')\n",
    "sns.kdeplot(df[PRCCS_columns[4]],label = 'PRCCS5')\n",
    "plt.legend();"
   ]
  },
  {
   "cell_type": "code",
   "execution_count": 228,
   "metadata": {},
   "outputs": [
    {
     "data": {
      "image/png": "[encoded data removed]",
      "text/plain": [
       "<matplotlib.figure.Figure at 0x113ea5ac8>"
      ]
     },
     "metadata": {},
     "output_type": "display_data"
    }
   ],
   "source": [
    "# print the heatmap of feature correlations\n",
    "target = PRCCS_columns[:5]\n",
    "source = PRCCS_columns[:10]\n",
    "PRCCS_columns_correlation = correlation_analysis(target, source)"
   ]
  },
  {
   "cell_type": "markdown",
   "metadata": {},
   "source": [
    "## CM_columns"
   ]
  },
  {
   "cell_type": "code",
   "execution_count": 192,
   "metadata": {},
   "outputs": [
    {
     "name": "stdout",
     "output_type": "stream",
     "text": [
      "Listing CM columns...\n",
      "['CM_AIDS', 'CM_ALCOHOL', 'CM_ANEMDEF', 'CM_ARTH', 'CM_BLDLOSS', 'CM_CHF', 'CM_CHRNLUNG', 'CM_COAG', 'CM_DEPRESS', 'CM_DM', 'CM_DMCX', 'CM_DRUG', 'CM_HTN_C', 'CM_HYPOTHY', 'CM_LIVER', 'CM_LYMPH', 'CM_LYTES', 'CM_METS', 'CM_NEURO', 'CM_OBESE', 'CM_PARA', 'CM_PERIVASC', 'CM_PSYCH', 'CM_PULMCIRC', 'CM_RENLFAIL', 'CM_TUMOR', 'CM_ULCER', 'CM_VALVE', 'CM_WGHTLOSS']\n",
      "The shape of the subset is: (494932, 29)\n",
      "There is no missing value...\n"
     ]
    }
   ],
   "source": [
    "sub_cm = df.loc[:,CM_columns]\n",
    "print('Listing CM columns...')\n",
    "print(CM_columns)\n",
    "print('The shape of the subset is:',sub_cm.shape)\n",
    "# checking missing values\n",
    "missing_cm = checking_missing(sub_cm,False)"
   ]
  },
  {
   "cell_type": "code",
   "execution_count": 194,
   "metadata": {},
   "outputs": [
    {
     "data": {
      "image/png": "[encoded data removed]",
      "text/plain": [
       "<matplotlib.figure.Figure at 0x161ec7be0>"
      ]
     },
     "metadata": {},
     "output_type": "display_data"
    }
   ],
   "source": [
    "# print the heatmap of feature correlations\n",
    "target = ['ASOURCE','ATYPE','RACE','TOTCHG','ZIPINC_QRTL']\n",
    "source = CM_columns\n",
    "CM_columns_correlation = correlation_analysis(target, source)"
   ]
  },
  {
   "cell_type": "code",
   "execution_count": null,
   "metadata": {
    "collapsed": true
   },
   "outputs": [],
   "source": []
  },
  {
   "cell_type": "code",
   "execution_count": null,
   "metadata": {
    "collapsed": true
   },
   "outputs": [],
   "source": []
  }
 ],
 "metadata": {
  "kernelspec": {
   "display_name": "Python 3",
   "language": "python",
   "name": "python3"
  },
  "language_info": {
   "codemirror_mode": {
    "name": "ipython",
    "version": 3
   },
   "file_extension": ".py",
   "mimetype": "text/x-python",
   "name": "python",
   "nbconvert_exporter": "python",
   "pygments_lexer": "ipython3",
   "version": "3.6.1"
  }
 },
 "nbformat": 4,
 "nbformat_minor": 2
}
